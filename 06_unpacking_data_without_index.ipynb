{
 "cells": [
  {
   "cell_type": "code",
   "execution_count": 2,
   "metadata": {},
   "outputs": [
    {
     "name": "stdout",
     "output_type": "stream",
     "text": [
      "#1: 베이컨은 350 칼로리 입니다\n",
      "#2: 도넛은 240 칼로리 입니다\n",
      "#3: 머핀은 190 칼로리 입니다\n",
      "#3: 베이컨은 350 칼로리 입니다\n",
      "#3: 도넛은 240 칼로리 입니다\n",
      "#3: 머핀은 190 칼로리 입니다\n"
     ]
    }
   ],
   "source": [
    "snacks = [('베이컨', 350), ('도넛', 240), ('머핀', 190)]\n",
    "for i in range(len(snacks)):\n",
    "    item = snacks[i]\n",
    "    name = item[0]\n",
    "    calories = item[1]\n",
    "    print(f'#{i+1}: {name}은 {calories} 칼로리 입니다')\n",
    "    \n",
    "# Same outputs    \n",
    "for item, (name, calories) in enumerate(snacks):\n",
    "    print(f'#{i+1}: {name}은 {calories} 칼로리 입니다')\n",
    "    \n",
    "    \n"
   ]
  }
 ],
 "metadata": {
  "kernelspec": {
   "display_name": "DL",
   "language": "python",
   "name": "python3"
  },
  "language_info": {
   "codemirror_mode": {
    "name": "ipython",
    "version": 3
   },
   "file_extension": ".py",
   "mimetype": "text/x-python",
   "name": "python",
   "nbconvert_exporter": "python",
   "pygments_lexer": "ipython3",
   "version": "3.9.16"
  },
  "orig_nbformat": 4
 },
 "nbformat": 4,
 "nbformat_minor": 2
}
