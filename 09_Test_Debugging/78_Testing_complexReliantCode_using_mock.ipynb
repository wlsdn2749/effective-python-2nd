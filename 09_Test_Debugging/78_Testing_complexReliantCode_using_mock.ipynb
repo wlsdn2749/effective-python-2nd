{
 "cells": [
  {
   "cell_type": "markdown",
   "metadata": {},
   "source": [
    "데이터 베이스를 실행하여 테스트 하는 경우 \n",
    "\n",
    "너무 많은 작업이 소요된다. \n",
    "\n",
    "DB 서버를 기동하려면 실제로 많은 시간이 소요되기 때문에 단위 테스트 진행이 오래걸리고 테스트 관리가 어려워질 수 있다"
   ]
  },
  {
   "cell_type": "code",
   "execution_count": 4,
   "metadata": {},
   "outputs": [],
   "source": [
    "class DatabaseConnection:\n",
    "    def __init__(self, host, port):\n",
    "        pass\n",
    "\n",
    "\n",
    "def get_animals(database, species):\n",
    "    # 데이터베이스에 질의한다\n",
    "    ...\n",
    "    # (이름, 급양시간) 튜플 리스트를 반환한다\n",
    "\n",
    "database = DatabaseConnection('localhost', '4444')\n",
    "\n",
    "get_animals(database, '미어캣')"
   ]
  },
  {
   "cell_type": "code",
   "execution_count": 5,
   "metadata": {},
   "outputs": [],
   "source": [
    "from datetime import datetime\n",
    "from unittest.mock import Mock\n",
    "\n",
    "def get_animals(database, species):\n",
    "    # 데이터베이스에 질의한다\n",
    "    ...\n",
    "    # (이름, 급양시간) 튜플 리스트를 반환한다\n",
    "    return [(\"\", datetime(2020,1,1,1,1,1))]\n",
    "\n",
    "\n",
    "mock = Mock(spec=get_animals) # 목이 자공을 흉내 내야하는 대상\n",
    "expected = [\n",
    "    ('점박이', datetime(2020, 6, 5, 11, 15)),\n",
    "    ('털보', datetime(2020, 6, 5, 12, 30)),\n",
    "    ('조조', datetime(2020, 6, 5, 12, 45)),\n",
    "]"
   ]
  },
  {
   "cell_type": "code",
   "execution_count": 6,
   "metadata": {},
   "outputs": [
    {
     "ename": "AssertionError",
     "evalue": "",
     "output_type": "error",
     "traceback": [
      "\u001b[0;31m---------------------------------------------------------------------------\u001b[0m",
      "\u001b[0;31mAssertionError\u001b[0m                            Traceback (most recent call last)",
      "\u001b[1;32m/workspace/effective_python_2nd/09_Test_Debugging/78_Testing_complexReliantCode_using_mock.ipynb 셀 4\u001b[0m line \u001b[0;36m3\n\u001b[1;32m      <a href='vscode-notebook-cell://ssh-remote%2Bmain/workspace/effective_python_2nd/09_Test_Debugging/78_Testing_complexReliantCode_using_mock.ipynb#W5sdnNjb2RlLXJlbW90ZQ%3D%3D?line=0'>1</a>\u001b[0m database \u001b[39m=\u001b[39m \u001b[39mobject\u001b[39m()\n\u001b[1;32m      <a href='vscode-notebook-cell://ssh-remote%2Bmain/workspace/effective_python_2nd/09_Test_Debugging/78_Testing_complexReliantCode_using_mock.ipynb#W5sdnNjb2RlLXJlbW90ZQ%3D%3D?line=1'>2</a>\u001b[0m result \u001b[39m=\u001b[39m mock(database, \u001b[39m'\u001b[39m\u001b[39m미어캣\u001b[39m\u001b[39m'\u001b[39m)\n\u001b[0;32m----> <a href='vscode-notebook-cell://ssh-remote%2Bmain/workspace/effective_python_2nd/09_Test_Debugging/78_Testing_complexReliantCode_using_mock.ipynb#W5sdnNjb2RlLXJlbW90ZQ%3D%3D?line=2'>3</a>\u001b[0m \u001b[39massert\u001b[39;00m result \u001b[39m==\u001b[39m expected\n",
      "\u001b[0;31mAssertionError\u001b[0m: "
     ]
    }
   ],
   "source": [
    "database = object()\n",
    "result = mock(database, '미어캣')\n",
    "assert result == expected"
   ]
  },
  {
   "cell_type": "markdown",
   "metadata": {},
   "source": [
    "목을 호출한 뒤에 코드가 제대로 인자를 목에게 전달했는지 아는 방법"
   ]
  },
  {
   "cell_type": "code",
   "execution_count": 9,
   "metadata": {},
   "outputs": [
    {
     "ename": "AssertionError",
     "evalue": "expected call not found.\nExpected: mock(<object object at 0x7fd181658a20>, '기린')\nActual: mock(<object object at 0x7fd181658a20>, '미어캣')",
     "output_type": "error",
     "traceback": [
      "\u001b[0;31m---------------------------------------------------------------------------\u001b[0m",
      "\u001b[0;31mAssertionError\u001b[0m                            Traceback (most recent call last)",
      "\u001b[1;32m/workspace/effective_python_2nd/09_Test_Debugging/78_Testing_complexReliantCode_using_mock.ipynb 셀 6\u001b[0m line \u001b[0;36m3\n\u001b[1;32m      <a href='vscode-notebook-cell://ssh-remote%2Bmain/workspace/effective_python_2nd/09_Test_Debugging/78_Testing_complexReliantCode_using_mock.ipynb#X11sdnNjb2RlLXJlbW90ZQ%3D%3D?line=0'>1</a>\u001b[0m mock\u001b[39m.\u001b[39massert_called_once_with(database, \u001b[39m'\u001b[39m\u001b[39m미어캣\u001b[39m\u001b[39m'\u001b[39m)\n\u001b[0;32m----> <a href='vscode-notebook-cell://ssh-remote%2Bmain/workspace/effective_python_2nd/09_Test_Debugging/78_Testing_complexReliantCode_using_mock.ipynb#X11sdnNjb2RlLXJlbW90ZQ%3D%3D?line=2'>3</a>\u001b[0m mock\u001b[39m.\u001b[39;49massert_called_once_with(database, \u001b[39m'\u001b[39;49m\u001b[39m기린\u001b[39;49m\u001b[39m'\u001b[39;49m)\n",
      "File \u001b[0;32m~/anaconda3/envs/as/lib/python3.10/unittest/mock.py:941\u001b[0m, in \u001b[0;36mNonCallableMock.assert_called_once_with\u001b[0;34m(self, *args, **kwargs)\u001b[0m\n\u001b[1;32m    936\u001b[0m     msg \u001b[39m=\u001b[39m (\u001b[39m\"\u001b[39m\u001b[39mExpected \u001b[39m\u001b[39m'\u001b[39m\u001b[39m%s\u001b[39;00m\u001b[39m'\u001b[39m\u001b[39m to be called once. Called \u001b[39m\u001b[39m%s\u001b[39;00m\u001b[39m times.\u001b[39m\u001b[39m%s\u001b[39;00m\u001b[39m\"\u001b[39m\n\u001b[1;32m    937\u001b[0m            \u001b[39m%\u001b[39m (\u001b[39mself\u001b[39m\u001b[39m.\u001b[39m_mock_name \u001b[39mor\u001b[39;00m \u001b[39m'\u001b[39m\u001b[39mmock\u001b[39m\u001b[39m'\u001b[39m,\n\u001b[1;32m    938\u001b[0m               \u001b[39mself\u001b[39m\u001b[39m.\u001b[39mcall_count,\n\u001b[1;32m    939\u001b[0m               \u001b[39mself\u001b[39m\u001b[39m.\u001b[39m_calls_repr()))\n\u001b[1;32m    940\u001b[0m     \u001b[39mraise\u001b[39;00m \u001b[39mAssertionError\u001b[39;00m(msg)\n\u001b[0;32m--> 941\u001b[0m \u001b[39mreturn\u001b[39;00m \u001b[39mself\u001b[39;49m\u001b[39m.\u001b[39;49massert_called_with(\u001b[39m*\u001b[39;49margs, \u001b[39m*\u001b[39;49m\u001b[39m*\u001b[39;49mkwargs)\n",
      "File \u001b[0;32m~/anaconda3/envs/as/lib/python3.10/unittest/mock.py:929\u001b[0m, in \u001b[0;36mNonCallableMock.assert_called_with\u001b[0;34m(self, *args, **kwargs)\u001b[0m\n\u001b[1;32m    927\u001b[0m \u001b[39mif\u001b[39;00m actual \u001b[39m!=\u001b[39m expected:\n\u001b[1;32m    928\u001b[0m     cause \u001b[39m=\u001b[39m expected \u001b[39mif\u001b[39;00m \u001b[39misinstance\u001b[39m(expected, \u001b[39mException\u001b[39;00m) \u001b[39melse\u001b[39;00m \u001b[39mNone\u001b[39;00m\n\u001b[0;32m--> 929\u001b[0m     \u001b[39mraise\u001b[39;00m \u001b[39mAssertionError\u001b[39;00m(_error_message()) \u001b[39mfrom\u001b[39;00m \u001b[39mcause\u001b[39;00m\n",
      "\u001b[0;31mAssertionError\u001b[0m: expected call not found.\nExpected: mock(<object object at 0x7fd181658a20>, '기린')\nActual: mock(<object object at 0x7fd181658a20>, '미어캣')"
     ]
    }
   ],
   "source": [
    "mock.assert_called_once_with(database, '미어캣')\n",
    "\n",
    "mock.assert_called_once_with(database, '기린')"
   ]
  }
 ],
 "metadata": {
  "kernelspec": {
   "display_name": "as",
   "language": "python",
   "name": "python3"
  },
  "language_info": {
   "codemirror_mode": {
    "name": "ipython",
    "version": 3
   },
   "file_extension": ".py",
   "mimetype": "text/x-python",
   "name": "python",
   "nbconvert_exporter": "python",
   "pygments_lexer": "ipython3",
   "version": "3.10.13"
  }
 },
 "nbformat": 4,
 "nbformat_minor": 2
}
