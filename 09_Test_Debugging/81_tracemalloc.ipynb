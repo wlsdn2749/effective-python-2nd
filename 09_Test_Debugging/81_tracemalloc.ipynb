{
 "cells": [
  {
   "cell_type": "markdown",
   "metadata": {},
   "source": [
    "파이썬 기본 구현인 CPython은 메모리 관리를 위해 참조 카운팅을 사용한다.\n",
    "\n",
    "어떤 객체를 가리키는 객체가 모두 없어지면 메모리에서 삭제되고 메모리 공간을 다른 데이터에 내어 줄 수 있다.\n",
    "\n",
    "CPython에는 순환 탐지기가 들어 있으므로 자기 자신을 참조하는 (A -> B -> C -> A) 처럼 고리 모양으로 서로를 참조하는 객체의 메모리도\n",
    "\n",
    "언젠간 쓰레기 수집(garbage collect) 된다"
   ]
  },
  {
   "cell_type": "markdown",
   "metadata": {},
   "source": [
    "CPython 런타임이 알아서 메모리 관리를 해주고, 실전에서는 더 이상 사용하지 않는 쓸모없는 참조를 유지하기 때문에\n",
    "\n",
    "언젠가는 결국 메모리를 소진하게 되는 경우가 있다. \n",
    "\n",
    "메모리 사용을 디버깅하는 첫 번째 방법은 gc 내장 모듈을 사용해서 현재 쓰레기 수집기가 알고 있는 모든 객체를 나열 시키는 거ㅅdlek."
   ]
  },
  {
   "cell_type": "code",
   "execution_count": 1,
   "metadata": {},
   "outputs": [],
   "source": [
    "import os\n",
    "\n",
    "class MyObject:\n",
    "    def __init__(self):\n",
    "        self.data = os.urandom(100)\n",
    "\n",
    "def get_data():\n",
    "    values = []\n",
    "    for _ in range(100):\n",
    "        obj = MyObject()\n",
    "        values.append(obj)\n",
    "    return values\n",
    "\n",
    "def run():\n",
    "    deep_values = []\n",
    "    for _ in range(100):\n",
    "        deep_values.append(get_data())\n",
    "    return deep_values"
   ]
  },
  {
   "cell_type": "code",
   "execution_count": 3,
   "metadata": {},
   "outputs": [
    {
     "name": "stdout",
     "output_type": "stream",
     "text": [
      "이전: 82392\n",
      "이후: 92387\n",
      "<__main__.MyObject object at 0x7f9f04ac2790>\n",
      "<__main__.MyObject object at 0x7f9f04ac27f0>\n",
      "<__main__.MyObject object at 0x7f9f04ac2850>\n"
     ]
    }
   ],
   "source": [
    "# gc 내장 모듈을 사용해 실행중 생성한 객체의 개수와 생성한 객체 중 일부를 출력하는 프로그램을 실행한다.\n",
    "\n",
    "import gc\n",
    "found_objects = gc.get_objects()\n",
    "print('이전:', len(found_objects))\n",
    "\n",
    "hold_reference = run()\n",
    "\n",
    "found_objects = gc.get_objects()\n",
    "print('이후:', len(found_objects))\n",
    "\n",
    "for obj in found_objects[:3]:\n",
    "    print(repr(obj)[:100])"
   ]
  },
  {
   "cell_type": "markdown",
   "metadata": {},
   "source": [
    "gc.get_objects()의 문제점은 객체가 어떻게 할당됐는지를 알려주지 않는다는 것이다.\n",
    "\n",
    "복잡한 프로그램에서는 특정 클래스에 속하는 객체가 여러 다른 방식으로 할당될 수 있다.\n",
    "\n",
    "객체 전체 개수를 아는 것은 메모리를 누수시키는 객체를 할당한 코드를 알아내는 것 만큼 중요하지 않다.\n",
    "\n",
    "tracemalloc은 자신이 할당된 장소와 연결해 메모리 사용의 이전과 이후의 스냅샷을 만들어 서로 비교하여 어떤 부분이 변경됬는지 알 수 있다."
   ]
  },
  {
   "cell_type": "code",
   "execution_count": 4,
   "metadata": {},
   "outputs": [
    {
     "name": "stdout",
     "output_type": "stream",
     "text": [
      "/tmp/ipykernel_649962/3143607866.py:5: size=2314 KiB (+2314 KiB), count=29985 (+29985), average=79 B\n",
      "/tmp/ipykernel_649962/3143607866.py:10: size=469 KiB (+469 KiB), count=10000 (+10000), average=48 B\n",
      "/tmp/ipykernel_649962/3143607866.py:11: size=84.4 KiB (+84.4 KiB), count=100 (+100), average=864 B\n"
     ]
    }
   ],
   "source": [
    "import tracemalloc\n",
    "\n",
    "tracemalloc.start(10) # 스택 깊이 설정 \n",
    "time1 = tracemalloc.take_snapshot() # 이전 스냅샷\n",
    "\n",
    "x = run() # 이 부분의 메모리 사용을 디버깅함\n",
    "time2 = tracemalloc.take_snapshot() # 이후 스냅샷\n",
    "\n",
    "stats = time2.compare_to(time1, 'lineno') # 두 스냅샷을 비교\n",
    "\n",
    "for stat in stats[:3]:\n",
    "    print(stat)"
   ]
  },
  {
   "cell_type": "code",
   "execution_count": 7,
   "metadata": {},
   "outputs": [
    {
     "name": "stdout",
     "output_type": "stream",
     "text": [
      "기장 많이 사용하는 부분은:\n",
      "  File \"/root/.pyenv/versions/3.9.5/lib/python3.9/site-packages/IPython/core/interactiveshell.py\", line 3046\n",
      "    result = self._run_cell(\n",
      "  File \"/root/.pyenv/versions/3.9.5/lib/python3.9/site-packages/IPython/core/interactiveshell.py\", line 3101\n",
      "    result = runner(coro)\n",
      "  File \"/root/.pyenv/versions/3.9.5/lib/python3.9/site-packages/IPython/core/async_helpers.py\", line 129\n",
      "    coro.send(None)\n",
      "  File \"/root/.pyenv/versions/3.9.5/lib/python3.9/site-packages/IPython/core/interactiveshell.py\", line 3306\n",
      "    has_raised = await self.run_ast_nodes(code_ast.body, cell_name,\n",
      "  File \"/root/.pyenv/versions/3.9.5/lib/python3.9/site-packages/IPython/core/interactiveshell.py\", line 3488\n",
      "    if await self.run_code(code, result, async_=asy):\n",
      "  File \"/root/.pyenv/versions/3.9.5/lib/python3.9/site-packages/IPython/core/interactiveshell.py\", line 3548\n",
      "    exec(code_obj, self.user_global_ns, self.user_ns)\n",
      "  File \"/tmp/ipykernel_649962/1250986514.py\", line 9\n",
      "    stats = time2.compare_to(time1, 'traceback')\n",
      "  File \"/root/.pyenv/versions/3.9.5/lib/python3.9/tracemalloc.py\", line 545\n",
      "    old_group = old_snapshot._group_by(key_type, cumulative)\n",
      "  File \"/root/.pyenv/versions/3.9.5/lib/python3.9/tracemalloc.py\", line 498\n",
      "    traceback = Traceback(frames)\n",
      "  File \"/root/.pyenv/versions/3.9.5/lib/python3.9/tracemalloc.py\", line 193\n",
      "    self._frames = tuple(reversed(frames))\n"
     ]
    }
   ],
   "source": [
    "import tracemalloc\n",
    "tracemalloc.start(10)\n",
    "\n",
    "time1 = tracemalloc.take_snapshot()\n",
    "\n",
    "x = run()\n",
    "time2 = tracemalloc.take_snapshot()\n",
    "\n",
    "stats = time2.compare_to(time1, 'traceback')\n",
    "top = stats[0]\n",
    "\n",
    "print('기장 많이 사용하는 부분은:')\n",
    "print('\\n'.join(top.traceback.format()))"
   ]
  }
 ],
 "metadata": {
  "kernelspec": {
   "display_name": "Python 3",
   "language": "python",
   "name": "python3"
  },
  "language_info": {
   "codemirror_mode": {
    "name": "ipython",
    "version": 3
   },
   "file_extension": ".py",
   "mimetype": "text/x-python",
   "name": "python",
   "nbconvert_exporter": "python",
   "pygments_lexer": "ipython3",
   "version": "3.9.5"
  }
 },
 "nbformat": 4,
 "nbformat_minor": 2
}
