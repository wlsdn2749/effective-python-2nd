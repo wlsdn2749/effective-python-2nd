{
 "cells": [
  {
   "cell_type": "markdown",
   "metadata": {},
   "source": [
    "테스트 메서드를 실행하기 전에 테스트 환경을 구축해야하는 경우가 있다.\n",
    "\n",
    "이런 테스트 과정을 테스트 하네스 라고 부르기도 한다.\n",
    "\n",
    "TestCase 하네스 안에서 setUp과 tearDown 메서드를 오버라이드 해야한다.\n",
    "\n",
    "setUp -> 테스트 -> tearDown\n",
    "\n",
    "`environment_test.py`"
   ]
  },
  {
   "cell_type": "markdown",
   "metadata": {},
   "source": [
    "모듈 자체를 테스트 하는 **단위 테스트**\n",
    "\n",
    "여러 모듈 사이의 단대단 상호작용을 검증하는 **통합테스트** \n",
    "\n",
    "흔히 발생하는 문제로 통합 테스트에서 발생하는 문제로 계산 비용이 너무 비싸거나 너무 오랜 시간이 소요 되는 경우가 있다.\n",
    "\n",
    "통합 테스트를 진행하기 위해 DB 프로세스를 진행하고 db가 모든 인덱스의 메모리를 읽을 때까지 기다려야 하는 경우도 있다..\n",
    "\n",
    "\n",
    "unittest 모듈은 모듈 단위의 테스트 하네스 초기화를 진행한다.\n",
    "\n",
    "이 기능을 활용하면 비싼 자원을 단 한 번만 초기화하고 초기화를 반복하지 않고도 \n",
    "\n",
    "모든 테스트케이스의 클래스와 테스트 메서드를 실행할 수 있다.\n",
    "\n",
    "`integration_test.py`"
   ]
  }
 ],
 "metadata": {
  "language_info": {
   "name": "python"
  }
 },
 "nbformat": 4,
 "nbformat_minor": 2
}
