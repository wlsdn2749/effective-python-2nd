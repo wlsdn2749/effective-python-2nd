{
 "cells": [
  {
   "cell_type": "markdown",
   "metadata": {},
   "source": [
    "파이썬에서 테스트를 작성하는 표준적인 방법은 unittest 내장 모듈을 사용하는 것이다\n",
    "\n",
    "\n",
    "utils.py 안에 함수를 테스트하려면\n",
    "test_utils.py 를 만들어서 TestCase를 상속받는 하위 클래스를 만들면 된다\n",
    "\n",
    "각각의 테스트 케이스는 이름이 test라는 단어로 시작하는 메서드들이다.\n",
    "\n",
    "어떤 테스트 메서드가 아무런 Exception도 발생시키지 않고 실행이 끝나면 테스트가 성공한 것으로 간주한다.\n",
    "\n",
    "테스트중 일부가 실패하더라도 TestCase 하위클래스는 최초로 문제가 발생한 지점에서 실행을 중단하지 않고, 나머지 테스트 케이스를 실행해 전반적인 그림을 그릴수 있게해준다."
   ]
  },
  {
   "cell_type": "code",
   "execution_count": null,
   "metadata": {
    "vscode": {
     "languageId": "plaintext"
    }
   },
   "outputs": [],
   "source": []
  },
  {
   "cell_type": "markdown",
   "metadata": {},
   "source": [
    "한 테스트만 실행하고 싶은 경우 명령줄에서 바로 실행 할 수 있다\n",
    "\n",
    "`python3 utils_test.py UtilsTestCase.test_to_str_bytes`"
   ]
  },
  {
   "cell_type": "markdown",
   "metadata": {},
   "source": [
    "원한다면 테스트 메서드 내부에 구체적인 중단점을 직접 디버거를 호출해 테스트가 실패한 원인을 더 깊이 파고들 수도 있다"
   ]
  },
  {
   "cell_type": "markdown",
   "metadata": {},
   "source": [
    "또한 TestCase는 단언문(assertion)을 만들때 도움이 되는 여러 도우미 메서드를 제공한다 \n",
    "\n",
    "뿐만 아니라, 테스트가 왜 실패했는지 알 수 있도록 모든 입력과 출력을 표시해주므로 파이썬 내장 assert 문보다 더 낫다."
   ]
  },
  {
   "cell_type": "markdown",
   "metadata": {},
   "source": [
    "예외가 발생하는지 검증하기 위해 with문안에서 컨텍스트 매니저로 사용할 수 있는 \n",
    "\n",
    "assertRaises 도우미 메서드도 있다. \n",
    "\n",
    "재사용 가능한 try/finally 동작을 원한다면 contextlib과 with 문을 사용하라 에서 이함수가 어떻게 작동하는지 볼 수 있다.\n",
    "\n",
    "이 메서드를 사용한 코드는 try/except 문과 비슷하므로, 테스트 케이스의 해당 부분에서 예외가 발생할 것으로 예상한다는 점을 아주 명확히 드러낸다\n",
    "\n",
    "`utils_error_test.py`"
   ]
  },
  {
   "cell_type": "markdown",
   "metadata": {},
   "source": [
    "테스트 가독성을 더 높이기 위해 TestCase 하위 클래스 안에 복잡한 로직이 들어가는 도우미 메서드를 직접 작성할 수 있다.\n",
    "\n",
    "다만 도우미 메서드 이름이 test로 시작하지 않아야 한다.\n",
    "\n",
    "test로 시작하면 도우미 메서드가 아니라 테스트 케이스로 시작하기 때문이다\n",
    "\n",
    "도우미 메서드는 Testcase가 제공하는 단언문 메서드를 호출하지 않고 fail 메서드를 호출해서 \n",
    "\n",
    "어떤 가정이나 불변 조건을 만족하지 않았음을 확실히 표현 할 수도 있다.\n",
    "\n",
    "`helper_test.py`"
   ]
  },
  {
   "cell_type": "code",
   "execution_count": null,
   "metadata": {
    "vscode": {
     "languageId": "plaintext"
    }
   },
   "outputs": [],
   "source": [
    "일반적으로는 한 TestCase 하위 클래스 안에 관련된 일련의 테스트를 함께 정의한다. \n",
    "\n",
    "미묘한 경우가 많다면 각 함수를 서로 다른 TestCase 하위 클래스에 정의 할 때도 있다.\n",
    "\n",
    "\n",
    "TestCase 클래스가 제공하는 subTest 도우미 메서드를 사용하면 한 테스트 메서드 안에 여러 테스트를 정의할 수 있다.\n",
    "\n",
    "\n",
    "특히 데이터 기반 테스트를 작성할 때 subTest가 도움이 되며 하위 테스트 케이스가 실패해도 다른 테스트 케이스를 계속 실행할 수 있다"
   ]
  }
 ],
 "metadata": {
  "language_info": {
   "name": "python"
  }
 },
 "nbformat": 4,
 "nbformat_minor": 2
}
