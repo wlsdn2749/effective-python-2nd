{
 "cells": [
  {
   "cell_type": "code",
   "execution_count": 2,
   "metadata": {},
   "outputs": [
    {
     "name": "stdout",
     "output_type": "stream",
     "text": [
      "foo 뭐시기\n",
      "foo 뭐시기\n",
      "foo 뭐시기\n",
      "foo 뭐시기\n",
      "foo 뭐시기\n",
      "foo 뭐시기\n",
      "foo 뭐시기\n"
     ]
    }
   ],
   "source": [
    "print('foo 뭐시기')\n",
    "\n",
    "my_value = 'foo 뭐시기'\n",
    "print(str(my_value)) # 값을 전달하기 전에 str 함수를 호출한다\n",
    "print('%s' % my_value) # % 연산자에 '%s' 형식화 문자열을 사용한다.\n",
    "print(f'{my_value}') # f-문자열에서 값을 표시하는 기본 형식자 표현을 사용한다 \n",
    "print(format(my_value)) # format 내장 함수를 호출한다.\n",
    "print(my_value.__format__('s')) # __format__ 특별 메서드를 명시적으로 호출한다\n",
    "print(my_value.__str__()) # __str__ 메서드를 명시적으로 호출한다\n"
   ]
  },
  {
   "cell_type": "markdown",
   "metadata": {},
   "source": [
    "문제는 어떤 값을 사람이 읽을 수 있는 형시의 문자열로 바꿔도 이값의 실제 타입과 구체적은 구성을 명확히 알기는 어렵다...\n",
    "\n",
    "print의 기본출력을 사용하면 5라는 수와 '5'라는 문자열의 타입을 구분할 수 없다."
   ]
  },
  {
   "cell_type": "code",
   "execution_count": 4,
   "metadata": {},
   "outputs": [
    {
     "name": "stdout",
     "output_type": "stream",
     "text": [
      "5\n",
      "5\n",
      " 5 == 5?\n"
     ]
    }
   ],
   "source": [
    "print(5)\n",
    "print('5')\n",
    "\n",
    "int_value = 5\n",
    "str_value = '5'\n",
    "\n",
    "print(f' {int_value} == {str_value}?')"
   ]
  },
  {
   "cell_type": "markdown",
   "metadata": {},
   "source": [
    "디버깅 과정에서 print를 사용한다면 이런 타입의 차이가 문제가 된다\n",
    "\n",
    "디버깅을 할ㄷ 때 원하는 문자열은 거의 대부분 객체를 repr로 나타낸 버전이다.\n",
    "\n",
    "repr 내장 함수는 객체의 출력 가능한 표현을 반환하는데 반드시 객체를 가장 명확하게 이해할 수 있는 문자열 표현이여야 한다\n",
    "\n",
    "대부분의 내장 타입에서 repr이 반환하는 문자열은 올바론 파이썬 식이다."
   ]
  },
  {
   "cell_type": "code",
   "execution_count": 5,
   "metadata": {},
   "outputs": [
    {
     "name": "stdout",
     "output_type": "stream",
     "text": [
      "'\\x07'\n"
     ]
    }
   ],
   "source": [
    "a = '\\x07'\n",
    "print(repr(a))"
   ]
  },
  {
   "cell_type": "markdown",
   "metadata": {},
   "source": [
    "repr이 돌려준 값을 eval 내장함수에 넘기면 repr에 넘겼던 객체와 같은 객체가 생겨야한다."
   ]
  },
  {
   "cell_type": "code",
   "execution_count": 6,
   "metadata": {},
   "outputs": [],
   "source": [
    "b = eval(repr(a))\n",
    "assert a == b"
   ]
  },
  {
   "cell_type": "code",
   "execution_count": 7,
   "metadata": {},
   "outputs": [
    {
     "name": "stdout",
     "output_type": "stream",
     "text": [
      "5\n",
      "'5'\n"
     ]
    }
   ],
   "source": [
    "print(repr(5))\n",
    "print(repr('5')) # 타입이 다른경우에도 명확하게 차이를 볼 수 있게 만들어야한다."
   ]
  },
  {
   "cell_type": "markdown",
   "metadata": {},
   "source": [
    "repr을 호출 하는 것은 % 연산자에 %r 형식화 문자열을 상ㅇ하는 것이나 \n",
    "\n",
    "f-문자열에 !r 타입 변환을 사용하는 것과 같다\n",
    "\n",
    "m"
   ]
  },
  {
   "cell_type": "code",
   "execution_count": 8,
   "metadata": {},
   "outputs": [
    {
     "name": "stdout",
     "output_type": "stream",
     "text": [
      "5\n",
      "'5'\n",
      "5 != '5' \n"
     ]
    }
   ],
   "source": [
    "print('%r' % 5)\n",
    "print('%r' % '5') # '%r' 형식화 문자열\n",
    "\n",
    "int_value = 5\n",
    "str_value = '5'\n",
    "\n",
    "print(f'{int_value!r} != {str_value!r} ') # 타입 변환"
   ]
  },
  {
   "cell_type": "code",
   "execution_count": 9,
   "metadata": {},
   "outputs": [
    {
     "name": "stdout",
     "output_type": "stream",
     "text": [
      "<__main__.OpaqueClass object at 0x7f5151696710>\n"
     ]
    }
   ],
   "source": [
    "class OpaqueClass:\n",
    "    def __init__(self, x, y):\n",
    "        self.x = x\n",
    "        self.y = y\n",
    "        \n",
    "obj = OpaqueClass(1, 'foo')\n",
    "print(obj)"
   ]
  },
  {
   "cell_type": "markdown",
   "metadata": {},
   "source": [
    "이 출력은 eval 함수에 넘길 수 없고, 객체의 인스턴스 필드에 대학 정보도 전혀 들어 있지 않다.\n",
    "\n",
    "해결 하는 방법 2가지\n",
    "\n",
    "1. 코드 수정이 가능하다면 객체를 다시 만들어내는 파이썬 식을 포함하는 문자열을 돌려주는 __repr__ 특별 메서드를 직접 정의 가능하다\n"
   ]
  },
  {
   "cell_type": "code",
   "execution_count": 15,
   "metadata": {},
   "outputs": [],
   "source": [
    "class BetterClass:\n",
    "    def __init__(self, x, y):\n",
    "        self.x = x\n",
    "        self.y = y\n",
    "    \n",
    "    def __repr__(self):\n",
    "        return f'BetterClass({self.x!r}, {self.y!r})'\n",
    "    "
   ]
  },
  {
   "cell_type": "code",
   "execution_count": 16,
   "metadata": {},
   "outputs": [
    {
     "name": "stdout",
     "output_type": "stream",
     "text": [
      "BetterClass(2, '뭐시기')\n"
     ]
    }
   ],
   "source": [
    "obs = BetterClass(2, '뭐시기')\n",
    "print(obs)"
   ]
  },
  {
   "cell_type": "markdown",
   "metadata": {},
   "source": [
    "클래스 정의를 마음대로 못바꾸는 경우에는 \\_\\_dict\\_\\_ 애트리 뷰트를 통해 객체 인스턴스 딕셔너리에 접근 할 수 있다."
   ]
  },
  {
   "cell_type": "code",
   "execution_count": 18,
   "metadata": {},
   "outputs": [
    {
     "name": "stdout",
     "output_type": "stream",
     "text": [
      "{'x': 4, 'y': 'baz'}\n"
     ]
    }
   ],
   "source": [
    "obj = OpaqueClass(4, 'baz')\n",
    "print(obj.__dict__)"
   ]
  }
 ],
 "metadata": {
  "kernelspec": {
   "display_name": "as",
   "language": "python",
   "name": "python3"
  },
  "language_info": {
   "codemirror_mode": {
    "name": "ipython",
    "version": 3
   },
   "file_extension": ".py",
   "mimetype": "text/x-python",
   "name": "python",
   "nbconvert_exporter": "python",
   "pygments_lexer": "ipython3",
   "version": "3.10.13"
  }
 },
 "nbformat": 4,
 "nbformat_minor": 2
}
