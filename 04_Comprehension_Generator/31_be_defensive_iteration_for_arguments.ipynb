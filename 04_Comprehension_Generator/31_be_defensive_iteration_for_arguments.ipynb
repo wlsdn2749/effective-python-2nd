{
 "cells": [
  {
   "cell_type": "code",
   "execution_count": 1,
   "metadata": {},
   "outputs": [
    {
     "name": "stdout",
     "output_type": "stream",
     "text": [
      "[11.538461538461538, 26.923076923076923, 61.53846153846154]\n"
     ]
    }
   ],
   "source": [
    "# 미국 텍사스 주의 여행자 수를 분석하고 싶다고 하자.\n",
    "# 데이터 집합이 도시별 방문자 수 (단위: 100만 명/년)라고 가정하자. 이떄 각 도시가 전체 여행자 수 중에서 차지하는 비율을 계산\n",
    "\n",
    "# 1년간 전체 여행자 수를 계산후 비율 구하기 -> 입력 전체의 합, 합계로 각 도시의 방문자 수를 나누는 정규화 함수 필요\n",
    "\n",
    "def normalize(numbers):\n",
    "    total = sum(numbers)\n",
    "    result = []\n",
    "    \n",
    "    for value in numbers:\n",
    "        percent = 100 * value / total\n",
    "        result.append(percent)\n",
    "        \n",
    "    return result\n",
    "\n",
    "visits = [15, 35, 80]\n",
    "percentages = normalize(visits)\n",
    "print(percentages)\n",
    "assert sum(percentages) == 100.0"
   ]
  },
  {
   "cell_type": "code",
   "execution_count": 4,
   "metadata": {},
   "outputs": [
    {
     "name": "stdout",
     "output_type": "stream",
     "text": [
      "[]\n"
     ]
    }
   ],
   "source": [
    "# 확장성을 키우기 위해 특정 경로에 방문자수를 읽어 비율을 구함 \n",
    "\n",
    "def read_visits(data_path):\n",
    "    with open(data_path) as f:\n",
    "        for line in f:\n",
    "            yield int(line)\n",
    "            \n",
    "it = read_visits('my_numbers.txt')\n",
    "percentages = normalize(it)\n",
    "print(percentages)  # why? sum(numbers) 에서 Generator를 모두 소모하기 때문에 result를 구할때 수모할 generator가 없다"
   ]
  },
  {
   "cell_type": "code",
   "execution_count": 5,
   "metadata": {},
   "outputs": [
    {
     "name": "stdout",
     "output_type": "stream",
     "text": [
      "[11.538461538461538, 26.923076923076923, 61.53846153846154]\n"
     ]
    }
   ],
   "source": [
    "def normalize_copy(numbers):\n",
    "    numbers_copy = list(numbers) # 이터레이터 명시적 복사\n",
    "    total = sum(numbers_copy)\n",
    "    result = []\n",
    "    \n",
    "    for value in numbers_copy:\n",
    "        percent = 100 * value / total\n",
    "        result.append(percent)\n",
    "        \n",
    "    return result\n",
    "\n",
    "it = read_visits('my_numbers.txt')\n",
    "percentages = normalize_copy(it)\n",
    "print(percentages) \n",
    "# 이 방법의 문제는 메모리를 엄청나게 사용할 수 도 있다는 것이다."
   ]
  },
  {
   "cell_type": "code",
   "execution_count": 7,
   "metadata": {},
   "outputs": [
    {
     "name": "stdout",
     "output_type": "stream",
     "text": [
      "[11.538461538461538, 26.923076923076923, 61.53846153846154]\n"
     ]
    }
   ],
   "source": [
    "def normalize_func(get_iter):\n",
    "    total = sum(get_iter()) # 호출할때마다 iterator\n",
    "    result = []\n",
    "    for value in get_iter():\n",
    "        percent = 100 * value / total\n",
    "        result.append(percent)\n",
    "        \n",
    "    return result\n",
    "\n",
    "path = 'my_numbers.txt'\n",
    "percentages = normalize_func(lambda: read_visits(path)) # 작동은 됨!\n",
    "print(percentages)\n",
    "assert sum(percentages) == 100.0 \n",
    "\n",
    "# 그러나 이렇게 람다함수를 parameter로 넘기는건 좋지 않아보인다"
   ]
  },
  {
   "cell_type": "code",
   "execution_count": 13,
   "metadata": {},
   "outputs": [
    {
     "name": "stdout",
     "output_type": "stream",
     "text": [
      "[11.538461538461538, 26.923076923076923, 61.53846153846154]\n"
     ]
    }
   ],
   "source": [
    "# 더 나은 방법 More! \n",
    "# Iterator Protocol\n",
    "\n",
    "class ReadVisits:\n",
    "    def __init__(self, data_path):\n",
    "        self.data_path = data_path\n",
    "        \n",
    "    def __iter__(self):\n",
    "        with open(self.data_path) as f:\n",
    "            for line in f:\n",
    "                yield int(line)\n",
    "                \n",
    "visits = ReadVisits(path)\n",
    "percentages = normalize(visits)\n",
    "print(percentages)\n",
    "assert sum(percentages) == 100.0"
   ]
  },
  {
   "cell_type": "code",
   "execution_count": 15,
   "metadata": {},
   "outputs": [],
   "source": [
    "def normalize_defensive(numbers):\n",
    "    if iter(numbers) is numbers: # 이터레이터는 나쁨!\n",
    "        raise TypeError('컨테이너를 제공해야합니다!')\n",
    "    \n",
    "    total = sum(numbers)\n",
    "    result = []\n",
    "    for value in numbers:\n",
    "        percent = 100 * value / total\n",
    "        result.append(percent)\n",
    "        \n",
    "    return result\n",
    "\n",
    "from collections.abc import Iterator\n",
    "def normalize_defensive(numbers):\n",
    "    if isinstance(numbers, Iterator): # 이터레이터는 나쁨!\n",
    "        raise TypeError('컨테이너를 제공해야합니다!')\n",
    "    \n",
    "    total = sum(numbers)\n",
    "    result = []\n",
    "    for value in numbers:\n",
    "        percent = 100 * value / total\n",
    "        result.append(percent)\n",
    "        \n",
    "    return result\n",
    "\n",
    "visits = ReadVisits(path)\n",
    "percentages = normalize_defensive(visits)\n",
    "assert sum(percentages) == 100.0\n"
   ]
  }
 ],
 "metadata": {
  "kernelspec": {
   "display_name": "Python 3",
   "language": "python",
   "name": "python3"
  },
  "language_info": {
   "codemirror_mode": {
    "name": "ipython",
    "version": 3
   },
   "file_extension": ".py",
   "mimetype": "text/x-python",
   "name": "python",
   "nbconvert_exporter": "python",
   "pygments_lexer": "ipython3",
   "version": "3.12.2"
  }
 },
 "nbformat": 4,
 "nbformat_minor": 2
}
