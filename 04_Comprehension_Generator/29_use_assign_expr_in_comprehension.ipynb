{
 "cells": [
  {
   "cell_type": "code",
   "execution_count": 2,
   "metadata": {},
   "outputs": [
    {
     "name": "stdout",
     "output_type": "stream",
     "text": [
      "{'나사못': 4, '나비너트': 1}\n"
     ]
    }
   ],
   "source": [
    "stock = {\n",
    "    '못' : 125,\n",
    "    '나사못': 35,\n",
    "    '나비너트': 8,\n",
    "    '와셔': 24\n",
    "}\n",
    "\n",
    "order = ['나사못', '나비너트', '클립']\n",
    "\n",
    "def get_batches(count, size):\n",
    "    return count // size\n",
    "\n",
    "result = {}\n",
    "\n",
    "for name in order:\n",
    "    count = stock.get(name, 0)\n",
    "    batches = get_batches(count, 8)\n",
    "    if batches:\n",
    "        result[name] = batches\n",
    "        \n",
    "print(result)"
   ]
  },
  {
   "cell_type": "code",
   "execution_count": 5,
   "metadata": {},
   "outputs": [
    {
     "name": "stdout",
     "output_type": "stream",
     "text": [
      "{'나사못': 4, '나비너트': 1}\n"
     ]
    }
   ],
   "source": [
    "found = {name: get_batches(stock.get(name, 0), 8)\n",
    "         for name in order\n",
    "         if get_batches(stock.get(name, 0), 8)} # 불필요한 반복, 실수 할 가능성 높짐\n",
    "\n",
    "found = {name: batches for name in order\n",
    "         if(batches := get_batches(stock.get(name, 0), 8))}\n",
    "\n",
    "print(found)"
   ]
  },
  {
   "cell_type": "code",
   "execution_count": 16,
   "metadata": {},
   "outputs": [
    {
     "name": "stdout",
     "output_type": "stream",
     "text": [
      "[62, 17, 4, 12]의 마지막 원소는 12\n",
      "[125, 35, 8, 24] 의 마지막 원소는 24\n"
     ]
    }
   ],
   "source": [
    "# 대입식을 컴프리헨션의 값 식에 사용해도 문법적으로 올바르다\n",
    "# 하지만 컴프리헨션에 다른 부분에서 이 변수를 읽으려고 하면, 컴프리헨션이 평가되는 순서 때문에 실행시점에 오류가 발생 할 것이다.\n",
    "\n",
    "result = {name: (tenth := count // 10)\n",
    "        for name, count in stock.items() if tenth > 0} # tenth가 대입되는 시점에 if는 tenth를 가지고 있지 않음\n",
    "\n",
    "\n",
    "result = {name: tenth for name, count in stock.items() if (tenth := count // 10) > 0} # tenth가 for-loop 안에 있어서 에러안남 \n",
    "\n",
    "# 이때 tenth는 loop외부로 변수가 누출\n",
    "\n",
    "half = [(last := count // 2) for count in stock.values()] # walrus operator로 삽입된 last가 변수 외부로 누출\n",
    "print(f'{half}의 마지막 원소는 {last}')\n",
    "\n",
    "# 이는\n",
    "\n",
    "for count in stock.values():\n",
    "    pass\n",
    "\n",
    "print(f'{list(stock.values())} 의 마지막 원소는 {count}') # 이것과 유사하다 count"
   ]
  },
  {
   "cell_type": "code",
   "execution_count": 15,
   "metadata": {},
   "outputs": [
    {
     "name": "stdout",
     "output_type": "stream",
     "text": [
      "{125: 12, 35: 3, 24: 2}\n"
     ]
    },
    {
     "ename": "NameError",
     "evalue": "name 'div' is not defined",
     "output_type": "error",
     "traceback": [
      "\u001b[0;31m---------------------------------------------------------------------------\u001b[0m",
      "\u001b[0;31mNameError\u001b[0m                                 Traceback (most recent call last)",
      "Cell \u001b[0;32mIn[15], line 12\u001b[0m\n\u001b[1;32m     10\u001b[0m \u001b[38;5;66;03m# print(count)\u001b[39;00m\n\u001b[1;32m     11\u001b[0m \u001b[38;5;28;01mdel\u001b[39;00m div\n\u001b[0;32m---> 12\u001b[0m \u001b[38;5;28mprint\u001b[39m(\u001b[43mdiv\u001b[49m)\n",
      "\u001b[0;31mNameError\u001b[0m: name 'div' is not defined"
     ]
    }
   ],
   "source": [
    "# 컴프리헨션의 루프변수는 비슷한 누출이 생기지 않는다\n",
    "stock = {\n",
    "    '못' : 125,\n",
    "    '나사못': 35,\n",
    "    '나비너트': 8,\n",
    "    '와셔': 24\n",
    "}\n",
    "half = {count:div for count in stock.values() if (div := count //10)}\n",
    "print(half)\n",
    "# print(count)\n",
    "del div # if문으로 대입해도 내부변수는 남아잇다. 제거해주면 끗  x\n",
    "print(div)"
   ]
  },
  {
   "cell_type": "code",
   "execution_count": null,
   "metadata": {},
   "outputs": [],
   "source": []
  }
 ],
 "metadata": {
  "kernelspec": {
   "display_name": "Python 3",
   "language": "python",
   "name": "python3"
  },
  "language_info": {
   "codemirror_mode": {
    "name": "ipython",
    "version": 3
   },
   "file_extension": ".py",
   "mimetype": "text/x-python",
   "name": "python",
   "nbconvert_exporter": "python",
   "pygments_lexer": "ipython3",
   "version": "3.12.2"
  }
 },
 "nbformat": 4,
 "nbformat_minor": 2
}
