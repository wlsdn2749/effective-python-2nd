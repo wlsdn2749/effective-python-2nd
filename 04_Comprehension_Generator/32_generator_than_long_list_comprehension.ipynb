{
 "cells": [
  {
   "cell_type": "code",
   "execution_count": 2,
   "metadata": {},
   "outputs": [
    {
     "name": "stdout",
     "output_type": "stream",
     "text": [
      "['123123141234124\\n', '1214214141\\n', '44124124\\n', '212412412\\n', '424412312412\\n', '121\\n', '2313412412412\\n', '2412412\\n', '44121\\n', '121\\n']\n"
     ]
    }
   ],
   "source": [
    "value = [len(x) for x in open('my_file.txt')] # \\n 문자 때문에 실제로는 len이 하나 더 김\n",
    "print(value)"
   ]
  },
  {
   "cell_type": "code",
   "execution_count": 21,
   "metadata": {},
   "outputs": [
    {
     "name": "stdout",
     "output_type": "stream",
     "text": [
      "<generator object <genexpr> at 0x7fd602fa3780>\n",
      "16\n"
     ]
    }
   ],
   "source": [
    "it = (len(x) for x in open('my_file.txt')) # 리스트 컴프리헨션에서 스괄호로 바꾸면\n",
    "\n",
    "# 이터레이터로 즉시 평가됨\n",
    "\n",
    "print(it) \n",
    "print(next(it)) # 이터레이터에서 원소 하나를 꺼내 작동함\n"
   ]
  },
  {
   "cell_type": "code",
   "execution_count": 22,
   "metadata": {},
   "outputs": [
    {
     "name": "stdout",
     "output_type": "stream",
     "text": [
      "(11, 3.3166247903554)\n",
      "(9, 3.0)\n"
     ]
    }
   ],
   "source": [
    "roots = ((x, x**0.5) for x in it) # it의 next를 호출하고 거기에서 값을 생성\n",
    "\n",
    "print(next(roots))\n",
    "print(next(roots))"
   ]
  },
  {
   "cell_type": "code",
   "execution_count": null,
   "metadata": {},
   "outputs": [],
   "source": []
  }
 ],
 "metadata": {
  "kernelspec": {
   "display_name": "Python 3",
   "language": "python",
   "name": "python3"
  },
  "language_info": {
   "codemirror_mode": {
    "name": "ipython",
    "version": 3
   },
   "file_extension": ".py",
   "mimetype": "text/x-python",
   "name": "python",
   "nbconvert_exporter": "python",
   "pygments_lexer": "ipython3",
   "version": "3.12.2"
  }
 },
 "nbformat": 4,
 "nbformat_minor": 2
}
