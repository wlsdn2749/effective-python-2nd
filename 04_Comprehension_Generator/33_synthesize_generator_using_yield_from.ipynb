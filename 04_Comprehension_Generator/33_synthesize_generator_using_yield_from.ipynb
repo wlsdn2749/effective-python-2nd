{
 "cells": [
  {
   "cell_type": "code",
   "execution_count": 3,
   "metadata": {},
   "outputs": [
    {
     "name": "stdout",
     "output_type": "stream",
     "text": [
      "Delta:  5.0\n",
      "Delta:  5.0\n",
      "Delta:  5.0\n",
      "Delta:  5.0\n",
      "Delta:  0.0\n",
      "Delta:  0.0\n",
      "Delta:  0.0\n",
      "Delta:  3.0\n",
      "Delta:  3.0\n"
     ]
    }
   ],
   "source": [
    "def move(period, speed):\n",
    "    for _ in range(period):\n",
    "        yield speed\n",
    "        \n",
    "def pause(delay):\n",
    "    for _ in range(delay):\n",
    "        yield 0\n",
    "        \n",
    "def animate():\n",
    "    for delta in move(4, 5.0):\n",
    "        yield delta\n",
    "        \n",
    "    for delta in pause(3):\n",
    "        yield delta\n",
    "    \n",
    "    for delta in move(2, 3.0): # 제너레이터가 몇개 들어가지 않았는데, 벌써 코드가 꼬여있ㄷ\n",
    "        yield delta\n",
    "        \n",
    "def render(delta):\n",
    "    print(f'Delta: {delta: .1f}')\n",
    "    \n",
    "def run(func):\n",
    "    for delta in func():\n",
    "        render(delta)\n",
    "        \n",
    "        \n",
    "run(animate)\n",
    "    "
   ]
  },
  {
   "cell_type": "code",
   "execution_count": 5,
   "metadata": {},
   "outputs": [
    {
     "name": "stdout",
     "output_type": "stream",
     "text": [
      "Delta:  5.0\n",
      "Delta:  5.0\n",
      "Delta:  5.0\n",
      "Delta:  5.0\n",
      "Delta:  0.0\n",
      "Delta:  0.0\n",
      "Delta:  0.0\n",
      "Delta:  3.0\n",
      "Delta:  3.0\n"
     ]
    }
   ],
   "source": [
    "def animate_composed():\n",
    "    yield from move(4, 5.0)\n",
    "    yield from pause(3)\n",
    "    yield from move(2, 3.0)\n",
    "    \n",
    "run(animate_composed)"
   ]
  }
 ],
 "metadata": {
  "kernelspec": {
   "display_name": "Python 3",
   "language": "python",
   "name": "python3"
  },
  "language_info": {
   "codemirror_mode": {
    "name": "ipython",
    "version": 3
   },
   "file_extension": ".py",
   "mimetype": "text/x-python",
   "name": "python",
   "nbconvert_exporter": "python",
   "pygments_lexer": "ipython3",
   "version": "3.12.2"
  }
 },
 "nbformat": 4,
 "nbformat_minor": 2
}
