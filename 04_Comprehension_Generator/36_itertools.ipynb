{
 "cells": [
  {
   "cell_type": "code",
   "execution_count": 2,
   "metadata": {},
   "outputs": [
    {
     "name": "stdout",
     "output_type": "stream",
     "text": [
      "[1, 2, 3, 4, 5, 6]\n"
     ]
    }
   ],
   "source": [
    "import itertools\n",
    "it = itertools.chain((1,2,3),[4,5,6]) # Iterable한 객체를 하나의 it로 반환\n",
    "print(list(it))"
   ]
  },
  {
   "cell_type": "code",
   "execution_count": null,
   "metadata": {},
   "outputs": [],
   "source": [
    "it = itertools.repeat('안녕', 3) # 첫번째 인자 값을 최대 3번 반환\n",
    "\n",
    "print(next(it))\n",
    "print(next(it))\n",
    "print(next(it))\n",
    "print(next(it)) # 모두 소모\n"
   ]
  },
  {
   "cell_type": "code",
   "execution_count": 6,
   "metadata": {},
   "outputs": [
    {
     "name": "stdout",
     "output_type": "stream",
     "text": [
      "[1, 2, 1, 2, 1, 2, 1, 2, 1, 2]\n"
     ]
    }
   ],
   "source": [
    "it = itertools.cycle([1, 2])\n",
    "result = [next(it) for _ in range(10)]\n",
    "print(result)"
   ]
  },
  {
   "cell_type": "code",
   "execution_count": 8,
   "metadata": {},
   "outputs": [
    {
     "name": "stdout",
     "output_type": "stream",
     "text": [
      "[7, 8, 9, 10]\n"
     ]
    }
   ],
   "source": [
    "values = list(range(11))\n",
    "less_than_seven = lambda x: x < 7\n",
    "it = itertools.dropwhile(less_than_seven, values)\n",
    "print(list(it))"
   ]
  },
  {
   "cell_type": "code",
   "execution_count": 14,
   "metadata": {},
   "outputs": [
    {
     "name": "stdout",
     "output_type": "stream",
     "text": [
      "리스트 한 개: [(1, 1, 1), (1, 1, 2), (1, 2, 1), (1, 2, 2), (2, 1, 1), (2, 1, 2), (2, 2, 1), (2, 2, 2)]\n",
      "리스트 2개:  [(1, 'a', '4', 'product'), (1, 'a', '4', 'uu'), (1, 'a', '5', 'product'), (1, 'a', '5', 'uu'), (2, 'a', '4', 'product'), (2, 'a', '4', 'uu'), (2, 'a', '5', 'product'), (2, 'a', '5', 'uu')]\n"
     ]
    }
   ],
   "source": [
    "single = itertools.product([1, 2], repeat=3)\n",
    "print('리스트 한 개:', list(single))\n",
    "\n",
    "multiple = itertools.product([1,2], ['a'], ['4','5'], ['product', 'uu']) # 계속 가능!\n",
    "print('리스트 2개: ', list(multiple))"
   ]
  }
 ],
 "metadata": {
  "kernelspec": {
   "display_name": "Python 3",
   "language": "python",
   "name": "python3"
  },
  "language_info": {
   "codemirror_mode": {
    "name": "ipython",
    "version": 3
   },
   "file_extension": ".py",
   "mimetype": "text/x-python",
   "name": "python",
   "nbconvert_exporter": "python",
   "pygments_lexer": "ipython3",
   "version": "3.12.2"
  }
 },
 "nbformat": 4,
 "nbformat_minor": 2
}
