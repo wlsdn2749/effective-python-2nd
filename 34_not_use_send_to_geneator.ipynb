{
 "cells": [
  {
   "cell_type": "code",
   "execution_count": 1,
   "metadata": {},
   "outputs": [],
   "source": [
    "import math\n",
    "\n",
    "def wave(amplitude, steps):\n",
    "    step_size = 2 * math.pi / steps\n",
    "    for step in range(steps):\n",
    "        radians = step * step_size\n",
    "        fraction = math.sin(radians)\n",
    "        output = amplitude * fraction\n",
    "        yield output"
   ]
  },
  {
   "cell_type": "code",
   "execution_count": 2,
   "metadata": {},
   "outputs": [],
   "source": [
    "def transmit(output):\n",
    "    if output is None:\n",
    "        print(f'출력: None')\n",
    "    else:\n",
    "        print(f'출력: {output:>5.1f}')"
   ]
  },
  {
   "cell_type": "code",
   "execution_count": 3,
   "metadata": {},
   "outputs": [
    {
     "name": "stdout",
     "output_type": "stream",
     "text": [
      "출력:   0.0\n",
      "출력:   2.1\n",
      "출력:   3.0\n",
      "출력:   2.1\n",
      "출력:   0.0\n",
      "출력:  -2.1\n",
      "출력:  -3.0\n",
      "출력:  -2.1\n"
     ]
    }
   ],
   "source": [
    "def run(it):\n",
    "    for output in it:\n",
    "        transmit(output)\n",
    "\n",
    "run(wave(3.0, 8))"
   ]
  },
  {
   "cell_type": "code",
   "execution_count": 4,
   "metadata": {},
   "outputs": [
    {
     "name": "stdout",
     "output_type": "stream",
     "text": [
      "출력값 = 1\n",
      "받은 값 = None\n",
      "출력값 = 1\n",
      "받은 값 = 안녕!\n"
     ]
    }
   ],
   "source": [
    "def my_generator():\n",
    "    received = yield 1\n",
    "    print(f'받은 값 = {received}')\n",
    "\n",
    "it = iter(my_generator())\n",
    "output = next(it)  # 첫 번째 제너레이터 출력을 얻는다\n",
    "print(f'출력값 = {output}')\n",
    "\n",
    "try:\n",
    "    next(it)  # 종료될 때까지 제너레이터를 실행한다\n",
    "except StopIteration:\n",
    "    pass\n",
    "\n",
    "#\n",
    "it = iter(my_generator())\n",
    "output = it.send(None)     # 첫 번째 제너레이터 출력을 얻는다 스트리밍함과 동시에 출력을 얻을 수 있다.\n",
    "print(f'출력값 = {output}')\n",
    "\n",
    "try:\n",
    "    it.send('안녕!')    # 값을 제너레이터에 넣는다\n",
    "except StopIteration:\n",
    "    pass"
   ]
  },
  {
   "cell_type": "code",
   "execution_count": 5,
   "metadata": {},
   "outputs": [
    {
     "name": "stdout",
     "output_type": "stream",
     "text": [
      "출력: None\n",
      "출력:   0.0\n",
      "출력:   3.5\n",
      "출력:   6.1\n",
      "출력:   2.0\n",
      "출력:   1.7\n",
      "출력:   1.0\n",
      "출력:   0.0\n",
      "출력:  -5.0\n",
      "출력:  -8.7\n",
      "출력: -10.0\n",
      "출력:  -8.7\n",
      "출력:  -5.0\n"
     ]
    }
   ],
   "source": [
    "import math\n",
    "def wave_modulating(steps):\n",
    "    step_size = 2 * math.pi / steps\n",
    "    amplitude = yield                # 초기 진폭을 받는다\n",
    "    for step in range(steps):\n",
    "        radians = step * step_size\n",
    "        fraction = math.sin(radians)\n",
    "        output = amplitude * fraction\n",
    "        amplitude = yield output     # 다음 진폭을 받는다\n",
    "\n",
    "#\n",
    "def run_modulating(it):\n",
    "    amplitudes = [\n",
    "        None, 7, 7, 7, 2, 2, 2, 2, 10, 10, 10, 10, 10]\n",
    "    for amplitude in amplitudes:\n",
    "        output = it.send(amplitude)\n",
    "        transmit(output)\n",
    "\n",
    "run_modulating(wave_modulating(12))"
   ]
  },
  {
   "cell_type": "code",
   "execution_count": 6,
   "metadata": {},
   "outputs": [
    {
     "name": "stdout",
     "output_type": "stream",
     "text": [
      "출력:   0.0\n",
      "출력:   6.1\n",
      "출력:  -6.1\n",
      "출력:   0.0\n",
      "출력:   2.0\n",
      "출력:   0.0\n",
      "출력:  -2.0\n",
      "출력:   0.0\n",
      "출력:   9.5\n",
      "출력:   5.9\n",
      "출력:  -5.9\n",
      "출력:  -9.5\n"
     ]
    }
   ],
   "source": [
    "def complex_wave():\n",
    "    yield from wave(7.0, 3)\n",
    "    yield from wave(2.0, 4)\n",
    "    yield from wave(10.0, 5)\n",
    "\n",
    "run(complex_wave())"
   ]
  },
  {
   "cell_type": "code",
   "execution_count": 7,
   "metadata": {},
   "outputs": [
    {
     "name": "stdout",
     "output_type": "stream",
     "text": [
      "출력: None\n",
      "출력:   0.0\n",
      "출력:   6.1\n",
      "출력:  -6.1\n",
      "출력: None\n",
      "출력:   0.0\n",
      "출력:   2.0\n",
      "출력:   0.0\n",
      "출력: -10.0\n",
      "출력: None\n",
      "출력:   0.0\n",
      "출력:   9.5\n",
      "출력:   5.9\n"
     ]
    }
   ],
   "source": [
    "def complex_wave_modulating():\n",
    "    yield from wave_modulating(3) # \n",
    "    yield from wave_modulating(4)\n",
    "    yield from wave_modulating(5)\n",
    "\n",
    "run_modulating(complex_wave_modulating())"
   ]
  },
  {
   "cell_type": "code",
   "execution_count": 8,
   "metadata": {},
   "outputs": [],
   "source": [
    "def wave_cascading(amplitude_it, steps): #i 이터레이터에 넘기\n",
    "    step_size = 2 * math.pi / steps\n",
    "    for step in range(steps):\n",
    "        radians = step * step_size\n",
    "        fraction = math.sin(radians)\n",
    "        amplitude = next(amplitude_it) # 다음 입력 받기\n",
    "        output = amplitude * fraction\n",
    "        yield output"
   ]
  },
  {
   "cell_type": "code",
   "execution_count": 9,
   "metadata": {},
   "outputs": [],
   "source": [
    "def complex_wave_cascading(amplitude_it):\n",
    "    yield from wave_cascading(amplitude_it, 3)\n",
    "    yield from wave_cascading(amplitude_it, 4)\n",
    "    yield from wave_cascading(amplitude_it, 5)\n"
   ]
  },
  {
   "cell_type": "code",
   "execution_count": 10,
   "metadata": {},
   "outputs": [
    {
     "name": "stdout",
     "output_type": "stream",
     "text": [
      "출력:   0.0\n",
      "출력:   6.1\n",
      "출력:  -6.1\n",
      "출력:   0.0\n",
      "출력:   2.0\n",
      "출력:   0.0\n",
      "출력:  -2.0\n",
      "출력:   0.0\n",
      "출력:   9.5\n",
      "출력:   5.9\n",
      "출력:  -5.9\n",
      "출력:  -9.5\n"
     ]
    }
   ],
   "source": [
    "def run_cascading():\n",
    "    amplitudes = [7, 7, 7, 2, 2, 2, 2, 10, 10, 10, 10, 10]\n",
    "    it = complex_wave_cascading(iter(amplitudes))\n",
    "    for amplitude in amplitudes:\n",
    "        output = next(it)\n",
    "        transmit(output)\n",
    "\n",
    "\n",
    "run_cascading()        "
   ]
  }
 ],
 "metadata": {
  "kernelspec": {
   "display_name": "base",
   "language": "python",
   "name": "python3"
  },
  "language_info": {
   "codemirror_mode": {
    "name": "ipython",
    "version": 3
   },
   "file_extension": ".py",
   "mimetype": "text/x-python",
   "name": "python",
   "nbconvert_exporter": "python",
   "pygments_lexer": "ipython3",
   "version": "3.10.11"
  }
 },
 "nbformat": 4,
 "nbformat_minor": 2
}
