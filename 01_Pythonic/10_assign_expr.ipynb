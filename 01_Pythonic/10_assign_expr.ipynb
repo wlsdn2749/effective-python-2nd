{
 "cells": [
  {
   "cell_type": "code",
   "execution_count": 1,
   "metadata": {},
   "outputs": [],
   "source": [
    "fresh_fruit = {\n",
    "    '사과': 10,\n",
    "    '바나나': 8,\n",
    "    '레몬': 5\n",
    "}\n",
    "\n",
    "def make_lemonade(count):\n",
    "    print(f'레모네이드를 {count} 만큼 만듭니다')\n",
    "    \n",
    "def out_of_stock():\n",
    "    print(f'레모네이드를 못만들어요')\n",
    "    "
   ]
  },
  {
   "cell_type": "code",
   "execution_count": 2,
   "metadata": {},
   "outputs": [
    {
     "name": "stdout",
     "output_type": "stream",
     "text": [
      "레모네이드를 5 만큼 만듭니다\n"
     ]
    }
   ],
   "source": [
    "count = fresh_fruit.get('레몬', 0) # 여기서 레몬이 얼마나 있는지 가져오고\n",
    "if count: # 0인지 아닌지에 따라 결과 출력 \n",
    "    make_lemonade(count)\n",
    "else:\n",
    "    out_of_stock()"
   ]
  },
  {
   "cell_type": "code",
   "execution_count": 3,
   "metadata": {},
   "outputs": [
    {
     "name": "stdout",
     "output_type": "stream",
     "text": [
      "레모네이드를 5 만큼 만듭니다\n"
     ]
    }
   ],
   "source": [
    "# 왈러스 연산자를 사용하게 되면 코드가 간결해진다\n",
    "\n",
    "if count := fresh_fruit.get('레몬', 0):\n",
    "    make_lemonade(count)\n",
    "else:\n",
    "    out_of_stock()"
   ]
  },
  {
   "cell_type": "code",
   "execution_count": 5,
   "metadata": {},
   "outputs": [
    {
     "ename": "AttributeError",
     "evalue": "'str' object has no attribute 'items'",
     "output_type": "error",
     "traceback": [
      "\u001b[0;31m---------------------------------------------------------------------------\u001b[0m",
      "\u001b[0;31mAttributeError\u001b[0m                            Traceback (most recent call last)",
      "Cell \u001b[0;32mIn[5], line 15\u001b[0m\n\u001b[1;32m     12\u001b[0m \u001b[39mif\u001b[39;00m \u001b[39mnot\u001b[39;00m fresh_fruit:\n\u001b[1;32m     13\u001b[0m     \u001b[39mbreak\u001b[39;00m\n\u001b[0;32m---> 15\u001b[0m \u001b[39mfor\u001b[39;00m fruit, count \u001b[39min\u001b[39;00m fresh_fruit\u001b[39m.\u001b[39;49mitems():\n\u001b[1;32m     16\u001b[0m     batch \u001b[39m=\u001b[39m make_juice(fruit, count)\n\u001b[1;32m     17\u001b[0m     bottles\u001b[39m.\u001b[39mextend(batch)\n",
      "\u001b[0;31mAttributeError\u001b[0m: 'str' object has no attribute 'items'"
     ]
    }
   ],
   "source": [
    "# 무한 루프 - 중간에서 끝내기 전략\n",
    "\n",
    "bottles = []\n",
    "def pick_fruit():\n",
    "    return \"apple\"\n",
    "\n",
    "def make_juice(fruit, count):\n",
    "    return fruit+'juice'\n",
    "\n",
    "while True:\n",
    "    fresh_fruit = pick_fruit()\n",
    "    if not fresh_fruit:\n",
    "        break\n",
    "    \n",
    "    for fruit, count in fresh_fruit.items():\n",
    "        batch = make_juice(fruit, count)\n",
    "        bottles.extend(batch)\n",
    "        \n",
    "# 왈러스 연산자 사용\n",
    "\n",
    "bottles = []\n",
    "while fresh_fruit := pick_fruit():\n",
    "    for fruit, count in fresh_fruit.items():\n",
    "        batch = make_juice(fruit, count)\n",
    "        bottles.extend(batch)"
   ]
  }
 ],
 "metadata": {
  "kernelspec": {
   "display_name": "DL",
   "language": "python",
   "name": "python3"
  },
  "language_info": {
   "codemirror_mode": {
    "name": "ipython",
    "version": 3
   },
   "file_extension": ".py",
   "mimetype": "text/x-python",
   "name": "python",
   "nbconvert_exporter": "python",
   "pygments_lexer": "ipython3",
   "version": "3.12.2"
  },
  "orig_nbformat": 4
 },
 "nbformat": 4,
 "nbformat_minor": 2
}
