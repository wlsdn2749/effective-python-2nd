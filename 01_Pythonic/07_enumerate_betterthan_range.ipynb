{
 "cells": [
  {
   "cell_type": "code",
   "execution_count": 2,
   "metadata": {},
   "outputs": [
    {
     "name": "stdout",
     "output_type": "stream",
     "text": [
      "0b1100110001001100100110000111011\n"
     ]
    }
   ],
   "source": [
    "from random import randint\n",
    "\n",
    "random_bits = 0\n",
    "for i in range(32):  # -> range() 객체 \n",
    "    if randint(0, 1):\n",
    "        random_bits |= 1 << i\n",
    "    \n",
    "print(bin(random_bits))"
   ]
  },
  {
   "cell_type": "code",
   "execution_count": 5,
   "metadata": {},
   "outputs": [
    {
     "name": "stdout",
     "output_type": "stream",
     "text": [
      "(0, '바닐라')\n",
      "(1, '초콜릿')\n"
     ]
    }
   ],
   "source": [
    "flavor_list = ['바닐라', '초콜릿', '피칸', '딸기']\n",
    "\n",
    "it = enumerate(flavor_list)\n",
    "print(next(it)) # next 객체를 호출하는 느낌\n",
    "print(next(it))"
   ]
  },
  {
   "cell_type": "code",
   "execution_count": 6,
   "metadata": {},
   "outputs": [
    {
     "name": "stdout",
     "output_type": "stream",
     "text": [
      "1: 바닐라\n",
      "2: 초콜릿\n",
      "3: 피칸\n",
      "4: 딸기\n"
     ]
    }
   ],
   "source": [
    "# enumerate의 두 번째 파라미터로 어디부터 수를 세기 시작할지 지정할 수 있다.\n",
    "\n",
    "for i, flavor in enumerate(flavor_list, 1):\n",
    "    print(f'{i}: {flavor}')"
   ]
  }
 ],
 "metadata": {
  "kernelspec": {
   "display_name": "DL",
   "language": "python",
   "name": "python3"
  },
  "language_info": {
   "codemirror_mode": {
    "name": "ipython",
    "version": 3
   },
   "file_extension": ".py",
   "mimetype": "text/x-python",
   "name": "python",
   "nbconvert_exporter": "python",
   "pygments_lexer": "ipython3",
   "version": "3.9.16"
  },
  "orig_nbformat": 4
 },
 "nbformat": 4,
 "nbformat_minor": 2
}
