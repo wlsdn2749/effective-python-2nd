{
 "cells": [
  {
   "cell_type": "code",
   "execution_count": null,
   "metadata": {},
   "outputs": [],
   "source": [
    "# 공백\n",
    "# 탭 대신 스페이스를 사용해 들여쓰기하라\n",
    "# 문법적으로 중요한 들여쓰기에는 4칸 스페이스를 사용하라\n",
    "# 라인 길이는 79개 문자 이하여야 한다.\n",
    "# 파일안에서 각 함수와 클래스 사이에는 빈 줄을 두 줄 넣어라\n",
    "# 클래스 안에서 메서드와 메서드 사이에는 빈줄을 한줄 넣어라\n",
    "# 딕셔너리에서 키와 콜론 사이에 공백 x, 한 줄 안에 키와 값을 같이 넣는 경우에는 콜론 다음에 스페이스를 하나 넣는다 \n",
    "# 변수 대입에서 = 전후에는 스페이스를 하나씩만 넣는다"
   ]
  },
  {
   "cell_type": "code",
   "execution_count": null,
   "metadata": {},
   "outputs": [],
   "source": [
    "# 명명 규약\n",
    "# 함수, 변수, 애트리뷰트는 lowercase_underscore처럼 소문자와 밑줄을 사용한다 (snake case)\n",
    "# 보호되야하는 인스턴스 애트리뷰트는 일반적인 애트리뷰트 이름 규칙르 따르되, _leading_underscore처럼 밑줄로 시작한다.\n",
    "# 비공개(클래스 안에서만 쓰이고 다른곳에서는 안쓰이는 경우) 일반적인 애트리뷰트 이름 규칙을 따르되 __leading_underscore 처럼 밑줄 2개로 시작한다.\n",
    "# 클래스는 CapitalizedWord 처럼 여러 단어를 이어 붙이되 각 단어의 첫글자를 대문자로 만든다.\n",
    "# 모듈 수준의 상수는 ALL_CAPS 처럼 모든 글자를 대문자로 하고 단어와 단어 사이를 밑줄로 연결한 형태를 사용한다.\n",
    "# 클래스에 들어 있는 인스턴스 메서드는 호출 대상 객체를 가리키는 첫 번째 인자의 이름으로 반드시 self를 사용해야한다\n",
    "# 클래스 메서드는 클래스를 가리키는 첫 번째 인자의 이름으로 반드시 cls를 사용해야한다."
   ]
  },
  {
   "cell_type": "code",
   "execution_count": null,
   "metadata": {},
   "outputs": [],
   "source": [
    "# 식과 문\n",
    "# 긍정적인식을 부정하지 말고 (if not a is b) 부정을 내부에 넣어라 (if a is not b)\n",
    "# 빈 컨테이너나 시퀀스를 검사할때는 길이를 0과 비교하지마라 if len(something) == 0 대신 if not something 이라는 조건문을 써라\n",
    "# 마찬가지로 비어 있지 않은 컨테이너나 시퀸스를 검사할떄는 길이가 0보다 큰지 비교하지마라 대신 컨테이너가 비어있지않은경우 암묵적인 True로 평가됨\n",
    "# 한 줄 짜리 if, for, while 한줄따리 except식을 사용하지마라 명확성을 위해 각 부분을 여러 줄에 나눠배치\n",
    "# 식을 다 못쓰면 식을 괄호로 둘러싸고 줄바꿈과 들여쓰기를 추가해서 읽기 쉽게 만들어라\n",
    "# 여러줄에 걸쳐 식을 쓸때는 줄이 계쇡딘다는 \\ 문자보다는 괄호를 사용하라"
   ]
  },
  {
   "cell_type": "code",
   "execution_count": null,
   "metadata": {},
   "outputs": [],
   "source": [
    "# 임포트\n",
    "# import 문은 항상 파일 맨 앞에 위치하라\n",
    "# 모듈 임포트는 항상 절대적인 이름을 사용하며, 상대적인 이름 사용하지마라 \n",
    "# from bar import foo  (O) import foo (X)\n",
    "# 반드시 상대적인 임포트인 경우 from . import foo 처럼 명시적인 구문을 사용하라\n",
    "# 임포트를 적을때는 표준 라이브러리 -> 서드 파티 -> 커스텀 모듈 순서로 섹션을 나눠라 각 섹션에서는 알파벳 순서로 모듈을 임포트 하라"
   ]
  }
 ],
 "metadata": {
  "language_info": {
   "name": "python"
  },
  "orig_nbformat": 4
 },
 "nbformat": 4,
 "nbformat_minor": 2
}
