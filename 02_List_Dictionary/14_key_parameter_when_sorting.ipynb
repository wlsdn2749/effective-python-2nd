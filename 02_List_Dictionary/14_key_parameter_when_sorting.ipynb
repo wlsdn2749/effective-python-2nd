{
 "cells": [
  {
   "cell_type": "code",
   "execution_count": null,
   "metadata": {},
   "outputs": [],
   "source": [
    "# sort는 자연스러운 순서로 정렬한다 ( 기본 오름차순 )\n",
    "numbers = [93, 86, 11, 68, 70]\n",
    "numbers.sort()\n",
    "print(numbers)"
   ]
  },
  {
   "cell_type": "code",
   "execution_count": 2,
   "metadata": {},
   "outputs": [],
   "source": [
    "class Tool:\n",
    "    def __init__(self, name, weight):\n",
    "        self.name = name\n",
    "        self.weight = weight\n",
    "    \n",
    "    def __repr__(self):\n",
    "        return f'Tool({self.name!r}, {self.weight})'\n",
    "    \n",
    "\n",
    "tools = [\n",
    "    Tool('수준계', 3.5),\n",
    "    Tool('해머', 1.25),\n",
    "    Tool('스크류드라이버', 0.5),\n",
    "    Tool('끌', 0.25),\n",
    "]"
   ]
  },
  {
   "cell_type": "code",
   "execution_count": 2,
   "metadata": {},
   "outputs": [
    {
     "ename": "TypeError",
     "evalue": "'<' not supported between instances of 'Tool' and 'Tool'",
     "output_type": "error",
     "traceback": [
      "\u001b[0;31m---------------------------------------------------------------------------\u001b[0m",
      "\u001b[0;31mTypeError\u001b[0m                                 Traceback (most recent call last)",
      "\u001b[1;32m/workspace/effective_python_2nd/14_key_parameter_when_sorting.ipynb 셀 3\u001b[0m line \u001b[0;36m1\n\u001b[0;32m----> <a href='vscode-notebook-cell://ssh-remote%2Bmain/workspace/effective_python_2nd/14_key_parameter_when_sorting.ipynb#W2sdnNjb2RlLXJlbW90ZQ%3D%3D?line=0'>1</a>\u001b[0m tools\u001b[39m.\u001b[39;49msort()\n",
      "\u001b[0;31mTypeError\u001b[0m: '<' not supported between instances of 'Tool' and 'Tool'"
     ]
    }
   ],
   "source": [
    "tools.sort() # 순서가 정의되어 있지 않으므로 정렬안됨"
   ]
  },
  {
   "cell_type": "code",
   "execution_count": 3,
   "metadata": {},
   "outputs": [
    {
     "name": "stdout",
     "output_type": "stream",
     "text": [
      "미정렬: [Tool('수준계', 3.5), Tool('해머', 1.25), Tool('스크류드라이버', 0.5), Tool('끌', 0.25)]\n",
      "\n",
      "정렬: [Tool('끌', 0.25), Tool('수준계', 3.5), Tool('스크류드라이버', 0.5), Tool('해머', 1.25)]\n"
     ]
    }
   ],
   "source": [
    "print('미정렬:', repr(tools))\n",
    "\n",
    "tools.sort(key=lambda x: x.name) # name을 기준으로 오름차순 정렬\n",
    "print('\\n정렬:', tools)"
   ]
  },
  {
   "cell_type": "code",
   "execution_count": 4,
   "metadata": {},
   "outputs": [
    {
     "name": "stdout",
     "output_type": "stream",
     "text": [
      "대소문자 구분: ['New york', 'Paris', 'home', 'work']\n",
      "대소문자 무시: ['home', 'New york', 'Paris', 'work']\n"
     ]
    }
   ],
   "source": [
    "# Key로 전달된 람다 함수 내부에서는 원소 애트리뷰트로 접근하거나\n",
    "# 인덱스를 써서 값을 얻거나, 제대로 작동하는 모든 식을 통해 정렬할 수 있다.\n",
    "\n",
    "# 문자열 같은 경우에는 lower() 함수를 사용하여 원소값 변형도 가능하다\n",
    "places = ['home', 'work', 'New york', 'Paris']\n",
    "places.sort()\n",
    "print('대소문자 구분:', places)\n",
    "places.sort(key=lambda x: x.lower())\n",
    "print('대소문자 무시:', places)"
   ]
  },
  {
   "cell_type": "code",
   "execution_count": 5,
   "metadata": {},
   "outputs": [
    {
     "name": "stdout",
     "output_type": "stream",
     "text": [
      "[Tool('끌', 0.25), Tool('수준계', 3.5), Tool('스크류드라이버', 0.5), Tool('해머', 1.25)]\n"
     ]
    }
   ],
   "source": [
    "# 2개 이상의 순서로 정렬 하고 싶으면?\n",
    "\n",
    "tools.sort(key=lambda x: (x.name, -x.weight)) # 튜플로 순서를 정하고, (-) 연산자로 내림차순 오름차순으 정하면된다\n",
    "print(tools)"
   ]
  },
  {
   "cell_type": "code",
   "execution_count": 10,
   "metadata": {},
   "outputs": [
    {
     "name": "stdout",
     "output_type": "stream",
     "text": [
      "[Tool('해머', 1.25), Tool('스크류드라이버', 0.5), Tool('수준계', 3.5), Tool('끌', 0.25)]\n",
      "[Tool('끌', 0.25), Tool('수준계', 3.5), Tool('스크류드라이버', 0.5), Tool('해머', 1.25)]\n"
     ]
    }
   ],
   "source": [
    "# 이름 내림차순, 무게 오름차순이면\n",
    "\n",
    "tools.sort(key=lambda x: (x.name, -x.weight), reverse=True) # 이름 내림차순, \n",
    "print(tools)\n",
    "\n",
    "# 이름 오름차순, 무게 내림차순\n",
    "\n",
    "tools.sort(key=lambda x: (x.name, -x.weight))\n",
    "print(tools)"
   ]
  },
  {
   "cell_type": "code",
   "execution_count": null,
   "metadata": {},
   "outputs": [],
   "source": []
  }
 ],
 "metadata": {
  "kernelspec": {
   "display_name": "DL",
   "language": "python",
   "name": "python3"
  },
  "language_info": {
   "codemirror_mode": {
    "name": "ipython",
    "version": 3
   },
   "file_extension": ".py",
   "mimetype": "text/x-python",
   "name": "python",
   "nbconvert_exporter": "python",
   "pygments_lexer": "ipython3",
   "version": "3.12.2"
  }
 },
 "nbformat": 4,
 "nbformat_minor": 2
}
