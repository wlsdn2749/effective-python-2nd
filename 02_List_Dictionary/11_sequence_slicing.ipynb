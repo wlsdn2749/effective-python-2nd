{
 "cells": [
  {
   "cell_type": "code",
   "execution_count": 5,
   "metadata": {},
   "outputs": [],
   "source": [
    "a = [1,2,3,4,5,6,7,8,9]\n",
    "\n",
    "assert a[:5] == a[0:5] # 0~5 slicing 은 0 생략\n",
    "assert a[5:] == a[5:len(a)] # 5~끝 은 끝을 생략"
   ]
  },
  {
   "cell_type": "code",
   "execution_count": 8,
   "metadata": {},
   "outputs": [
    {
     "name": "stdout",
     "output_type": "stream",
     "text": [
      "[1, 2, 10, 20, 30, 8, 9]\n",
      "[1, 10, 20, 30, 3, 4, 5, 6, 7, 8, 9]\n"
     ]
    }
   ],
   "source": [
    "b = a[1:2] # 이렇게 복사된 b배열은 a와는 다른 주소값을 가지므로 a를 바꿔도 b에 영향이 가지 않는다\n",
    "\n",
    "a = [1,2,3,4,5,6,7,8,9]\n",
    "a[2:7] = [10,20,30] # 대입되는 크기가 슬라이싱보다 작다면 크기가 작아진다\n",
    "print(a)\n",
    "\n",
    "\n",
    "b = [1,2,3,4,5,6,7,8,9]\n",
    "b[1:2] = [10,20,30] # 대입되는 크기가 슬라이싱보다 크다면 크기가 커진다\n",
    "print(b)"
   ]
  },
  {
   "cell_type": "code",
   "execution_count": 10,
   "metadata": {},
   "outputs": [],
   "source": [
    "# 시작과 끝 인덱스가 없는 슬라이스에 대입하면 새 리스트를 만들어낸다\n",
    "a = [1,2,3]\n",
    "b = a[:]\n",
    "assert a == b and b is not a\n",
    "\n"
   ]
  }
 ],
 "metadata": {
  "kernelspec": {
   "display_name": "DL",
   "language": "python",
   "name": "python3"
  },
  "language_info": {
   "codemirror_mode": {
    "name": "ipython",
    "version": 3
   },
   "file_extension": ".py",
   "mimetype": "text/x-python",
   "name": "python",
   "nbconvert_exporter": "python",
   "pygments_lexer": "ipython3",
   "version": "3.9.16"
  },
  "orig_nbformat": 4
 },
 "nbformat": 4,
 "nbformat_minor": 2
}
