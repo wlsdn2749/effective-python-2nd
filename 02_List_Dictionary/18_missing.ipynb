{
 "cells": [
  {
   "cell_type": "code",
   "execution_count": 2,
   "metadata": {},
   "outputs": [],
   "source": [
    "pictures = {}\n",
    "path = 'profile_1234.png'\n",
    "\n",
    "if (handle := pictures.get(path)) is None:\n",
    "    try:\n",
    "        handle = open(path, 'a+b')\n",
    "    except OSError:\n",
    "        print(f'경로를 열 수 없습니다. {path}')\n",
    "        raise\n",
    "    else:\n",
    "        pictures[path] = handle\n",
    "        \n",
    "\n",
    "handle.seek(0)\n",
    "image_data = handle.read()\n",
    "\n",
    "# get으로 dict에 있는지 확인하고 열기\n",
    "# 없으면 pictures[path]에 handle을 넣는다."
   ]
  },
  {
   "cell_type": "code",
   "execution_count": 2,
   "metadata": {},
   "outputs": [],
   "source": [
    "try:\n",
    "    handle = pictures.setdefault(path, open(path, 'a+b'))\n",
    "\n",
    "except OSError: # 예외가 혼동 될 수 있다.\n",
    "    print(f'경로를 열수 없는니다 : {path}')\n",
    "    raise\n",
    "\n",
    "else:\n",
    "    handle.seek(0)\n",
    "    image_data = handle.read()"
   ]
  },
  {
   "cell_type": "code",
   "execution_count": 3,
   "metadata": {},
   "outputs": [
    {
     "ename": "TypeError",
     "evalue": "open_picture() missing 1 required positional argument: 'profile_path'",
     "output_type": "error",
     "traceback": [
      "\u001b[0;31m---------------------------------------------------------------------------\u001b[0m",
      "\u001b[0;31mTypeError\u001b[0m                                 Traceback (most recent call last)",
      "\u001b[1;32m/workspace/effective_python_2nd/18_missing.ipynb 셀 3\u001b[0m line \u001b[0;36m1\n\u001b[1;32m      <a href='vscode-notebook-cell://ssh-remote%2Bmain/workspace/effective_python_2nd/18_missing.ipynb#W2sdnNjb2RlLXJlbW90ZQ%3D%3D?line=7'>8</a>\u001b[0m         \u001b[39mraise\u001b[39;00m\n\u001b[1;32m     <a href='vscode-notebook-cell://ssh-remote%2Bmain/workspace/effective_python_2nd/18_missing.ipynb#W2sdnNjb2RlLXJlbW90ZQ%3D%3D?line=9'>10</a>\u001b[0m pictures \u001b[39m=\u001b[39m defaultdict(open_picture)\n\u001b[0;32m---> <a href='vscode-notebook-cell://ssh-remote%2Bmain/workspace/effective_python_2nd/18_missing.ipynb#W2sdnNjb2RlLXJlbW90ZQ%3D%3D?line=10'>11</a>\u001b[0m handle \u001b[39m=\u001b[39m pictures[path]\n\u001b[1;32m     <a href='vscode-notebook-cell://ssh-remote%2Bmain/workspace/effective_python_2nd/18_missing.ipynb#W2sdnNjb2RlLXJlbW90ZQ%3D%3D?line=11'>12</a>\u001b[0m handle\u001b[39m.\u001b[39mseek(\u001b[39m0\u001b[39m)\n\u001b[1;32m     <a href='vscode-notebook-cell://ssh-remote%2Bmain/workspace/effective_python_2nd/18_missing.ipynb#W2sdnNjb2RlLXJlbW90ZQ%3D%3D?line=12'>13</a>\u001b[0m image_data \u001b[39m=\u001b[39m handle\u001b[39m.\u001b[39mread()\n",
      "\u001b[0;31mTypeError\u001b[0m: open_picture() missing 1 required positional argument: 'profile_path'"
     ]
    }
   ],
   "source": [
    "from collections import defaultdict\n",
    "\n",
    "def open_picture(profile_path):\n",
    "    try:\n",
    "        return open(profile_path, 'a+b')\n",
    "    except OSError:\n",
    "        print(f'경로를 열수 없습니다. {profile_path}')\n",
    "        raise\n",
    "\n",
    "pictures = defaultdict(open_picture) # 인자를 받을 수 없다.\n",
    "handle = pictures[path]\n",
    "handle.seek(0)\n",
    "image_data = handle.read()"
   ]
  },
  {
   "cell_type": "code",
   "execution_count": 4,
   "metadata": {},
   "outputs": [],
   "source": [
    "class Pictures(dict):\n",
    "    def __missing__(self, key): # key가 dict에 없으면 호출 -> keyError가 뜰때 __missing__으로 넘어간다\n",
    "        value = open_picture(key) # 생성\n",
    "        self[key] = value\n",
    "        return value\n",
    "    \n",
    "pictures = Pictures()\n",
    "handle = pictures[path]\n",
    "handle.seek(0)\n",
    "image_data = handle.read()"
   ]
  }
 ],
 "metadata": {
  "kernelspec": {
   "display_name": "DL",
   "language": "python",
   "name": "python3"
  },
  "language_info": {
   "codemirror_mode": {
    "name": "ipython",
    "version": 3
   },
   "file_extension": ".py",
   "mimetype": "text/x-python",
   "name": "python",
   "nbconvert_exporter": "python",
   "pygments_lexer": "ipython3",
   "version": "3.12.2"
  }
 },
 "nbformat": 4,
 "nbformat_minor": 2
}
