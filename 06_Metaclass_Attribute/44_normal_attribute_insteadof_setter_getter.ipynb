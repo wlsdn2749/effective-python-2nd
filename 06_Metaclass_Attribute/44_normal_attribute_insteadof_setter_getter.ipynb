{
 "cells": [
  {
   "cell_type": "code",
   "execution_count": 5,
   "metadata": {},
   "outputs": [],
   "source": [
    "class OldResistor:\n",
    "    def __init__(self, ohms):\n",
    "        self._ohms = ohms\n",
    "        \n",
    "    def get_ohms(self): # 게터\n",
    "        return self._ohms\n",
    "    \n",
    "    def set_ohms(self, ohms): # 세터\n",
    "        self._ohms = ohms\n",
    "        "
   ]
  },
  {
   "cell_type": "code",
   "execution_count": 6,
   "metadata": {},
   "outputs": [
    {
     "name": "stdout",
     "output_type": "stream",
     "text": [
      "이전:  50000.0\n",
      "이후:  10000.0\n"
     ]
    }
   ],
   "source": [
    "r0 = OldResistor(50e3)\n",
    "print('이전: ', r0.get_ohms())\n",
    "r0.set_ohms(10e3)\n",
    "print('이후: ', r0.get_ohms())"
   ]
  },
  {
   "cell_type": "code",
   "execution_count": 7,
   "metadata": {},
   "outputs": [],
   "source": [
    "r0.set_ohms(r0.get_ohms() - 4e3) # 단순연산임에도 코드가 지저분해짐\n",
    "assert r0.get_ohms() == 6e3 "
   ]
  },
  {
   "cell_type": "code",
   "execution_count": 9,
   "metadata": {},
   "outputs": [],
   "source": [
    "class Resistor:\n",
    "    def __init__(self, ohms):\n",
    "        self.ohms = ohms\n",
    "        self.voltage = 0\n",
    "        self.current = 0\n",
    "        \n",
    "    \n",
    "r1 = Resistor(50e3)\n",
    "r1.ohms = 10e3 # 보다 명확해짐\n",
    "\n",
    "r1.ohms += 5e3\n",
    "\n",
    "\n",
    "\n",
    "\n",
    "        "
   ]
  },
  {
   "cell_type": "code",
   "execution_count": 10,
   "metadata": {},
   "outputs": [],
   "source": [
    "class VoltageResistance(Resistor):\n",
    "    def __init__(self, ohms):\n",
    "        super().__init__(ohms)\n",
    "        self._voltage = 0\n",
    "        \n",
    "    @property\n",
    "    def voltage(self):\n",
    "        return self._voltage\n",
    "    \n",
    "\n",
    "    @voltage.setter\n",
    "    def voltage(self, voltage):\n",
    "        self._voltage = voltage\n",
    "        self.current = self._voltage / self.ohms\n",
    "    \n",
    "# voltage property에 대입하면 voltage setter 메서드가 호출되고\n",
    "# 이 메서드는 current 애트리뷰트를 변경된 전압값에 바꿔 갱신한다\n"
   ]
  },
  {
   "cell_type": "code",
   "execution_count": 11,
   "metadata": {},
   "outputs": [
    {
     "name": "stdout",
     "output_type": "stream",
     "text": [
      "이전:  0.00 암페어\n",
      "이후: 0.01 암페어 \n"
     ]
    }
   ],
   "source": [
    "r2 = VoltageResistance(1e3)\n",
    "print(f'이전: {r2.current: .2f} 암페어')\n",
    "r2.voltage = 10 # setter 호출 하면 단순 voltage만 바뀌는게 아니라 \n",
    "print(f'이후: {r2.current:.2f} 암페어 ') # current도 동시에 바뀌게 할수 있다."
   ]
  },
  {
   "cell_type": "code",
   "execution_count": 13,
   "metadata": {},
   "outputs": [],
   "source": [
    "# 프로퍼티에 대해 세터를 지정하면 타입을 검사하거나 클래스 프로퍼티에 전달된 값에 대한 검증을 수행 할 수 있다.\n",
    "\n",
    "class BoundedResistance(Resistor):\n",
    "    def __init__(self, ohms):\n",
    "        super().__init__(ohms)\n",
    "        \n",
    "    @property\n",
    "    def ohms(self):\n",
    "        return self._ohms\n",
    "    \n",
    "\n",
    "    @ohms.setter\n",
    "    def ohms(self, ohms):\n",
    "        if ohms <= 0:\n",
    "            raise ValueError(f'저항 > 0 이어야 합니다. 실제 값: {ohms}')\n",
    "        self._ohms = ohms"
   ]
  },
  {
   "cell_type": "code",
   "execution_count": 15,
   "metadata": {},
   "outputs": [
    {
     "ename": "ValueError",
     "evalue": "저항 > 0 이어야 합니다. 실제 값: 0",
     "output_type": "error",
     "traceback": [
      "\u001b[0;31m---------------------------------------------------------------------------\u001b[0m",
      "\u001b[0;31mValueError\u001b[0m                                Traceback (most recent call last)",
      "Cell \u001b[0;32mIn[15], line 2\u001b[0m\n\u001b[1;32m      1\u001b[0m r3 \u001b[39m=\u001b[39m BoundedResistance(\u001b[39m1e3\u001b[39m)\n\u001b[0;32m----> 2\u001b[0m r3\u001b[39m.\u001b[39;49mohms \u001b[39m=\u001b[39m \u001b[39m0\u001b[39m \u001b[39m# 잘못된 저항값 에러\u001b[39;00m\n",
      "Cell \u001b[0;32mIn[13], line 15\u001b[0m, in \u001b[0;36mBoundedResistance.ohms\u001b[0;34m(self, ohms)\u001b[0m\n\u001b[1;32m     12\u001b[0m \u001b[39m@ohms\u001b[39m\u001b[39m.\u001b[39msetter\n\u001b[1;32m     13\u001b[0m \u001b[39mdef\u001b[39;00m \u001b[39mohms\u001b[39m(\u001b[39mself\u001b[39m, ohms):\n\u001b[1;32m     14\u001b[0m     \u001b[39mif\u001b[39;00m ohms \u001b[39m<\u001b[39m\u001b[39m=\u001b[39m \u001b[39m0\u001b[39m:\n\u001b[0;32m---> 15\u001b[0m         \u001b[39mraise\u001b[39;00m \u001b[39mValueError\u001b[39;00m(\u001b[39mf\u001b[39m\u001b[39m'\u001b[39m\u001b[39m저항 > 0 이어야 합니다. 실제 값: \u001b[39m\u001b[39m{\u001b[39;00mohms\u001b[39m}\u001b[39;00m\u001b[39m'\u001b[39m)\n\u001b[1;32m     16\u001b[0m     \u001b[39mself\u001b[39m\u001b[39m.\u001b[39m_ohms \u001b[39m=\u001b[39m ohms\n",
      "\u001b[0;31mValueError\u001b[0m: 저항 > 0 이어야 합니다. 실제 값: 0"
     ]
    }
   ],
   "source": [
    "r3 = BoundedResistance(1e3)\n",
    "r3.ohms = 0 # 잘못된 저항값 에러"
   ]
  },
  {
   "cell_type": "code",
   "execution_count": 16,
   "metadata": {},
   "outputs": [
    {
     "ename": "ValueError",
     "evalue": "저항 > 0 이어야 합니다. 실제 값: -5",
     "output_type": "error",
     "traceback": [
      "\u001b[0;31m---------------------------------------------------------------------------\u001b[0m",
      "\u001b[0;31mValueError\u001b[0m                                Traceback (most recent call last)",
      "Cell \u001b[0;32mIn[16], line 1\u001b[0m\n\u001b[0;32m----> 1\u001b[0m BoundedResistance(\u001b[39m-\u001b[39;49m\u001b[39m5\u001b[39;49m)\n",
      "Cell \u001b[0;32mIn[13], line 5\u001b[0m, in \u001b[0;36mBoundedResistance.__init__\u001b[0;34m(self, ohms)\u001b[0m\n\u001b[1;32m      4\u001b[0m \u001b[39mdef\u001b[39;00m \u001b[39m__init__\u001b[39m(\u001b[39mself\u001b[39m, ohms):\n\u001b[0;32m----> 5\u001b[0m     \u001b[39msuper\u001b[39;49m()\u001b[39m.\u001b[39;49m\u001b[39m__init__\u001b[39;49m(ohms)\n",
      "Cell \u001b[0;32mIn[9], line 3\u001b[0m, in \u001b[0;36mResistor.__init__\u001b[0;34m(self, ohms)\u001b[0m\n\u001b[1;32m      2\u001b[0m \u001b[39mdef\u001b[39;00m \u001b[39m__init__\u001b[39m(\u001b[39mself\u001b[39m, ohms):\n\u001b[0;32m----> 3\u001b[0m     \u001b[39mself\u001b[39;49m\u001b[39m.\u001b[39;49mohms \u001b[39m=\u001b[39m ohms\n\u001b[1;32m      4\u001b[0m     \u001b[39mself\u001b[39m\u001b[39m.\u001b[39mvoltage \u001b[39m=\u001b[39m \u001b[39m0\u001b[39m\n\u001b[1;32m      5\u001b[0m     \u001b[39mself\u001b[39m\u001b[39m.\u001b[39mcurrent \u001b[39m=\u001b[39m \u001b[39m0\u001b[39m\n",
      "Cell \u001b[0;32mIn[13], line 15\u001b[0m, in \u001b[0;36mBoundedResistance.ohms\u001b[0;34m(self, ohms)\u001b[0m\n\u001b[1;32m     12\u001b[0m \u001b[39m@ohms\u001b[39m\u001b[39m.\u001b[39msetter\n\u001b[1;32m     13\u001b[0m \u001b[39mdef\u001b[39;00m \u001b[39mohms\u001b[39m(\u001b[39mself\u001b[39m, ohms):\n\u001b[1;32m     14\u001b[0m     \u001b[39mif\u001b[39;00m ohms \u001b[39m<\u001b[39m\u001b[39m=\u001b[39m \u001b[39m0\u001b[39m:\n\u001b[0;32m---> 15\u001b[0m         \u001b[39mraise\u001b[39;00m \u001b[39mValueError\u001b[39;00m(\u001b[39mf\u001b[39m\u001b[39m'\u001b[39m\u001b[39m저항 > 0 이어야 합니다. 실제 값: \u001b[39m\u001b[39m{\u001b[39;00mohms\u001b[39m}\u001b[39;00m\u001b[39m'\u001b[39m)\n\u001b[1;32m     16\u001b[0m     \u001b[39mself\u001b[39m\u001b[39m.\u001b[39m_ohms \u001b[39m=\u001b[39m ohms\n",
      "\u001b[0;31mValueError\u001b[0m: 저항 > 0 이어야 합니다. 실제 값: -5"
     ]
    }
   ],
   "source": [
    "BoundedResistance(-5) # 생성자에 잘못된 값을 넘겨도 예외 발생\n",
    "\n",
    "# why?\n",
    "# BoundedResistance.__init__() -> Resistor.__init__ 호출\n",
    "# self.ohms = -5 라는 대입문 실행\n",
    "# 이때 BoundResistance에 있는 @ohms.setter 메서드 호출\n",
    "# 객체 생성이 끝나기전에 즉지 저항을 검증하는 코드를 실행"
   ]
  },
  {
   "cell_type": "code",
   "execution_count": 17,
   "metadata": {},
   "outputs": [],
   "source": [
    "# @property를 활용해 부모 클래스에 정의된 애트리뷰트를 불변으로 만들 수도 있다.\n",
    "\n",
    "class FixedResistance(Resistor):\n",
    "    def __init__(self, ohms):\n",
    "        super().__init__(ohms)\n",
    "        \n",
    "    @property\n",
    "    def ohms(self):\n",
    "        return self._ohms\n",
    "    \n",
    "    @ohms.setter\n",
    "    def ohms(self, ohms):\n",
    "        if hasattr(self, '_ohms'): # 생성할때는 없으니 통과 , 이후는 안됨\n",
    "            raise AttributeError(\"OHms는 불변 객체 입니다.\")\n",
    "    \n",
    "        self._ohms = ohms\n",
    "    "
   ]
  },
  {
   "cell_type": "code",
   "execution_count": 18,
   "metadata": {},
   "outputs": [
    {
     "ename": "AttributeError",
     "evalue": "OHms는 불변 객체 입니다.",
     "output_type": "error",
     "traceback": [
      "\u001b[0;31m---------------------------------------------------------------------------\u001b[0m",
      "\u001b[0;31mAttributeError\u001b[0m                            Traceback (most recent call last)",
      "Cell \u001b[0;32mIn[18], line 2\u001b[0m\n\u001b[1;32m      1\u001b[0m r4 \u001b[39m=\u001b[39m FixedResistance(\u001b[39m1e3\u001b[39m)\n\u001b[0;32m----> 2\u001b[0m r4\u001b[39m.\u001b[39;49mohms \u001b[39m=\u001b[39m \u001b[39m2e3\u001b[39m\n",
      "Cell \u001b[0;32mIn[17], line 14\u001b[0m, in \u001b[0;36mFixedResistance.ohms\u001b[0;34m(self, ohms)\u001b[0m\n\u001b[1;32m     11\u001b[0m \u001b[39m@ohms\u001b[39m\u001b[39m.\u001b[39msetter\n\u001b[1;32m     12\u001b[0m \u001b[39mdef\u001b[39;00m \u001b[39mohms\u001b[39m(\u001b[39mself\u001b[39m, ohms):\n\u001b[1;32m     13\u001b[0m     \u001b[39mif\u001b[39;00m \u001b[39mhasattr\u001b[39m(\u001b[39mself\u001b[39m, \u001b[39m'\u001b[39m\u001b[39m_ohms\u001b[39m\u001b[39m'\u001b[39m):\n\u001b[0;32m---> 14\u001b[0m         \u001b[39mraise\u001b[39;00m \u001b[39mAttributeError\u001b[39;00m(\u001b[39m\"\u001b[39m\u001b[39mOHms는 불변 객체 입니다.\u001b[39m\u001b[39m\"\u001b[39m)\n\u001b[1;32m     16\u001b[0m     \u001b[39mself\u001b[39m\u001b[39m.\u001b[39m_ohms \u001b[39m=\u001b[39m ohms\n",
      "\u001b[0;31mAttributeError\u001b[0m: OHms는 불변 객체 입니다."
     ]
    }
   ],
   "source": [
    "r4 = FixedResistance(1e3)\n",
    "r4.ohms = 2e3"
   ]
  },
  {
   "cell_type": "code",
   "execution_count": 19,
   "metadata": {},
   "outputs": [],
   "source": [
    "class MysteriousResistor(Resistor):\n",
    "    @property\n",
    "    def ohms(self): # getter에서 예기치 못한 동작을 수행하지않도록 해야한다. 즉 게터는 딱 게터만!\n",
    "        self.voltage = self._ohms * self.current\n",
    "        return self._ohms\n",
    "    \n",
    "    @ohms.setter\n",
    "    def ohms(self, ohms):\n",
    "        self._ohms = ohms"
   ]
  },
  {
   "cell_type": "code",
   "execution_count": 20,
   "metadata": {},
   "outputs": [
    {
     "name": "stdout",
     "output_type": "stream",
     "text": [
      "이전 : 0.00\n",
      "이후:0.10\n"
     ]
    }
   ],
   "source": [
    "r7 = MysteriousResistor(10)\n",
    "r7.current = 0.01\n",
    "print(f'이전 : {r7.voltage:.2f}')\n",
    "r7.ohms # 호출만 햇는데? 값이 바뀐다..?\n",
    "print(f'이후:{r7.voltage:.2f}')\n",
    "\n",
    "\n",
    "\n",
    "# @property의 가장 큰 단점은, 애트리뷰트를 처리하는 메서드가 하위 클래스 사이에서만 공유될 수 있다는 점이다.\n",
    "\n",
    "# 재사용 가능한 프로퍼티 로직을 구현할 떄는 디스크립터를 사용해라!"
   ]
  }
 ],
 "metadata": {
  "kernelspec": {
   "display_name": "Python 3",
   "language": "python",
   "name": "python3"
  },
  "language_info": {
   "codemirror_mode": {
    "name": "ipython",
    "version": 3
   },
   "file_extension": ".py",
   "mimetype": "text/x-python",
   "name": "python",
   "nbconvert_exporter": "python",
   "pygments_lexer": "ipython3",
   "version": "3.9.5"
  },
  "orig_nbformat": 4
 },
 "nbformat": 4,
 "nbformat_minor": 2
}
