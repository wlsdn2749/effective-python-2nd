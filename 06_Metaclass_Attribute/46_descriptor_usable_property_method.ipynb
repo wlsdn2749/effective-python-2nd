{
 "cells": [
  {
   "cell_type": "code",
   "execution_count": 1,
   "metadata": {},
   "outputs": [],
   "source": [
    "class Homework:\n",
    "    def __init__(self):\n",
    "        self._grade = 0\n",
    "\n",
    "    @property\n",
    "    def grade(self):\n",
    "        return self._grade\n",
    "\n",
    "    @grade.setter\n",
    "    def grade(self, value):\n",
    "        if not (0 <= value <= 100):\n",
    "            raise ValueError(\n",
    "                '점수는 0과 100 사이입니다')\n",
    "        self._grade = value"
   ]
  },
  {
   "cell_type": "code",
   "execution_count": 2,
   "metadata": {},
   "outputs": [],
   "source": [
    "galileo = Homework()\n",
    "galileo.grade = 95"
   ]
  },
  {
   "cell_type": "code",
   "execution_count": null,
   "metadata": {},
   "outputs": [],
   "source": [
    "class Exam:\n",
    "    def __init__(self):\n",
    "        self._writing_grade = 0\n",
    "        self._math_grade = 0\n",
    "\n",
    "    @staticmethod\n",
    "    def _check_grade(value):\n",
    "        if not (0 <= value <= 100):\n",
    "            raise ValueError(\n",
    "                '점수는 0과 100 사이입니다')\n",
    "\n",
    "    @property\n",
    "    def writing_grade(self):\n",
    "        return self._writing_grade\n",
    "\n",
    "    @writing_grade.setter\n",
    "    def writing_grade(self, value):\n",
    "        self._check_grade(value)\n",
    "        self._writing_grade = value\n",
    "\n",
    "    @property\n",
    "    def math_grade(self):\n",
    "        return self._math_grade # 비슷한 로직을 두번이나?\n",
    "\n",
    "    @math_grade.setter\n",
    "    def math_grade(self, value):\n",
    "        self._check_grade(value)\n",
    "        self._math_grade = value"
   ]
  },
  {
   "cell_type": "code",
   "execution_count": 3,
   "metadata": {},
   "outputs": [],
   "source": [
    "class Grade:\n",
    "    def __init__(self):\n",
    "        self._value = 0\n",
    "    def __get__(self, instance, instance_type):\n",
    "        return self._value\n",
    "    def __set__(self, instance, value):\n",
    "        if not (0 <= value <= 100):\n",
    "            raise ValueError(\n",
    "                '점수는 0과 100 사이입니다')\n",
    "        self._value = value"
   ]
  },
  {
   "cell_type": "code",
   "execution_count": 4,
   "metadata": {},
   "outputs": [],
   "source": [
    "class Exam:\n",
    "    # 클래스 애트리뷰트\n",
    "    math_grade = Grade()\n",
    "    writing_grade = Grade()\n",
    "    science_grade = Grade()\n",
    "    \n",
    "exam = Exam()\n",
    "exam.writing_grade = 40 \n",
    "\n",
    "# Exam.__dict__['writing_grade'].__set__(exam, 40) 으로 해석되고\n",
    "# exam.writing_grade -> Exam.__dict__['writing_grade'].__get__(exam, Exam)"
   ]
  },
  {
   "cell_type": "code",
   "execution_count": 5,
   "metadata": {},
   "outputs": [],
   "source": [
    "class Grade:\n",
    "    def __init__(self):\n",
    "        self._values = {}\n",
    "\n",
    "    def __get__(self, instance, instance_type):\n",
    "        if instance is None:\n",
    "            return self\n",
    "        return self._values.get(instance, 0)\n",
    "\n",
    "    def __set__(self, instance, value):\n",
    "        if not (0 <= value <= 100):\n",
    "            raise ValueError(\n",
    "                '점수는 0과 100 사이입니다')\n",
    "        self._values[instance] = value"
   ]
  },
  {
   "cell_type": "code",
   "execution_count": 7,
   "metadata": {},
   "outputs": [
    {
     "name": "stdout",
     "output_type": "stream",
     "text": [
      "쓰기 82\n",
      "과학 99\n",
      "두번째 쓰기 점수 75 맞음\n",
      "첫번째 쓰기 점수 75 맞음\n"
     ]
    }
   ],
   "source": [
    "first_exam = Exam()\n",
    "first_exam.writing_grade = 82\n",
    "first_exam.science_grade = 99\n",
    "print('쓰기', first_exam.writing_grade)\n",
    "print('과학', first_exam.science_grade)\n",
    "\n",
    "second_exam = Exam()\n",
    "second_exam.writing_grade = 75\n",
    "print(f'두번째 쓰기 점수 {second_exam.writing_grade} 맞음') \n",
    "print(f'첫번째 쓰기 점수 {first_exam.writing_grade} 맞음') # Exam에 잇는 attribute를 공유하니까 75"
   ]
  },
  {
   "cell_type": "code",
   "execution_count": 1,
   "metadata": {},
   "outputs": [],
   "source": [
    "from weakref import WeakKeyDictionary\n",
    "class Grade:\n",
    "    def __init__(self):\n",
    "        self._values = WeakKeyDictionary() # 메모리 누수 관리\n",
    "\n",
    "    def __get__(self, instance, instance_type):\n",
    "        if instance is None:\n",
    "            return self\n",
    "        return self._values.get(instance, 0)\n",
    "\n",
    "    def __set__(self, instance, value):\n",
    "        if not (0 <= value <= 100):\n",
    "            raise ValueError(\n",
    "                '점수는 0과 100 사이입니다')\n",
    "        self._values[instance] = value"
   ]
  },
  {
   "cell_type": "code",
   "execution_count": 2,
   "metadata": {},
   "outputs": [
    {
     "name": "stdout",
     "output_type": "stream",
     "text": [
      "첫 번째 쓰기 점수 82 맞음\n",
      "두 번째 쓰기 점수 75 맞음\n"
     ]
    }
   ],
   "source": [
    "class Exam:\n",
    "    # 클래스 애트리뷰트\n",
    "    math_grade = Grade()\n",
    "    writing_grade = Grade()\n",
    "    science_grade = Grade()\n",
    "\n",
    "first_exam = Exam()\n",
    "first_exam.writing_grade = 82\n",
    "second_exam = Exam()\n",
    "second_exam.writing_grade = 75\n",
    "print(f'첫 번째 쓰기 점수 {first_exam.writing_grade} 맞음')\n",
    "print(f'두 번째 쓰기 점수 {second_exam.writing_grade} 맞음')"
   ]
  },
  {
   "cell_type": "code",
   "execution_count": 3,
   "metadata": {},
   "outputs": [
    {
     "name": "stdout",
     "output_type": "stream",
     "text": [
      "이전: {'exists': 5}\n",
      "foo: foo의 값\n",
      "이후: {'exists': 5, 'foo': 'foo의 값'}\n"
     ]
    }
   ],
   "source": []
  }
 ],
 "metadata": {
  "kernelspec": {
   "display_name": "DL",
   "language": "python",
   "name": "python3"
  },
  "language_info": {
   "codemirror_mode": {
    "name": "ipython",
    "version": 3
   },
   "file_extension": ".py",
   "mimetype": "text/x-python",
   "name": "python",
   "nbconvert_exporter": "python",
   "pygments_lexer": "ipython3",
   "version": "3.9.16"
  }
 },
 "nbformat": 4,
 "nbformat_minor": 2
}
