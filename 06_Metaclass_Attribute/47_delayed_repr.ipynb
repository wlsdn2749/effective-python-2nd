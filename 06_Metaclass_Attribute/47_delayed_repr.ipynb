{
 "cells": [
  {
   "cell_type": "code",
   "execution_count": 1,
   "metadata": {},
   "outputs": [
    {
     "name": "stdout",
     "output_type": "stream",
     "text": [
      "이전: {'exists': 5}\n",
      "foo: foo의 값\n",
      "이후: {'exists': 5, 'foo': 'foo의 값'}\n"
     ]
    }
   ],
   "source": [
    "class LazyRecord: # 지연 계산 애트리뷰트\n",
    "    def __init__(self): \n",
    "        self.exists = 5\n",
    "        \n",
    "    def __getattr__(self, name):\n",
    "        value = f'{name}의 값'\n",
    "        setattr(self, name, value) # 찾을 수 없는 애트리뷰트에 접근하면 setattr로 설정\n",
    "        return value\n",
    "    \n",
    "data = LazyRecord()\n",
    "print('이전:', data.__dict__)\n",
    "print('foo:', data.foo)\n",
    "print('이후:', data.__dict__)"
   ]
  },
  {
   "cell_type": "code",
   "execution_count": 2,
   "metadata": {},
   "outputs": [
    {
     "name": "stdout",
     "output_type": "stream",
     "text": [
      "exists:  5\n",
      "* 호출: __getattr__('foo'), 인스턴스 딕셔너리 채워 넣음\n",
      "* 반환: 'foo의 값'\n",
      "첫 번째 foo:  foo의 값\n",
      "두 번째 foo:  foo의 값\n"
     ]
    }
   ],
   "source": [
    "class LoggingLazyRecord(LazyRecord):\n",
    "    def __getattr__(self, name):\n",
    "        print(f'* 호출: __getattr__({name!r}), '\n",
    "              f'인스턴스 딕셔너리 채워 넣음')\n",
    "        result = super().__getattr__(name)\n",
    "        print(f'* 반환: {result!r}')\n",
    "        return result\n",
    "\n",
    "data = LoggingLazyRecord()\n",
    "print('exists: ', data.exists)\n",
    "print('첫 번째 foo: ', data.foo)\n",
    "print('두 번째 foo: ', data.foo)"
   ]
  },
  {
   "cell_type": "code",
   "execution_count": 4,
   "metadata": {},
   "outputs": [
    {
     "name": "stdout",
     "output_type": "stream",
     "text": [
      "* 호출: __getattr__('exists')\n",
      "* 'exists' 찾음, 5 반환\n",
      "exists:  5\n",
      "* 호출: __getattr__('foo')\n",
      "* 'foo'를 'foo을 위한 값'로 설정\n",
      "첫 번째 foo:  foo을 위한 값\n",
      "* 호출: __getattr__('foo')\n",
      "* 'foo' 찾음, 'foo을 위한 값' 반환\n",
      "두 번째 foo:  foo을 위한 값\n"
     ]
    }
   ],
   "source": [
    "class ValidatingRecord:\n",
    "    def __init__(self):\n",
    "        self.exists = 5\n",
    "    def __getattribute__(self, name):\n",
    "        print(f'* 호출: __getattr__({name!r})')\n",
    "        try:\n",
    "            value = super().__getattribute__(name)\n",
    "            print(f'* {name!r} 찾음, {value!r} 반환')\n",
    "            return value\n",
    "        except AttributeError:\n",
    "            value = f'{name}을 위한 값'\n",
    "            print(f'* {name!r}를 {value!r}로 설정')\n",
    "            setattr(self, name, value)\n",
    "            return value\n",
    "        \n",
    "data = ValidatingRecord()\n",
    "print('exists: ', data.exists)\n",
    "print('첫 번째 foo: ', data.foo)\n",
    "print('두 번째 foo: ', data.foo)\n",
    "    "
   ]
  },
  {
   "cell_type": "code",
   "execution_count": 5,
   "metadata": {},
   "outputs": [
    {
     "ename": "AttributeError",
     "evalue": "bad_name을 찾을 수 없음",
     "output_type": "error",
     "traceback": [
      "\u001b[0;31m---------------------------------------------------------------------------\u001b[0m",
      "\u001b[0;31mAttributeError\u001b[0m                            Traceback (most recent call last)",
      "\u001b[1;32m/workspace/effective_python_2nd/06_Metaclass_Attribute/47_delayed_repr.ipynb 셀 4\u001b[0m line \u001b[0;36m1\n\u001b[1;32m      <a href='vscode-notebook-cell://ssh-remote%2Bmain/workspace/effective_python_2nd/06_Metaclass_Attribute/47_delayed_repr.ipynb#W3sdnNjb2RlLXJlbW90ZQ%3D%3D?line=7'>8</a>\u001b[0m data \u001b[39m=\u001b[39m MissingPropertyRecord()\n\u001b[1;32m      <a href='vscode-notebook-cell://ssh-remote%2Bmain/workspace/effective_python_2nd/06_Metaclass_Attribute/47_delayed_repr.ipynb#W3sdnNjb2RlLXJlbW90ZQ%3D%3D?line=8'>9</a>\u001b[0m \u001b[39m# 오류가 나는 부분. 오류를 보고 싶으면 커멘트를 해제할것\u001b[39;00m\n\u001b[0;32m---> <a href='vscode-notebook-cell://ssh-remote%2Bmain/workspace/effective_python_2nd/06_Metaclass_Attribute/47_delayed_repr.ipynb#W3sdnNjb2RlLXJlbW90ZQ%3D%3D?line=9'>10</a>\u001b[0m data\u001b[39m.\u001b[39;49mbad_name\n",
      "\u001b[1;32m/workspace/effective_python_2nd/06_Metaclass_Attribute/47_delayed_repr.ipynb 셀 4\u001b[0m line \u001b[0;36m4\n\u001b[1;32m      <a href='vscode-notebook-cell://ssh-remote%2Bmain/workspace/effective_python_2nd/06_Metaclass_Attribute/47_delayed_repr.ipynb#W3sdnNjb2RlLXJlbW90ZQ%3D%3D?line=1'>2</a>\u001b[0m \u001b[39mdef\u001b[39;00m \u001b[39m__getattr__\u001b[39m(\u001b[39mself\u001b[39m, name):\n\u001b[1;32m      <a href='vscode-notebook-cell://ssh-remote%2Bmain/workspace/effective_python_2nd/06_Metaclass_Attribute/47_delayed_repr.ipynb#W3sdnNjb2RlLXJlbW90ZQ%3D%3D?line=2'>3</a>\u001b[0m     \u001b[39mif\u001b[39;00m name \u001b[39m==\u001b[39m \u001b[39m'\u001b[39m\u001b[39mbad_name\u001b[39m\u001b[39m'\u001b[39m:\n\u001b[0;32m----> <a href='vscode-notebook-cell://ssh-remote%2Bmain/workspace/effective_python_2nd/06_Metaclass_Attribute/47_delayed_repr.ipynb#W3sdnNjb2RlLXJlbW90ZQ%3D%3D?line=3'>4</a>\u001b[0m         \u001b[39mraise\u001b[39;00m \u001b[39mAttributeError\u001b[39;00m(\u001b[39mf\u001b[39m\u001b[39m'\u001b[39m\u001b[39m{\u001b[39;00mname\u001b[39m}\u001b[39;00m\u001b[39m을 찾을 수 없음\u001b[39m\u001b[39m'\u001b[39m)\n\u001b[1;32m      <a href='vscode-notebook-cell://ssh-remote%2Bmain/workspace/effective_python_2nd/06_Metaclass_Attribute/47_delayed_repr.ipynb#W3sdnNjb2RlLXJlbW90ZQ%3D%3D?line=4'>5</a>\u001b[0m     \u001b[39mreturn\u001b[39;00m \u001b[39m1\u001b[39m\n",
      "\u001b[0;31mAttributeError\u001b[0m: bad_name을 찾을 수 없음"
     ]
    }
   ],
   "source": [
    "class MissingPropertyRecord:\n",
    "    def __getattr__(self, name):\n",
    "        if name == 'bad_name':\n",
    "            raise AttributeError(f'{name}을 찾을 수 없음')\n",
    "        return 1 # 무조건 1 반환\n",
    "    \n",
    "    \n",
    "data = MissingPropertyRecord()\n",
    "# 오류가 나는 부분. 오류를 보고 싶으면 커멘트를 해제할것\n",
    "# data.bad_name # \n"
   ]
  },
  {
   "cell_type": "code",
   "execution_count": null,
   "metadata": {},
   "outputs": [],
   "source": [
    "data = ValidatingRecord() # __getattribute__를 구현\n",
    "print('최초에 foo가 있나: ', hasattr(data, 'foo'))\n",
    "print('다음에 foo가 있나: ', hasattr(data, 'foo'))"
   ]
  },
  {
   "cell_type": "code",
   "execution_count": 6,
   "metadata": {},
   "outputs": [
    {
     "name": "stdout",
     "output_type": "stream",
     "text": [
      "이전:  {'exists': 5}\n",
      "* 호출: __getattr__('foo'), 인스턴스 딕셔너리 채워 넣음\n",
      "* 반환: 'foo의 값'\n",
      "최초에 foo가 있나:  True\n",
      "이후:  {'exists': 5, 'foo': 'foo의 값'}\n",
      "다음에 foo가 있나:  True\n"
     ]
    }
   ],
   "source": [
    "data = LoggingLazyRecord() # __getattr__을 구현\n",
    "print('이전: ', data.__dict__)\n",
    "print('최초에 foo가 있나: ', hasattr(data, 'foo'))\n",
    "print('이후: ', data.__dict__)\n",
    "print('다음에 foo가 있나: ', hasattr(data, 'foo'))"
   ]
  },
  {
   "cell_type": "code",
   "execution_count": 1,
   "metadata": {},
   "outputs": [],
   "source": [
    "class SavingRecord:\n",
    "    def __setattr__(self, name, value):\n",
    "        # 데이터를 데이터베이스 레코드에 저장한다\n",
    "        super().__setattr__(name, value)"
   ]
  },
  {
   "cell_type": "code",
   "execution_count": 2,
   "metadata": {},
   "outputs": [],
   "source": [
    "class LoggingSavingRecord(SavingRecord):\n",
    "    def __setattr__(self, name, value):\n",
    "        print(f'* 호출: __setattr__({name!r}, {value!r})')\n",
    "        super().__setattr__(name, value)"
   ]
  },
  {
   "cell_type": "code",
   "execution_count": 3,
   "metadata": {},
   "outputs": [
    {
     "name": "stdout",
     "output_type": "stream",
     "text": [
      "이전:  {}\n",
      "* 호출: __setattr__('foo', 5)\n",
      "이후:  {'foo': 5}\n",
      "* 호출: __setattr__('foo', 7)\n",
      "최후: {'foo': 7}\n"
     ]
    }
   ],
   "source": [
    "data = LoggingSavingRecord()\n",
    "print('이전: ', data.__dict__)\n",
    "data.foo = 5\n",
    "print('이후: ', data.__dict__)\n",
    "data.foo = 7\n",
    "print('최후:', data.__dict__)"
   ]
  },
  {
   "cell_type": "code",
   "execution_count": null,
   "metadata": {},
   "outputs": [],
   "source": [
    "class BrokenDictionaryRecord:\n",
    "    def __init__(self, data):\n",
    "        self._data = {}\n",
    "    def __getattribute__(self, name):\n",
    "        print(f'* 호출: __getattribute__({name!r})')\n",
    "        return self._data[name]\n",
    "    \n",
    "data = Brokedata = BrokenDictionaryRecord({'foo': 3})\n",
    "# 오류가 나는 부분. 오류를 보고 싶으면 커멘트를 해제할것\n",
    "# data.foo "
   ]
  },
  {
   "cell_type": "code",
   "execution_count": null,
   "metadata": {},
   "outputs": [],
   "source": [
    "class DictionaryRecord:\n",
    "    def __init__(self, data):\n",
    "        self._data = data\n",
    "\n",
    "    def __getattribute__(self, name):\n",
    "        print(f'* 호출: __getattribute__({name!r})')\n",
    "        data_dict = super().__getattribute__('_data')\n",
    "        return data_dict[name]\n",
    "\n",
    "data = DictionaryRecord({'foo': 3})\n",
    "print('foo: ', data.foo)"
   ]
  }
 ],
 "metadata": {
  "kernelspec": {
   "display_name": "DL",
   "language": "python",
   "name": "python3"
  },
  "language_info": {
   "codemirror_mode": {
    "name": "ipython",
    "version": 3
   },
   "file_extension": ".py",
   "mimetype": "text/x-python",
   "name": "python",
   "nbconvert_exporter": "python",
   "pygments_lexer": "ipython3",
   "version": "3.9.16"
  }
 },
 "nbformat": 4,
 "nbformat_minor": 2
}
