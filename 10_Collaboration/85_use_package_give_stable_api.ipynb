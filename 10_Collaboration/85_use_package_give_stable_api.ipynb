{
 "cells": [
  {
   "cell_type": "markdown",
   "metadata": {},
   "source": [
    "모듈이 너무 많아 코드 이해가 어려우면 다른 계층을 추가로 도입해서 코드를 좀 더 이해하기 쉽도록 바꾸게 된다.\n",
    "\n",
    "파이썬 패키지를 제공한다. 패키지는 다른 모듈들을 포함하는 모듈이다."
   ]
  },
  {
   "cell_type": "markdown",
   "metadata": {},
   "source": [
    "대부분의 경우 `__init__.py`라는 이름의 빈 파일을 디렉터리에 추가함으로써 패키지를 정의한다.\n",
    "\n",
    "`__init__.py`가 있는 디렉터리를 기준으로 상대적인 경로를 통해 임포트해서 사용 할 수 있다."
   ]
  },
  {
   "cell_type": "markdown",
   "metadata": {},
   "source": [
    "다음과같은 디렉터리 구조라면\n",
    "```\n",
    "main.py\n",
    "mypackage/__init__.py\n",
    "mypackage/models.py\n",
    "mypackage/utils.py\n",
    "```\n",
    "\n",
    "```\n",
    "# main.py\n",
    "from mypackage import utils\n",
    "```\n",
    "\n",
    "이런식으로 사용 가능하다.\n",
    "\n",
    "다른 패키지 안에 패키지 디렉터리가 있는 경우에도 적용 할 수 있다.\n"
   ]
  },
  {
   "cell_type": "code",
   "execution_count": null,
   "metadata": {
    "vscode": {
     "languageId": "plaintext"
    }
   },
   "outputs": [],
   "source": [
    "# 이름 공간\n",
    "# 패키지의 첫 번째 역할은 모듈을 별도의 이름 공간으로 분리하는 것이다.\n",
    "# 패키지를 사용하면 파일 이름은 같지만 서로 다른 절대 유일한 경로를 통해 접근 할 수 있는 모듈을 여럿 정의할 수 있다.\n",
    "\n",
    "예를 들어 다음은 utils.py라는 이름의 모듈로부터 애트리뷰트를 임포트하는 프로그램이다.\n",
    "\n",
    "# main.py라는\n",
    "from analysis.utils import log_base2_bucket\n",
    "from fronednd.utils import stringify\n",
    "\n",
    "bucket = stringify(log_base2_bucket(33))\n",
    "\n"
   ]
  },
  {
   "cell_type": "code",
   "execution_count": null,
   "metadata": {
    "vscode": {
     "languageId": "plaintext"
    }
   },
   "outputs": [],
   "source": [
    "만약 inspect 함수를 함께 사용되고 싶다하면 \n",
    "\n",
    "from analysis.utils import inspect\n",
    "from frontend.utils import inspect # 앞 줄에서 임포트한 inspect를 덮어 씀!\n",
    "\n",
    "# main3.py\n",
    "\n",
    "from analysis.utils import inspect as analysis_inspect\n",
    "from fronednd.utils import inspect as frontend_inspect\n",
    "\n",
    "value = 33\n",
    "if analysis_inspect(value) == frontend_inspect(value):\n",
    "    print('인스펙션 결과가 같음!')\n",
    "\n",
    "# as 절을 사용하며s import로 가져온 대상이 무엇이든 관계없이 이름을 마음대로 바꿀 수 있다.\n",
    "\n",
    "# main4.py \n",
    "# from 을 사용하지 않고 import만을 사용하는 것 이다.\n",
    "\n",
    "import analysis.utils\n",
    "import frontend.utils "
   ]
  },
  {
   "cell_type": "markdown",
   "metadata": {},
   "source": [
    "안정적인 API\n",
    "\n",
    "릴리스 할 떄 변경되지 않는 안정적인 기능을 제공하려면 내부 조직을 감춰야한다.\n",
    "\n",
    "파이썬에서는 모듈이나 패키지의 `__all__` 특별 애트리뷰트를 통해 API 소비자에게 노출할 표면적을 제한 할 수 있다.\n",
    "\n",
    "`from foo import *`를 실행한 소비자 코드는 foo로부터 `foo.__all__`에 있는 애트리뷰트만 임포트 할 수 있다.\n",
    "\n",
    "`models.py , utils.py`\n",
    "\n",
    "이렇게 하면 이 API를 사용하는 사용자들이 mypackage.models나 mypackage.utils를 임포트하지 않고\n",
    "\n",
    "그리고 mypackage 내부 구성을 변경해도 외부 사용자의 코드는 전혀 문제없이 작동한다.\n",
    "\n"
   ]
  }
 ],
 "metadata": {
  "language_info": {
   "name": "python"
  }
 },
 "nbformat": 4,
 "nbformat_minor": 2
}
