{
 "cells": [
  {
   "cell_type": "markdown",
   "metadata": {},
   "source": [
    "모듈이 너무 많아 코드 이해가 어려우면 다른 계층을 추가로 도입해서 코드를 좀 더 이해하기 쉽도록 바꾸게 된다.\n",
    "\n",
    "파이썬 패키지를 제공한다. 패키지는 다른 모듈들을 포함하는 모듈이다."
   ]
  },
  {
   "cell_type": "markdown",
   "metadata": {},
   "source": [
    "대부분의 경우 `__init__.py`라는 이름의 빈 파일을 디렉터리에 추가함으로써 패키지를 정의한다.\n",
    "\n",
    "`__init__.py`가 있는 디렉터리를 기준으로 상대적인 경로를 통해 임포트해서 사용 할 수 있다."
   ]
  },
  {
   "cell_type": "markdown",
   "metadata": {},
   "source": [
    "다음과같은 디렉터리 구조라면\n",
    "```\n",
    "main.py\n",
    "mypackage/__init__.py\n",
    "mypackage/models.py\n",
    "mypackage/utils.py\n",
    "```\n",
    "\n",
    "```\n",
    "# main.py\n",
    "from mypackage import utils\n",
    "```\n"
   ]
  }
 ],
 "metadata": {
  "language_info": {
   "name": "python"
  }
 },
 "nbformat": 4,
 "nbformat_minor": 2
}
