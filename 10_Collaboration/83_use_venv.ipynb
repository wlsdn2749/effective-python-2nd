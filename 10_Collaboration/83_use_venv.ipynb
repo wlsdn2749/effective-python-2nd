{
 "cells": [
  {
   "cell_type": "markdown",
   "metadata": {},
   "source": [
    "추이적 의존 관계에 의해 문제가 생길 수 있다.\n",
    "\n",
    "`python3 -m pip show Sphinx`\n",
    "\n",
    "`python3 -m pip show flask`\n",
    "\n",
    "두 패키지 모두 Jinja2 패키지에 의존한다는 사실을 알 수 있다.\n",
    "\n",
    "만약 시간이 지나서 Sphinx와 flask가 서로 달라지므로 의존 관계 충돌이 발생 할 수 있다.\n",
    "\n",
    "`python3 -m pip install --upgrade Jinja2`를 사용해 전역 Jinja2의 버전을 갱신하면 Sphinx는 제대로 작동하지 않는데\n",
    "\n",
    "flask는 제대로 작동하는 모습을 보게 될 수도 있다."
   ]
  },
  {
   "cell_type": "markdown",
   "metadata": {},
   "source": [
    "이런식으로 프로그램이 깨지는 이유는 파이썬에서는 전역적으로 어떤 모듈을 단 한 버전만 설치할 수 있기 때문이다.\n",
    "\n",
    "패키지등 일부는 새로운 버전을 사용하고 다른 일부는 예전 버전을 사용해야한다면 시스템이 제대로 작동하지 못하게 된다.\n",
    "\n",
    "이런 상황을 일컬어 의존 관계 지옥 (dependency hell)이라고 부른다."
   ]
  },
  {
   "cell_type": "code",
   "execution_count": null,
   "metadata": {
    "vscode": {
     "languageId": "plaintext"
    }
   },
   "outputs": [],
   "source": [
    "이런 문제를 해결하기 위해 venv를 사용한다. -> poetry ..."
   ]
  }
 ],
 "metadata": {
  "language_info": {
   "name": "python"
  }
 },
 "nbformat": 4,
 "nbformat_minor": 2
}
