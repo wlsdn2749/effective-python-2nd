{
 "cells": [
  {
   "cell_type": "markdown",
   "metadata": {},
   "source": [
    "배포 환경은 프로그램이 실행될 설정을 뜻한다.\n",
    "\n",
    "모든 프로그램에는 배포 환경이 적어도 하나는 있다. **프로덕션 환경**이다.\n",
    "\n",
    "개발 환경에서 재현 하기 힘든 외부 환경 가정이 있다는게 문제이다.\n",
    "\n",
    "예를 들어, 웹 서버 컨테이너 안에서 프로그램을 실행시키되 프로그램이 데이터베이스에 접근할 수 있도록 허용하고 싶다고 하자.\n",
    "\n",
    "프로그램 코드를 변경할 때마다 서버 컨테이너를 실행하고, 데이터베이스 스키마를 적절히 갱신해줘야 한다.\n",
    "\n",
    "또 데이터 베이스 접근에 필요한 암호를 프로그램이 알고 있어야 한다. \n",
    "\n",
    "프로그램에서 한 줄만 변경한 뒤 제대로 동작하는지 검증하고 싶을 뿐 인데, 이 모든 작업을 다시 해야 한다면 비용이 너무 비싸다."
   ]
  },
  {
   "cell_type": "code",
   "execution_count": null,
   "metadata": {
    "vscode": {
     "languageId": "plaintext"
    }
   },
   "outputs": [],
   "source": [
    "이러한 문제를 우회하는 가장 좋은 방법은 프로그램을 시작할때 프로그램 일부를 오버라이드해서 배포되는 환경에 따라 다른 기능을 제공하도록 만드는 것이다.\n",
    "\n",
    "예를들어 프로덕션과 개발 환경에 따라 두 가지 `__main__` 파일을 사용 할 수도 있다."
   ]
  },
  {
   "cell_type": "code",
   "execution_count": null,
   "metadata": {
    "vscode": {
     "languageId": "plaintext"
    }
   },
   "outputs": [],
   "source": [
    "# dev_main.py\n",
    "\n",
    "TESTING = True\n",
    "\n",
    "import db_connection\n",
    "\n",
    "db = db_connection.Database()\n"
   ]
  },
  {
   "cell_type": "code",
   "execution_count": null,
   "metadata": {
    "vscode": {
     "languageId": "plaintext"
    }
   },
   "outputs": [],
   "source": [
    "# prod_main.py\n",
    "\n",
    "TESTING = False\n",
    "\n",
    "import db_connection.Database()"
   ]
  },
  {
   "cell_type": "code",
   "execution_count": null,
   "metadata": {
    "vscode": {
     "languageId": "plaintext"
    }
   },
   "outputs": [],
   "source": [
    "# db_connection.py\n",
    "\n",
    "import __main__\n",
    "\n",
    "class TestingDatabase:\n",
    "    ...\n",
    "\n",
    "class RealDatabase:\n",
    "    ...\n",
    "    \n",
    "\n",
    "if __main__.TESTING:\n",
    "    Database = TestingDatabase\n",
    "else:\n",
    "    Database = RealDatabase"
   ]
  },
  {
   "cell_type": "markdown",
   "metadata": {},
   "source": [
    "여기서 알아둬야할 핵심은 모듈 영역에서 실행되는 코드가 일반적인 파이썬 코드일 뿐이라는 점이다.\n",
    "\n",
    "if 문을 모듈 수준에서 사용하면 모듈 안에서 이름이 정의되는 방식을 결정 할 수 있다.\n",
    "\n",
    "이를 통해 더 쉽게 다양한 배포 환경에 맞춰 모듈을 구성할 수 있고,\n",
    "\n",
    "데이터베이스 설정 처럼 비용이 많이 드는 가정이 불필요한 배포환경이라면 아예 이런 설정으 ㄹ제외시킬 수도 있따."
   ]
  },
  {
   "cell_type": "code",
   "execution_count": null,
   "metadata": {
    "vscode": {
     "languageId": "plaintext"
    }
   },
   "outputs": [],
   "source": [
    "이런 접근 방법은 외부 환경에 대한 가정을 우회하기 위한 것 이상의 용도로 사용될 수 있다.\n",
    "\n",
    "예를 들어 프로그램이 호스트 플랫폼에 따라 다르게 작동해야 한다는 사실을 안다면\n",
    "\n",
    "모듈에서 최상위 요소들을 정의하기 전에 sys 모듈을 살펴보면 된다\n",
    "\n",
    "`"
   ]
  },
  {
   "cell_type": "code",
   "execution_count": null,
   "metadata": {
    "vscode": {
     "languageId": "plaintext"
    }
   },
   "outputs": [],
   "source": [
    "# db_connection.py\n",
    "\n",
    "import sys\n",
    "\n",
    "class Win32Database:\n",
    "    ...\n",
    "\n",
    "class PosixDatabase:\n",
    "    ...\n",
    "\n",
    "\n",
    "if sys.platform.startwith('win32'):\n",
    "    Database = Win32Database\n",
    "else:\n",
    "    Database = PosixDatabase\n"
   ]
  }
 ],
 "metadata": {
  "language_info": {
   "name": "python"
  }
 },
 "nbformat": 4,
 "nbformat_minor": 2
}
