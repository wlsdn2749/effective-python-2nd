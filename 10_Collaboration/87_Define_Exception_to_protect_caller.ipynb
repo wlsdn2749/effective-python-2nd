{
 "cells": [
  {
   "cell_type": "markdown",
   "metadata": {},
   "source": [
    "모듈 API에서는 모듈내에 정의한 함수 또는 클래스 만큼이나 발생시킬 예외도 API의 일부분으로서 중요하다.\n",
    "\n",
    "파이썬 언어와 표준 라이브러리에는 이미 예외 계층 구조가내장돼 있다. \n",
    "\n",
    "예를 들어 직접 만든 모듈의 함수에 잘못된 파라미터가 전달되면 ValueError 예외를 던질 수도 있다."
   ]
  },
  {
   "cell_type": "code",
   "execution_count": null,
   "metadata": {},
   "outputs": [],
   "source": [
    "# my_module.py\n",
    "\n",
    "def determine_weight(volume, density):\n",
    "    if density <= 0:\n",
    "        raise ValueError('밀도는 0보다 커야합니다.')"
   ]
  },
  {
   "cell_type": "code",
   "execution_count": 5,
   "metadata": {},
   "outputs": [],
   "source": [
    "# 하지만 API의 경우 새로운 Exception을 정의하고 모듈이 발생시키는 다른 모든 예가 이 최상위 예외를 상속하게 만듬으로써 API에서 발생하는 예외의 계층 구조를 만들 수 있다.\n",
    "\n",
    "# my_module.py\n",
    "\n",
    "class Error(Exception):\n",
    "    \"\"\"이 모듈에서 발생할 모든 예외의 상위 클래스\"\"\"\n",
    "    \n",
    "class InvaildDensityError(Error):\n",
    "    \"\"\"밀도 값이 잘못된 경우\"\"\"\n",
    "    \n",
    "class InvalidVolumeError(Error):\n",
    "    \"\"\"부피 값이 잘못된 경우\"\"\"\n",
    "    \n",
    "def determine_weight(volume, density):\n",
    "    if density < 0:\n",
    "        raise InvaildDensityError('밀도는 0보다 커야합니다.')\n",
    "    if volume < 0:\n",
    "        raise InvalidVolumeError('부피는 0보다 커야합니다.')\n",
    "    if volume == 0:\n",
    "        density / volume\n",
    "    \n"
   ]
  },
  {
   "cell_type": "code",
   "execution_count": 2,
   "metadata": {},
   "outputs": [
    {
     "name": "stderr",
     "output_type": "stream",
     "text": [
      "ERROR:root:예상지 못한 오류\n",
      "Traceback (most recent call last):\n",
      "  File \"/tmp/ipykernel_660985/2859667870.py\", line 4, in <module>\n",
      "    weight = determine_weight(1, -1)\n",
      "  File \"/tmp/ipykernel_660985/2879308889.py\", line 16, in determine_weight\n",
      "    raise InvaildDensityError('밀도는 0보다 커야합니다.')\n",
      "InvaildDensityError: 밀도는 0보다 커야합니다.\n"
     ]
    }
   ],
   "source": [
    "# 어떤 모듈안에 최상위 예외가 있으면 API 사용자들이 이 모듈에서 발생한 모든 오류를 더 쉽게 잡아낼 수 있다.\n",
    "import logging\n",
    "try:\n",
    "    weight = determine_weight(1, -1)\n",
    "except Error:\n",
    "    logging.exception('예상지 못한 오류')\n",
    "    \n",
    "    \n",
    "    \n",
    "# logging.exception 함수가 잡아낸 예외의 전체 스택 트레이스를 출력하기 때문에 더 쉽게 이 상황을 디버깅 할 수 있다."
   ]
  },
  {
   "cell_type": "markdown",
   "metadata": {},
   "source": [
    "이렇게 try/except 문을 사용하면 우리 모듈에서 발생한 예외가 모듈을 호출하는 코드로부터 아주 멀리 절단돼 프로그램이 깨지는 상황을 방지 할 수 있다.\n",
    "\n",
    "이런 식으로 최상위 예외가 있으면 우리가 제공하는 API로 부터 호출하는 코드를 보호할 수 있다.\n",
    "\n",
    "이렇게 보호하면 세 가지 유용한 효과가 나타난다.\n",
    "\n",
    "1. 최상위 예외가 있으면 API를 호출하는 사용자가 API를 잘못 사용한 경우를 더 쉽게 이해할 수 있다는 점이다.\n",
    "\n",
    "호출자가 API를 제대로 사용한다면 API에서 의도적으로 발생시킨 여러 예외를 잡아내야만 한다.\n",
    "\n",
    "사용자가 이런 예외를 잡아내지 않으면, 우리가 만든 모듈의 최상위 예외르 잡아내는 방어적인 except 블록까지 예외가 전달된다. 이 블록은\n",
    "\n",
    "APi 사용자의 주의를 환기 시키고 사용자가 깜빡한 여러 타입을 제대로 처리할 기회를 제공한다"
   ]
  },
  {
   "cell_type": "code",
   "execution_count": 6,
   "metadata": {},
   "outputs": [
    {
     "name": "stderr",
     "output_type": "stream",
     "text": [
      "ERROR:root:호출코드에 버그가 있음\n",
      "Traceback (most recent call last):\n",
      "  File \"/tmp/ipykernel_660985/3701826053.py\", line 2, in <module>\n",
      "    weight = determine_weight(-1, 1)\n",
      "  File \"/tmp/ipykernel_660985/2380107141.py\", line 18, in determine_weight\n",
      "    raise InvalidVolumeError('부피는 0보다 커야합니다.')\n",
      "InvalidVolumeError: 부피는 0보다 커야합니다.\n"
     ]
    }
   ],
   "source": [
    "try:\n",
    "    weight = determine_weight(-1, 1)\n",
    "except InvaildDensityError:\n",
    "    weight = 0\n",
    "except Error:\n",
    "    logging.exception('호출코드에 버그가 있음')"
   ]
  },
  {
   "cell_type": "markdown",
   "metadata": {},
   "source": [
    "2. API 모듈의 코드의 버그를 발견할 떄 도움이 된다는 뜻이다.\n",
    "\n",
    "우리가 작성한 모듈 코드는 의도적으로 모듈 내에서 정의한 예외 계층에 속하는 예외만 발생시킬 수 있다.\n",
    "\n",
    "이 경우 다른 타입의 예외가 발생한다면, 이 예외는 우리가 의도하지 않은 것이다. 즉, 우리가 구현한 API 코드에 버그가 있다는 뜻이다.\n",
    "\n",
    "모듈의 최상위 예외를 잡아내는 try/except 문이 모듈의 버그로부터 API 소비자들을 보호하지는 못한다. 그러므로 호출하는 쪽에서 파이썬 기반 Except 클래스를 잡아내는 다른 except 블록을 추가해야한다.\n",
    "\n",
    "이렇게 두 가지 except 문을 사용하면 API 소비자가 API 모듈에 수정해야할 버그가 있는 경우를 쉽게 감지할 수 있다.\n",
    "\n"
   ]
  },
  {
   "cell_type": "code",
   "execution_count": 7,
   "metadata": {},
   "outputs": [
    {
     "name": "stderr",
     "output_type": "stream",
     "text": [
      "ERROR:root:API 코드에 버그가 있음\n",
      "Traceback (most recent call last):\n",
      "  File \"/tmp/ipykernel_660985/3277768524.py\", line 2, in <module>\n",
      "    weight = determine_weight(0, 1)\n",
      "  File \"/tmp/ipykernel_660985/2380107141.py\", line 20, in determine_weight\n",
      "    density / volume\n",
      "ZeroDivisionError: division by zero\n"
     ]
    },
    {
     "ename": "ZeroDivisionError",
     "evalue": "division by zero",
     "output_type": "error",
     "traceback": [
      "\u001b[0;31m---------------------------------------------------------------------------\u001b[0m",
      "\u001b[0;31mZeroDivisionError\u001b[0m                         Traceback (most recent call last)",
      "\u001b[1;32m/workspace/effective_python_2nd/10_Collaboration/87_Define_Exception_to_protect_caller.ipynb 셀 8\u001b[0m line \u001b[0;36m2\n\u001b[1;32m      <a href='vscode-notebook-cell://ssh-remote%2Bmain/workspace/effective_python_2nd/10_Collaboration/87_Define_Exception_to_protect_caller.ipynb#X13sdnNjb2RlLXJlbW90ZQ%3D%3D?line=0'>1</a>\u001b[0m \u001b[39mtry\u001b[39;00m:\n\u001b[0;32m----> <a href='vscode-notebook-cell://ssh-remote%2Bmain/workspace/effective_python_2nd/10_Collaboration/87_Define_Exception_to_protect_caller.ipynb#X13sdnNjb2RlLXJlbW90ZQ%3D%3D?line=1'>2</a>\u001b[0m     weight \u001b[39m=\u001b[39m determine_weight(\u001b[39m0\u001b[39;49m, \u001b[39m1\u001b[39;49m)\n\u001b[1;32m      <a href='vscode-notebook-cell://ssh-remote%2Bmain/workspace/effective_python_2nd/10_Collaboration/87_Define_Exception_to_protect_caller.ipynb#X13sdnNjb2RlLXJlbW90ZQ%3D%3D?line=2'>3</a>\u001b[0m \u001b[39mexcept\u001b[39;00m InvaildDensityError:\n\u001b[1;32m      <a href='vscode-notebook-cell://ssh-remote%2Bmain/workspace/effective_python_2nd/10_Collaboration/87_Define_Exception_to_protect_caller.ipynb#X13sdnNjb2RlLXJlbW90ZQ%3D%3D?line=3'>4</a>\u001b[0m     weight \u001b[39m=\u001b[39m \u001b[39m0\u001b[39m\n",
      "\u001b[1;32m/workspace/effective_python_2nd/10_Collaboration/87_Define_Exception_to_protect_caller.ipynb 셀 8\u001b[0m line \u001b[0;36m2\n\u001b[1;32m     <a href='vscode-notebook-cell://ssh-remote%2Bmain/workspace/effective_python_2nd/10_Collaboration/87_Define_Exception_to_protect_caller.ipynb#X13sdnNjb2RlLXJlbW90ZQ%3D%3D?line=17'>18</a>\u001b[0m     \u001b[39mraise\u001b[39;00m InvalidVolumeError(\u001b[39m'\u001b[39m\u001b[39m부피는 0보다 커야합니다.\u001b[39m\u001b[39m'\u001b[39m)\n\u001b[1;32m     <a href='vscode-notebook-cell://ssh-remote%2Bmain/workspace/effective_python_2nd/10_Collaboration/87_Define_Exception_to_protect_caller.ipynb#X13sdnNjb2RlLXJlbW90ZQ%3D%3D?line=18'>19</a>\u001b[0m \u001b[39mif\u001b[39;00m volume \u001b[39m==\u001b[39m \u001b[39m0\u001b[39m:\n\u001b[0;32m---> <a href='vscode-notebook-cell://ssh-remote%2Bmain/workspace/effective_python_2nd/10_Collaboration/87_Define_Exception_to_protect_caller.ipynb#X13sdnNjb2RlLXJlbW90ZQ%3D%3D?line=19'>20</a>\u001b[0m     density \u001b[39m/\u001b[39;49m volume\n",
      "\u001b[0;31mZeroDivisionError\u001b[0m: division by zero"
     ]
    }
   ],
   "source": [
    "try:\n",
    "    weight = determine_weight(0, 1)\n",
    "except InvaildDensityError:\n",
    "    weight = 0\n",
    "except Error:\n",
    "    logging.exception('호출 코드에 버그가 있음')\n",
    "except Exception:\n",
    "    logging.exception('API 코드에 버그가 있음')\n",
    "    raise # 예외를 호출자 쪽으로 다시 발생시킴"
   ]
  },
  {
   "cell_type": "markdown",
   "metadata": {},
   "source": [
    "세 번째 효과는 미래의 API를 보호해준다는 점이다. API 확장을 할때 특정 상황에서 더 구체적인 예외를 제공한다면\n",
    "\n"
   ]
  },
  {
   "cell_type": "code",
   "execution_count": null,
   "metadata": {},
   "outputs": [],
   "source": [
    "class NegativeDensityError(InvaildDensityError):\n",
    "    \"\"\"밀도가 음수인 경우\"\"\"\n",
    "    ...\n",
    "    \n",
    "def determine_weight(volume, density):\n",
    "    if density < 0:\n",
    "        raise NegativeDensityError('밀도는 0보다 커야합니다.')\n",
    "    if volume < 0:\n",
    "        raise InvalidVolumeError('부피는 0보다 커야합니다.')\n",
    "    if volume == 0:\n",
    "        density / volume"
   ]
  },
  {
   "cell_type": "code",
   "execution_count": 9,
   "metadata": {},
   "outputs": [
    {
     "ename": "NameError",
     "evalue": "name 'NegativeDensityError' is not defined",
     "output_type": "error",
     "traceback": [
      "\u001b[0;31m---------------------------------------------------------------------------\u001b[0m",
      "\u001b[0;31mInvaildDensityError\u001b[0m                       Traceback (most recent call last)",
      "\u001b[1;32m/workspace/effective_python_2nd/10_Collaboration/87_Define_Exception_to_protect_caller.ipynb 셀 11\u001b[0m line \u001b[0;36m5\n\u001b[1;32m      <a href='vscode-notebook-cell://ssh-remote%2Bmain/workspace/effective_python_2nd/10_Collaboration/87_Define_Exception_to_protect_caller.ipynb#X15sdnNjb2RlLXJlbW90ZQ%3D%3D?line=2'>3</a>\u001b[0m \u001b[39mtry\u001b[39;00m:\n\u001b[1;32m      <a href='vscode-notebook-cell://ssh-remote%2Bmain/workspace/effective_python_2nd/10_Collaboration/87_Define_Exception_to_protect_caller.ipynb#X15sdnNjb2RlLXJlbW90ZQ%3D%3D?line=3'>4</a>\u001b[0m     \u001b[39m#\u001b[39;00m\n\u001b[0;32m----> <a href='vscode-notebook-cell://ssh-remote%2Bmain/workspace/effective_python_2nd/10_Collaboration/87_Define_Exception_to_protect_caller.ipynb#X15sdnNjb2RlLXJlbW90ZQ%3D%3D?line=4'>5</a>\u001b[0m     weight \u001b[39m=\u001b[39m determine_weight(\u001b[39m1\u001b[39;49m, \u001b[39m-\u001b[39;49m\u001b[39m1\u001b[39;49m)\n\u001b[1;32m      <a href='vscode-notebook-cell://ssh-remote%2Bmain/workspace/effective_python_2nd/10_Collaboration/87_Define_Exception_to_protect_caller.ipynb#X15sdnNjb2RlLXJlbW90ZQ%3D%3D?line=5'>6</a>\u001b[0m \u001b[39mexcept\u001b[39;00m NegativeDensityError \u001b[39mas\u001b[39;00m exc:\n",
      "\u001b[1;32m/workspace/effective_python_2nd/10_Collaboration/87_Define_Exception_to_protect_caller.ipynb 셀 11\u001b[0m line \u001b[0;36m1\n\u001b[1;32m     <a href='vscode-notebook-cell://ssh-remote%2Bmain/workspace/effective_python_2nd/10_Collaboration/87_Define_Exception_to_protect_caller.ipynb#X15sdnNjb2RlLXJlbW90ZQ%3D%3D?line=14'>15</a>\u001b[0m \u001b[39mif\u001b[39;00m density \u001b[39m<\u001b[39m \u001b[39m0\u001b[39m:\n\u001b[0;32m---> <a href='vscode-notebook-cell://ssh-remote%2Bmain/workspace/effective_python_2nd/10_Collaboration/87_Define_Exception_to_protect_caller.ipynb#X15sdnNjb2RlLXJlbW90ZQ%3D%3D?line=15'>16</a>\u001b[0m     \u001b[39mraise\u001b[39;00m InvaildDensityError(\u001b[39m'\u001b[39m\u001b[39m밀도는 0보다 커야합니다.\u001b[39m\u001b[39m'\u001b[39m)\n\u001b[1;32m     <a href='vscode-notebook-cell://ssh-remote%2Bmain/workspace/effective_python_2nd/10_Collaboration/87_Define_Exception_to_protect_caller.ipynb#X15sdnNjb2RlLXJlbW90ZQ%3D%3D?line=16'>17</a>\u001b[0m \u001b[39mif\u001b[39;00m volume \u001b[39m<\u001b[39m \u001b[39m0\u001b[39m:\n",
      "\u001b[0;31mInvaildDensityError\u001b[0m: 밀도는 0보다 커야합니다.",
      "\nDuring handling of the above exception, another exception occurred:\n",
      "\u001b[0;31mNameError\u001b[0m                                 Traceback (most recent call last)",
      "\u001b[1;32m/workspace/effective_python_2nd/10_Collaboration/87_Define_Exception_to_protect_caller.ipynb 셀 11\u001b[0m line \u001b[0;36m6\n\u001b[1;32m      <a href='vscode-notebook-cell://ssh-remote%2Bmain/workspace/effective_python_2nd/10_Collaboration/87_Define_Exception_to_protect_caller.ipynb#X15sdnNjb2RlLXJlbW90ZQ%3D%3D?line=2'>3</a>\u001b[0m \u001b[39mtry\u001b[39;00m:\n\u001b[1;32m      <a href='vscode-notebook-cell://ssh-remote%2Bmain/workspace/effective_python_2nd/10_Collaboration/87_Define_Exception_to_protect_caller.ipynb#X15sdnNjb2RlLXJlbW90ZQ%3D%3D?line=3'>4</a>\u001b[0m     \u001b[39m#\u001b[39;00m\n\u001b[1;32m      <a href='vscode-notebook-cell://ssh-remote%2Bmain/workspace/effective_python_2nd/10_Collaboration/87_Define_Exception_to_protect_caller.ipynb#X15sdnNjb2RlLXJlbW90ZQ%3D%3D?line=4'>5</a>\u001b[0m     weight \u001b[39m=\u001b[39m determine_weight(\u001b[39m1\u001b[39m, \u001b[39m-\u001b[39m\u001b[39m1\u001b[39m)\n\u001b[0;32m----> <a href='vscode-notebook-cell://ssh-remote%2Bmain/workspace/effective_python_2nd/10_Collaboration/87_Define_Exception_to_protect_caller.ipynb#X15sdnNjb2RlLXJlbW90ZQ%3D%3D?line=5'>6</a>\u001b[0m \u001b[39mexcept\u001b[39;00m NegativeDensityError \u001b[39mas\u001b[39;00m exc:\n\u001b[1;32m      <a href='vscode-notebook-cell://ssh-remote%2Bmain/workspace/effective_python_2nd/10_Collaboration/87_Define_Exception_to_protect_caller.ipynb#X15sdnNjb2RlLXJlbW90ZQ%3D%3D?line=6'>7</a>\u001b[0m     \u001b[39mraise\u001b[39;00m \u001b[39mValueError\u001b[39;00m(\u001b[39m'\u001b[39m\u001b[39m밀도로 음수가 아닌 값을 제공해야 합니다\u001b[39m\u001b[39m'\u001b[39m) \u001b[39mfrom\u001b[39;00m \u001b[39mexc\u001b[39;00m\n\u001b[1;32m      <a href='vscode-notebook-cell://ssh-remote%2Bmain/workspace/effective_python_2nd/10_Collaboration/87_Define_Exception_to_protect_caller.ipynb#X15sdnNjb2RlLXJlbW90ZQ%3D%3D?line=7'>8</a>\u001b[0m \u001b[39mexcept\u001b[39;00m InvaildDensityError:\n",
      "\u001b[0;31mNameError\u001b[0m: name 'NegativeDensityError' is not defined"
     ]
    }
   ],
   "source": [
    "# 모듈을 호출하는 코드는 변경하지 않아도 예전과 똑같이 잘 작동한다.\n",
    "\n",
    "try:\n",
    "    #\n",
    "    weight = determine_weight(1, -1)\n",
    "except NegativeDensityError as exc:\n",
    "    raise ValueError('밀도로 음수가 아닌 값을 제공해야 합니다') from exc\n",
    "except InvaildDensityError:\n",
    "    weight = 0\n",
    "except Error:\n",
    "    logging.exception('호출 코드에 버그가 있음')\n",
    "except Exception:\n",
    "    logging.exception('API 코드에 버그가 있음!')\n",
    "    raise # 예외를 호출자쪽으로 다시 발생시킴"
   ]
  },
  {
   "cell_type": "markdown",
   "metadata": {},
   "source": [
    "최상위 예외 바로 아래 폭넓은 예외 상황을 표현하는 다양한 오류를 제공하면 미래의 코드변경에 대한 보호를 더 강화할 수 있다."
   ]
  },
  {
   "cell_type": "code",
   "execution_count": null,
   "metadata": {},
   "outputs": [],
   "source": [
    "class Error(Exception):\n",
    "    \"\"\"이 모듈에서 발생할 모든 예외의 상위 클래스.\"\"\"\n",
    "\n",
    "\n",
    "class InvalidDensityError(Error):\n",
    "    \"\"\"밀도 값이 잘못된 경우.\"\"\"\n",
    "\n",
    "\n",
    "class InvalidVolumeError(Error):\n",
    "    \"\"\"부피 값이 잘못된 경우.\"\"\"\n",
    "\n",
    "\n",
    "class NegativeDensityError(InvalidDensityError):\n",
    "    \"\"\"밀도가 음수인 경우.\"\"\""
   ]
  },
  {
   "cell_type": "markdown",
   "metadata": {},
   "source": [
    "ㅖ"
   ]
  }
 ],
 "metadata": {
  "kernelspec": {
   "display_name": "my_env395_ipykernel",
   "language": "python",
   "name": "my_env395"
  },
  "language_info": {
   "codemirror_mode": {
    "name": "ipython",
    "version": 3
   },
   "file_extension": ".py",
   "mimetype": "text/x-python",
   "name": "python",
   "nbconvert_exporter": "python",
   "pygments_lexer": "ipython3",
   "version": "3.9.5"
  }
 },
 "nbformat": 4,
 "nbformat_minor": 2
}
