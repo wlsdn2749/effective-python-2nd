{
 "cells": [
  {
   "cell_type": "markdown",
   "metadata": {},
   "source": [
    "pypi에서 프로그램에 설치하고 사용할 수 있는 모듈을 모아두었고 \n",
    "\n",
    "파이썬 커뮤니티에 의해 만들어지고 유지 보수 된다.\n",
    "\n",
    "`pip install packages`(pip라는 패키지를 설치한다.)\n",
    "\n",
    "pytz 모듈 (지역 시간 로컬라이제이션) 같은 경우에는\n",
    "\n",
    "`pip install pytz`"
   ]
  },
  {
   "cell_type": "markdown",
   "metadata": {},
   "source": [
    "프로젝트에 설치 된 패키지를 지속적으로 추적하도록 pip를 venv라는 내장 모듈과 함께 사용하는 것이 가장 유용하다."
   ]
  }
 ],
 "metadata": {
  "language_info": {
   "name": "python"
  }
 },
 "nbformat": 4,
 "nbformat_minor": 2
}
