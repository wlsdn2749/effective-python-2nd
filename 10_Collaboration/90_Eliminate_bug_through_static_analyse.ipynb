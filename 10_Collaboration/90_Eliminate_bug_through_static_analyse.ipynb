{
 "cells": [
  {
   "cell_type": "code",
   "execution_count": null,
   "metadata": {},
   "outputs": [],
   "source": [
    "def subtract(a: int, b: int) -> int:  # 함수에 타입 애너테이션을 붙임\n",
    "    return a - b\n",
    "\n",
    "subtract(10, '5')  # 아이고! 문자열 값을 넘김"
   ]
  },
  {
   "cell_type": "code",
   "execution_count": null,
   "metadata": {},
   "outputs": [],
   "source": [
    "def concat(a: str, b: str) -> str:\n",
    "    return a + b\n",
    "\n",
    "concat('첫째', b'second')  # 아이고! bytes 값을 넘김"
   ]
  },
  {
   "cell_type": "code",
   "execution_count": null,
   "metadata": {},
   "outputs": [],
   "source": [
    "class Counter:\n",
    "    # 일부러 타입 애너테이션을 안 붙임\n",
    "    def __init__(self):\n",
    "        self.value = 0\n",
    "\n",
    "    # 일부러 타입 애너테이션을 안 붙임\n",
    "    def add(self, offset): # offset: int\n",
    "        value += offset\n",
    "\n",
    "    def get(self) -> int:\n",
    "        self.value\n",
    "\n",
    "# add 호출시 UnboundLocalError 발생\n",
    "counter = Counter()\n",
    "counter.add(5)"
   ]
  }
 ],
 "metadata": {
  "language_info": {
   "name": "python"
  }
 },
 "nbformat": 4,
 "nbformat_minor": 2
}
