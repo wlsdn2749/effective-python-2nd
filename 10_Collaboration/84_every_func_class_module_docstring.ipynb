{
 "cells": [
  {
   "cell_type": "code",
   "execution_count": 1,
   "metadata": {},
   "outputs": [],
   "source": [
    "def palindrome(word):\n",
    "    \"\"\"주어진 단어가 회문인 경우 True를 반환한다.\"\"\"\n",
    "    return word == word[::-1]\n",
    "\n",
    "assert palindrome('tacocat')\n",
    "assert not palindrome('banana')"
   ]
  },
  {
   "cell_type": "code",
   "execution_count": 4,
   "metadata": {},
   "outputs": [
    {
     "name": "stdout",
     "output_type": "stream",
     "text": [
      "'주어진 단어가 회문인 경우 True를 반환한다.'\n"
     ]
    }
   ],
   "source": [
    "print(repr(palindrome.__doc__))"
   ]
  },
  {
   "cell_type": "markdown",
   "metadata": {},
   "source": [
    "### 모듈 문서화 하기\n",
    "\n",
    "각 모듈의 최상위 독스트링이 있어야 한다.\n",
    "\n",
    "이 최상위 문자열은 세개의 큰따옴표(\"\"\")로 시작한다.\n",
    "\n",
    "독 스트링의예는 다음과 같다"
   ]
  },
  {
   "cell_type": "code",
   "execution_count": null,
   "metadata": {},
   "outputs": [],
   "source": [
    "# words.py\n",
    "# !/usr/bin/env python3\n",
    "\"\"\"단어의 언어 패턴을 찾을 때 쓸 수 있는 라이브러리\n",
    "\n",
    "여러 단어가 서로 어떤 연관 관계에 있는지 검사하는 것이 어려울 때가 있다!\n",
    "이 모듈은 단어가 가지는 특별한 특성을 쉽게 결정 할 수 있게 해준다.\n",
    "\n",
    "사용 가능 함수:\n",
    "- palindrome: 주어진 단어가 회문인지 결정한다.\n",
    "- check_anagram: 주어진 단어가 어구전철(똑같은 글자들로 순서만 바꿘 경우)인지 결정한다.\n",
    "\n",
    "\"\"\""
   ]
  },
  {
   "cell_type": "markdown",
   "metadata": {},
   "source": [
    "### 클래스 문서화하기\n",
    "\n",
    "각 클래스는 클래스 수준의 독스트링을 포함해야한다. \n",
    "\n",
    "클래스 수준도 모듈 수준과 거의 비슷한 패턴을 따른다.\n",
    "\n",
    "첫 줄은 클래스 목적\n",
    "뒤에 오는 단락들은 클래스 동작 세부 사항중 중요한 부분을 설명한다.\n",
    "\n",
    "독스트링은 클래스에서 중요한 공개 애트리뷰트와 메서드를 강조해 표시해줘야한다.\n",
    "\n",
    "이 클래스를 상위 클래스로 상속하는 하위 클래스가 보호 애트리뷰트나 메서드와 상호작용하는 방법을 안내해야 한다."
   ]
  },
  {
   "cell_type": "code",
   "execution_count": null,
   "metadata": {},
   "outputs": [],
   "source": [
    "class Player:\n",
    "    \"\"\"게임 플레이어를 표현한다.\n",
    "    \n",
    "    하위 클래스는 `tick` 메서드를 오버라이드 해서 플레이어의 파워 레벨 등에 맞는 움직임 애니메이션을 제공할 수 있다.\n",
    "    \n",
    "    공개 에트리뷰트:\n",
    "    - power: 사용하지 않은 파워업들(0과 1 사이 float)\n",
    "    - coins: 현재 레벨에서 발견한 코인 개수(integer)\n",
    "    \n",
    "    \"\"\""
   ]
  },
  {
   "cell_type": "markdown",
   "metadata": {},
   "source": [
    "### 함수 문서화하기\n",
    "\n",
    "모든 공개 함수와 메서드에는 독스트링을 포함시켜야 한다.\n",
    "\n",
    "함수나 메서드의 독스트링도 모듈이나 클래스 독스트링과 같은 패턴을 따른다.\n",
    "\n",
    "첫 줄은 함수가 하는 일을 설명한다.\n",
    "\n",
    "다음 단락부터는 함수의 인자나 함수의 동작에 대해 구체적으로 설명한다."
   ]
  },
  {
   "cell_type": "code",
   "execution_count": null,
   "metadata": {},
   "outputs": [],
   "source": [
    "def find_anagrams(word, dictionary):\n",
    "    \"\"\"주어진 단어의 모든 어구전철을 찾는다.\n",
    "    \n",
    "    이 함수는 '딕셔너리' 컨테이너의 원소 검사만큼 빠른 속도로 실행된다.\n",
    "    \n",
    "    Args:\n",
    "        word: 대상 단어, 문자열.\n",
    "        dictionary: 모든 단어가 들어 있는 collections.abc.Container 컬렉션\n",
    "        \n",
    "    Returns:\n",
    "        찾은 어구전철들로 이뤄진 리스트. 아무것도 찾지 못한 경우 Empty.\n",
    "    \"\"\""
   ]
  },
  {
   "cell_type": "markdown",
   "metadata": {},
   "source": [
    "함수 독스트링을 작성 할 때 몇 가지 중요한 규칙을 고려해야 하는데, 그중에서 알아둬야 할 중요한 내용은 다음과 같다.\n",
    "\n",
    "- 함수에 인자가 없고, 반환 값만 있다면 설명은 한줄로도 충분할 것이다.\n",
    "- 함수가 아무것도 반환하지 않은다면 `return None` 이나 `None을 반환함`이라고 쓰는 것보다 아예 반환 값에 대한 설명을 제외하는 편이 더 낫다.\n",
    "- 함수 인터페이스에 예외 발생이 포함된다면 발생하는 예외와 예외가 발생하는 상황에 대한 설명을 함수 독스트링에 반드시 포함 시켜야한다.\n",
    "- 일반 적인 동작에 함수가 예외를 발생시키지 않을 것으로 예상되면 예외가 발생하지 않는 사실을 적지 말라.\n",
    "- 함수가 가변인자나 키워드 인자를 받는다면 문서화한 인자 목록에 *args 와 **kwargs를 사용하고 각각의 목적을 설명하라.\n",
    "- 함수에 디폴드 값이 있는 인자가 있다면 디폴드 값을 언급해야 한다.\n",
    "- 함수가 제너레이터라면, 독스트링에는 이 제너레이터를 이터레이션할 때 어떤 값이 발생하는지 기술해야 한다.\n",
    "- 함수가 비동기 코루틴이라면, 독스트링에 언제 이 코루틴의 비동기 실행이 중단되는지 설명해야 한다."
   ]
  },
  {
   "cell_type": "code",
   "execution_count": null,
   "metadata": {},
   "outputs": [],
   "source": [
    "# 타입 애너테이션 사용하기\n",
    "\n",
    "from typing import Container, List\n",
    "\n",
    "def find_anagrams(word: str,\n",
    "                  dictionary: Container[str]) -> List[str]:\n",
    "    \"\"\"주어진 단어의 모든 어구전철을 찾는다.\n",
    "    \n",
    "    이 함수는 '딕셔너리' 컨테이너의 원소 검사만큼 빠른 속도로 실행된다.\n",
    "    \n",
    "    Args:\n",
    "        word: 대상 단어.\n",
    "        dictionary: 모든 단어가 들어 있는 컬렉션\n",
    "        \n",
    "    Returns:\n",
    "        찾은 어구전철\n",
    "    \"\"\"\n",
    "    \n",
    "# 어노테이션과 독스트링의 정보 중북을 피해야 한다.\n"
   ]
  }
 ],
 "metadata": {
  "kernelspec": {
   "display_name": "Python 3",
   "language": "python",
   "name": "python3"
  },
  "language_info": {
   "codemirror_mode": {
    "name": "ipython",
    "version": 3
   },
   "file_extension": ".py",
   "mimetype": "text/x-python",
   "name": "python",
   "nbconvert_exporter": "python",
   "pygments_lexer": "ipython3",
   "version": "3.9.5"
  }
 },
 "nbformat": 4,
 "nbformat_minor": 2
}
