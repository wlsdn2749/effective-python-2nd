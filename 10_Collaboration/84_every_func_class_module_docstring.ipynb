{
 "cells": [
  {
   "cell_type": "code",
   "execution_count": 1,
   "metadata": {},
   "outputs": [],
   "source": [
    "def palindrome(word):\n",
    "    \"\"\"주어진 단어가 회문인 경우 True를 반환한다.\"\"\"\n",
    "    return word == word[::-1]\n",
    "\n",
    "assert palindrome('tacocat')\n",
    "assert not palindrome('banana')"
   ]
  },
  {
   "cell_type": "code",
   "execution_count": 3,
   "metadata": {},
   "outputs": [
    {
     "name": "stdout",
     "output_type": "stream",
     "text": [
      "주어진 단어가 회문인 경우 True를 반환한다.\n"
     ]
    }
   ],
   "source": [
    "print(repr(palindrome.__doc__))"
   ]
  }
 ],
 "metadata": {
  "kernelspec": {
   "display_name": "Python 3",
   "language": "python",
   "name": "python3"
  },
  "language_info": {
   "codemirror_mode": {
    "name": "ipython",
    "version": 3
   },
   "file_extension": ".py",
   "mimetype": "text/x-python",
   "name": "python",
   "nbconvert_exporter": "python",
   "pygments_lexer": "ipython3",
   "version": "3.9.5"
  }
 },
 "nbformat": 4,
 "nbformat_minor": 2
}
