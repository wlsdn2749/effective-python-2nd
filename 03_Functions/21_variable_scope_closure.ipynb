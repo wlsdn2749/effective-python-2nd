{
 "cells": [
  {
   "cell_type": "code",
   "execution_count": 1,
   "metadata": {},
   "outputs": [
    {
     "name": "stdout",
     "output_type": "stream",
     "text": [
      "[2, 3, 5, 7, 1, 4, 6, 8]\n"
     ]
    }
   ],
   "source": [
    "def sort_priority(values, group): # 우선순위를 부여한 몇몇의 숫자를 앞쪽에 위치시켜러고 한다\n",
    "    def helper(x):\n",
    "        if x in group:\n",
    "            return (0, x)\n",
    "        return (1, x)\n",
    "    values.sort(key=helper)\n",
    "\n",
    "numbers = [8, 3, 1, 2, 5, 4, 7, 6]\n",
    "group = {2, 3, 5, 7}\n",
    "sort_priority(numbers, group)\n",
    "print(numbers)\n",
    "\n",
    "# 파이썬이 클로저를 지원\n",
    "# 클로저란 자신이 정의된 영역 밖의 변수를 참조하는 함수이다.\n",
    "\n",
    "# 함수는 일급시민 객체 \n",
    "# 이를 직접 가리킬 수 있고\n",
    "# 변수에 대입하거나 다른 함수에 인자로 전달될 수 있음\n",
    "# 식이나 if 문에서 함수를 비교하거나 함수에서 반환하는 것 등이 가능\n",
    "\n",
    "# 시퀸스를 비교하는 구체적인 규칙, 0번 인덱스를 먼저 비교하고 같으면 1번 인덱스의 값을 비교함\n"
   ]
  },
  {
   "cell_type": "code",
   "execution_count": 4,
   "metadata": {},
   "outputs": [
    {
     "name": "stdout",
     "output_type": "stream",
     "text": [
      "발견: True\n",
      "[2, 3, 5, 7, 1, 4, 6, 8]\n"
     ]
    }
   ],
   "source": [
    "# 우선순위가 높은 원소를 발견했음을 표시하는 플래그를 세우고 싶다면?\n",
    "\n",
    "def sort_priority2(numbers, group):\n",
    "    found = False\n",
    "    def helper(x):\n",
    "        if x in group:\n",
    "            found = True # 문제를 쉽게 해결할 수 있을 것 같다\n",
    "            return (0, x)\n",
    "        return (1, x)\n",
    "    numbers.sort(key=helper)\n",
    "    return found\n",
    "\n",
    "found = sort_priority2(numbers, group)\n",
    "print('발견:', found)\n",
    "print(numbers)\n",
    "\n",
    "# 식안에서 변수를 참조할때 파이썬 인터프리터는 이 참조를 해결하기 위해 다음 순서로 영역을 뒤짐\n",
    "\n",
    "# 1. 현재 함수의 영역\n",
    "# 2. 현재 함수를 둘러싼 영역 (현재 함수를 둘러싸고 있는 함수 등)\n",
    "# 3. 현재 코드가 들어 있는 모듈의 영역 ( 전역 영역(global scope) )\n",
    "# 4. 내장 영역 ( len, str의 영역 )\n",
    "\n",
    "# 식이 참조하는 이름에 해당하는 변수가 이 네 가지 영역에 없으면 NameError 예외가 발생한다.\n",
    "\n",
    "# foo = does_not_exist * 5\n",
    "\n",
    "# 함수안에 함수에서 변수를 바꾸면, 함수안의 변수가 바뀌지 그 밖 함수의 변수가 바뀌지 않는다.\n"
   ]
  },
  {
   "cell_type": "code",
   "execution_count": null,
   "metadata": {},
   "outputs": [],
   "source": [
    "def sort_priority2(numbers, group):\n",
    "    found = False\n",
    "    def helper(x):\n",
    "        nonlocal found       # helper 함수를 감싸는 함수의 변수에 접근가능\n",
    "        if x in group:\n",
    "            found = True\n",
    "            return (0, x)\n",
    "        return (1, x)\n",
    "    numbers.sort(key=helper)\n",
    "    return found"
   ]
  },
  {
   "cell_type": "code",
   "execution_count": 5,
   "metadata": {},
   "outputs": [
    {
     "name": "stdout",
     "output_type": "stream",
     "text": [
      "<__main__.Sorter object at 0x7fe5c82c52b0>\n"
     ]
    }
   ],
   "source": [
    "class Sorter:\n",
    "    def __init__(self, group):\n",
    "        self.group = group\n",
    "        self.found = False\n",
    "        \n",
    "    def __call__(self, x):\n",
    "        if x in self.group:\n",
    "            self.found = True\n",
    "            return (0, x)\n",
    "        return (1, x)\n",
    "    \n",
    "\n",
    "sorter = Sorter(group)\n",
    "numbers.sort(key=sorter)\n",
    "assert sorter.found is True"
   ]
  }
 ],
 "metadata": {
  "kernelspec": {
   "display_name": "DL",
   "language": "python",
   "name": "python3"
  },
  "language_info": {
   "codemirror_mode": {
    "name": "ipython",
    "version": 3
   },
   "file_extension": ".py",
   "mimetype": "text/x-python",
   "name": "python",
   "nbconvert_exporter": "python",
   "pygments_lexer": "ipython3",
   "version": "3.12.2"
  }
 },
 "nbformat": 4,
 "nbformat_minor": 2
}
