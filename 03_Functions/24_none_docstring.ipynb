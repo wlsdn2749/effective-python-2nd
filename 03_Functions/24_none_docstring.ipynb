{
 "cells": [
  {
   "cell_type": "code",
   "execution_count": 3,
   "metadata": {},
   "outputs": [
    {
     "name": "stdout",
     "output_type": "stream",
     "text": [
      "2024-06-25 15:43:16.005907: 안녕!\n",
      "2024-06-25 15:43:16.106136: 다시 안녕!\n"
     ]
    }
   ],
   "source": [
    "from time import sleep\n",
    "from datetime import datetime\n",
    "\n",
    "def log(message, when=None): # 함수가 정의되는 시점에 한 번 사용되기 떄문에, \n",
    "    \n",
    "    if when == None:\n",
    "        when = datetime.now()\n",
    "        \n",
    "    print(f'{when}: {message}')\n",
    "    \n",
    "log('안녕!')\n",
    "sleep(0.1)\n",
    "log('다시 안녕!')"
   ]
  },
  {
   "cell_type": "code",
   "execution_count": null,
   "metadata": {},
   "outputs": [],
   "source": [
    "# 디폴트 인자 값으로 None을 사용하는 것은 인자가 Mutable 한 경우, 특히 중요하다.\n",
    "\n",
    "import json\n",
    "\n",
    "def decode(data, default={}): # default 객체가 공유된다!\n",
    "    try:\n",
    "        return json.loads(data)\n",
    "    except ValueError:\n",
    "        return default"
   ]
  },
  {
   "cell_type": "code",
   "execution_count": null,
   "metadata": {},
   "outputs": [],
   "source": [
    "import json\n",
    "\n",
    "def decode(data, default=None):\n",
    "    \"\"\"문자열로부터 JSON 데이터를 읽어온다.\n",
    "    \n",
    "    Args:\n",
    "        data: 디코딩할 Json 데이터\n",
    "        default: 디코딩 실패 시 반환할 값이다.\n",
    "            디폴트 값은 빈 딕셔너리다.\n",
    "    \n",
    "    \"\"\"\n",
    "    \n",
    "    try:\n",
    "        return json.loads(data)\n",
    "    \n",
    "    except ValueError:\n",
    "        if default is None:\n",
    "            default = {}\n",
    "        return default"
   ]
  }
 ],
 "metadata": {
  "kernelspec": {
   "display_name": "Python 3",
   "language": "python",
   "name": "python3"
  },
  "language_info": {
   "codemirror_mode": {
    "name": "ipython",
    "version": 3
   },
   "file_extension": ".py",
   "mimetype": "text/x-python",
   "name": "python",
   "nbconvert_exporter": "python",
   "pygments_lexer": "ipython3",
   "version": "3.12.2"
  }
 },
 "nbformat": 4,
 "nbformat_minor": 2
}
