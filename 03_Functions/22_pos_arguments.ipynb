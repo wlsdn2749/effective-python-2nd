{
 "cells": [
  {
   "cell_type": "code",
   "execution_count": 1,
   "metadata": {},
   "outputs": [
    {
     "name": "stdout",
     "output_type": "stream",
     "text": [
      "내 숫자는 : 1, 2\n",
      "안녕\n"
     ]
    }
   ],
   "source": [
    "def log(messages, *values):\n",
    "    if not values:\n",
    "        print(messages)\n",
    "    else:\n",
    "        values_str = ', '.join(str(x) for x in values)\n",
    "        print(f'{messages}: {values_str}')\n",
    "        \n",
    "log('내 숫자는 ', 1, 2)\n",
    "log('안녕')"
   ]
  },
  {
   "cell_type": "code",
   "execution_count": 2,
   "metadata": {},
   "outputs": [
    {
     "name": "stdout",
     "output_type": "stream",
     "text": [
      "1 - 좋아하는 숫자는: : 7, 33\n",
      "...\n",
      "좋아하는 숫자는  - 7: 33\n"
     ]
    }
   ],
   "source": [
    "def log(sequence, messages, *value):\n",
    "    if not value:\n",
    "        print(f'...')\n",
    "    else:\n",
    "        values_str = ', '.join(str(x) for x in value)\n",
    "        print(f'{sequence} - {messages}: {values_str}')\n",
    "        \n",
    "log(1, '좋아하는 숫자는: ', 7, 33) # 가변인자 사용\n",
    "log(1, 'dkssud') # 메세지만 사용\n",
    "\n",
    "log('좋아하는 숫자는 ', 7, 33) # 이 코드는 깨짐"
   ]
  }
 ],
 "metadata": {
  "kernelspec": {
   "display_name": "DL",
   "language": "python",
   "name": "python3"
  },
  "language_info": {
   "codemirror_mode": {
    "name": "ipython",
    "version": 3
   },
   "file_extension": ".py",
   "mimetype": "text/x-python",
   "name": "python",
   "nbconvert_exporter": "python",
   "pygments_lexer": "ipython3",
   "version": "3.9.16"
  }
 },
 "nbformat": 4,
 "nbformat_minor": 2
}
