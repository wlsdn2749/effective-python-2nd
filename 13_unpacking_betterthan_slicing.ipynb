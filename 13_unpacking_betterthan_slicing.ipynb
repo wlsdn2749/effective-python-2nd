{
 "cells": [
  {
   "cell_type": "code",
   "execution_count": 3,
   "metadata": {},
   "outputs": [
    {
     "name": "stdout",
     "output_type": "stream",
     "text": [
      "too many values to unpack (expected 3)\n",
      "20 19 [15, 9, 8, 7, 6, 4, 1, 0]\n"
     ]
    }
   ],
   "source": [
    "# 대입을 사용해 데이터를 Unpacking하는 한계점은 시퀀스의 길이를 미리 알고 있어야 한다는 점이다.\n",
    "\n",
    "car_ages = [0, 9, 4,8,7,20,19,1,6,15]\n",
    "car_ages_descending = sorted(car_ages, reverse=True)\n",
    "try:\n",
    "    oldest, second_oldest, others = car_ages_descending # ValueError raise\n",
    "except Exception as e:\n",
    "    print(e)\n",
    "    oldest = car_ages_descending[0]\n",
    "    second_oldest = car_ages_descending[1]\n",
    "    others = car_ages_descending[2:]  # 이런경우 인덱스로 인한 오류를 만들어내기 쉽다...\n",
    "\n",
    "print(oldest, second_oldest, others) \n",
    "\n",
    "\n",
    "\n",
    "\n",
    "\n"
   ]
  },
  {
   "cell_type": "code",
   "execution_count": 4,
   "metadata": {},
   "outputs": [
    {
     "name": "stdout",
     "output_type": "stream",
     "text": [
      "20 19 [15, 9, 8, 7, 6, 4, 1, 0]\n"
     ]
    }
   ],
   "source": [
    "# 인덱스를 사용하지 않고 동일한 효과를 내는 코드이다\n",
    "oldest, second_oldest, *others = car_ages_descending # 별표식을 사용하면 unpacking이 들어가지ㅡ 못하는 부분을 별에 모두 담는다.\n",
    "print(oldest, second_oldest, others)"
   ]
  },
  {
   "cell_type": "code",
   "execution_count": 6,
   "metadata": {},
   "outputs": [
    {
     "name": "stdout",
     "output_type": "stream",
     "text": [
      "20 [19, 15, 9, 8, 7, 6, 4, 1] 0\n"
     ]
    }
   ],
   "source": [
    "# 유의해야할 점은 별표식을 꼭 마지막에 써야하는 것은 아니라는 ㄱ것이다.\n",
    "oldest, *others, last_oldest, = car_ages_descending # 별표식을 사용하면 unpacking이 들어가지ㅡ 못하는 부분을 별에 모두 담는다.\n",
    "print(oldest, others, last_oldest)"
   ]
  },
  {
   "cell_type": "code",
   "execution_count": 11,
   "metadata": {},
   "outputs": [],
   "source": [
    "# 필수인 부분은 하나는 꼭 있어야하며 한 수준에서 2개의 별을 사용하지 못한다\n",
    "\n",
    "# \"\" *others = car_ages_descending # error\n",
    "\n",
    "# first, *middle, *second_middle, last = [1,2,3,4]"
   ]
  },
  {
   "cell_type": "code",
   "execution_count": 14,
   "metadata": {},
   "outputs": [
    {
     "name": "stdout",
     "output_type": "stream",
     "text": [
      "CSV 헤더: ('날짜', '제조사', '모델', '연식', '가격')\n",
      "행 수: 1\n"
     ]
    }
   ],
   "source": [
    "# yield가 내보내는 첫번째, 두번째... 를 Unpacking 할 수 있다. 별표를 사용하면\n",
    "def generate_csv():\n",
    "    yield ('날짜', '제조사', '모델', '연식', '가격')\n",
    "    yield 200\n",
    "    \n",
    "all_csv_rows = list(generate_csv())\n",
    "header = all_csv_rows[0]\n",
    "rows = all_csv_rows[1:]\n",
    "print('CSV 헤더:', header)\n",
    "print('행 수:', len(rows))\n",
    "\n",
    "\n",
    "\n"
   ]
  },
  {
   "cell_type": "code",
   "execution_count": 15,
   "metadata": {},
   "outputs": [
    {
     "name": "stdout",
     "output_type": "stream",
     "text": [
      "CSV 헤더: ('날짜', '제조사', '모델', '연식', '가격')\n"
     ]
    }
   ],
   "source": [
    "it = generate_csv()\n",
    "header, *rows = it\n",
    "print('CSV 헤더:', header)"
   ]
  }
 ],
 "metadata": {
  "kernelspec": {
   "display_name": "DL",
   "language": "python",
   "name": "python3"
  },
  "language_info": {
   "codemirror_mode": {
    "name": "ipython",
    "version": 3
   },
   "file_extension": ".py",
   "mimetype": "text/x-python",
   "name": "python",
   "nbconvert_exporter": "python",
   "pygments_lexer": "ipython3",
   "version": "3.9.16"
  }
 },
 "nbformat": 4,
 "nbformat_minor": 2
}
