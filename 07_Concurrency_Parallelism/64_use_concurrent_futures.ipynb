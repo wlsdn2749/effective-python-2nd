{
 "cells": [
  {
   "cell_type": "code",
   "execution_count": 3,
   "metadata": {},
   "outputs": [
    {
     "name": "stdout",
     "output_type": "stream",
     "text": [
      "총 5.652초 걸림\n"
     ]
    }
   ],
   "source": [
    "# 코드에 있는 계산을 여러 CPU 코어가 병렬로 실행할 수 있는 독립적인 작업 단위로 나눈다\n",
    "\n",
    "# concurrent.futures 내장 모듈의 multiprocessing 내장 모듈은 \n",
    "# 자식 프로세스로 다른 파이썬 인터프리터를 실행시킴으로써 파이썬에서 여러 CPU 코어를 사용할 수 있게 만들어준다\n",
    "\n",
    "# 자식 프로세스는 주 인터프리터와 별도로 실행되기 때문에 주 인터프리터의 GIL과 분리된다\n",
    "\n",
    "# mymodule.py \n",
    "\n",
    "# serial 버전, 선형으로 실행시간이 증가한다 ( 병렬 사용 x )\n",
    "\n",
    "import my_module\n",
    "import time\n",
    "\n",
    "NUMBERS = [\n",
    "    (1963309, 2265973), (2030677, 3814172),\n",
    "    (1551645, 2229620), (2039045, 2020802),\n",
    "    (1823712, 1924928), (2293129, 1020491),\n",
    "    (1281238, 2273782), (3823812, 4237281),\n",
    "    (3812741, 4729139), (1292391, 2123811),\n",
    "]\n",
    "\n",
    "def main():\n",
    "    start = time.time()\n",
    "    results = list(map(my_module.gcd, NUMBERS))\n",
    "    end = time.time()\n",
    "    delta = end - start\n",
    "    print(f'총 {delta:.3f}초 걸림')\n",
    "    \n",
    "if __name__ == '__main__':\n",
    "    main()"
   ]
  },
  {
   "cell_type": "code",
   "execution_count": 4,
   "metadata": {},
   "outputs": [
    {
     "name": "stdout",
     "output_type": "stream",
     "text": [
      "총 5.903초 걸림\n"
     ]
    }
   ],
   "source": [
    "# 코드에 있는 계산을 여러 CPU 코어가 병렬로 실행할 수 있는 독립적인 작업 단위로 나눈다\n",
    "\n",
    "# concurrent.futures 내장 모듈의 multiprocessing 내장 모듈은 \n",
    "# 자식 프로세스로 다른 파이썬 인터프리터를 실행시킴으로써 파이썬에서 여러 CPU 코어를 사용할 수 있게 만들어준다\n",
    "\n",
    "# 자식 프로세스는 주 인터프리터와 별도로 실행되기 때문에 주 인터프리터의 GIL과 분리된다\n",
    "\n",
    "# mymodule.py\n",
    "\n",
    "# threads를 run하는 프로그램, 오히려 더 느려짐\n",
    "\n",
    "import my_module\n",
    "from concurrent.futures import ThreadPoolExecutor\n",
    "import time\n",
    "\n",
    "NUMBERS = [\n",
    "    (1963309, 2265973), (2030677, 3814172),\n",
    "    (1551645, 2229620), (2039045, 2020802),\n",
    "    (1823712, 1924928), (2293129, 1020491),\n",
    "    (1281238, 2273782), (3823812, 4237281),\n",
    "    (3812741, 4729139), (1292391, 2123811),\n",
    "]\n",
    "\n",
    "def main():\n",
    "    start = time.time()\n",
    "    pool = ThreadPoolExecutor(max_workers=2) # 스레드 풀을 시작하고 통신 비용이 들기 때문에 이전보다 더 느려짐\n",
    "    results = list(map(my_module.gcd, NUMBERS))\n",
    "    end = time.time()\n",
    "    delta = end - start\n",
    "    print(f'총 {delta:.3f}초 걸림')\n",
    "    \n",
    "if __name__ == '__main__':\n",
    "    main()"
   ]
  },
  {
   "cell_type": "code",
   "execution_count": 5,
   "metadata": {},
   "outputs": [
    {
     "name": "stdout",
     "output_type": "stream",
     "text": [
      "총 5.837초 걸림\n"
     ]
    }
   ],
   "source": [
    "# 코드에 있는 계산을 여러 CPU 코어가 병렬로 실행할 수 있는 독립적인 작업 단위로 나눈다\n",
    "\n",
    "# concurrent.futures 내장 모듈의 multiprocessing 내장 모듈은 \n",
    "# 자식 프로세스로 다른 파이썬 인터프리터를 실행시킴으로써 파이썬에서 여러 CPU 코어를 사용할 수 있게 만들어준다\n",
    "\n",
    "# 자식 프로세스는 주 인터프리터와 별도로 실행되기 때문에 주 인터프리터의 GIL과 분리된다\n",
    "\n",
    "# mymodule.py\n",
    "\n",
    "# parallel.. Thread말고 ProcessPool\n",
    "\n",
    "import my_module\n",
    "from concurrent.futures import ProcessPoolExecutor\n",
    "import time\n",
    "\n",
    "NUMBERS = [\n",
    "    (1963309, 2265973), (2030677, 3814172),\n",
    "    (1551645, 2229620), (2039045, 2020802),\n",
    "    (1823712, 1924928), (2293129, 1020491),\n",
    "    (1281238, 2273782), (3823812, 4237281),\n",
    "    (3812741, 4729139), (1292391, 2123811),\n",
    "]\n",
    "\n",
    "def main():\n",
    "    start = time.time()\n",
    "    pool = ProcessPoolExecutor(max_workers=2) # 스레드 풀을 시작하고 통신 비용이 들기 때문에 이전보다 더 느려짐\n",
    "    results = list(map(my_module.gcd, NUMBERS))\n",
    "    end = time.time()\n",
    "    delta = end - start\n",
    "    print(f'총 {delta:.3f}초 걸림')\n",
    "    \n",
    "if __name__ == '__main__':\n",
    "    main()"
   ]
  }
 ],
 "metadata": {
  "kernelspec": {
   "display_name": "as",
   "language": "python",
   "name": "python3"
  },
  "language_info": {
   "codemirror_mode": {
    "name": "ipython",
    "version": 3
   },
   "file_extension": ".py",
   "mimetype": "text/x-python",
   "name": "python",
   "nbconvert_exporter": "python",
   "pygments_lexer": "ipython3",
   "version": "3.10.13"
  }
 },
 "nbformat": 4,
 "nbformat_minor": 2
}
