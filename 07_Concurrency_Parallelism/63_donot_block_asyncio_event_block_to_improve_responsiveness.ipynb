{
 "cells": [
  {
   "cell_type": "code",
   "execution_count": 6,
   "metadata": {},
   "outputs": [
    {
     "ename": "TypeError",
     "evalue": "slow_corutine() got an unexpected keyword argument 'debug'",
     "output_type": "error",
     "traceback": [
      "\u001b[0;31m---------------------------------------------------------------------------\u001b[0m",
      "\u001b[0;31mTypeError\u001b[0m                                 Traceback (most recent call last)",
      "\u001b[1;32m/workspace/effective_python_2nd/07_Concurrency_Parallelism/63_donot_block_asyncio_event_block_to_improve_responsiveness.ipynb 셀 1\u001b[0m line \u001b[0;36m2\n\u001b[1;32m     <a href='vscode-notebook-cell://ssh-remote%2Bmain/workspace/effective_python_2nd/07_Concurrency_Parallelism/63_donot_block_asyncio_event_block_to_improve_responsiveness.ipynb#W0sdnNjb2RlLXJlbW90ZQ%3D%3D?line=25'>26</a>\u001b[0m     time\u001b[39m.\u001b[39msleep(\u001b[39m0.5\u001b[39m) \u001b[39m# 느린 I/O 시뮬레이션\u001b[39;00m\n\u001b[1;32m     <a href='vscode-notebook-cell://ssh-remote%2Bmain/workspace/effective_python_2nd/07_Concurrency_Parallelism/63_donot_block_asyncio_event_block_to_improve_responsiveness.ipynb#W0sdnNjb2RlLXJlbW90ZQ%3D%3D?line=27'>28</a>\u001b[0m \u001b[39m#asyncio.run(slow_corutine(), debug=True)\u001b[39;00m\n\u001b[0;32m---> <a href='vscode-notebook-cell://ssh-remote%2Bmain/workspace/effective_python_2nd/07_Concurrency_Parallelism/63_donot_block_asyncio_event_block_to_improve_responsiveness.ipynb#W0sdnNjb2RlLXJlbW90ZQ%3D%3D?line=28'>29</a>\u001b[0m \u001b[39mawait\u001b[39;00m slow_corutine(debug \u001b[39m=\u001b[39m\u001b[39mTrue\u001b[39;00m)\n",
      "\u001b[0;31mTypeError\u001b[0m: slow_corutine() got an unexpected keyword argument 'debug'"
     ]
    }
   ],
   "source": [
    "'''\n",
    "async def run_tasks(handles, interval, output_path):\n",
    "    with open(output_path, 'wb') as output:\n",
    "        async def write_async(data):\n",
    "            output.write(data)\n",
    "        \n",
    "        tasks = []\n",
    "        \n",
    "        for handle in handles:\n",
    "            coro = tail_async(handle, interval, write_async)\n",
    "            task = asyncio.create_task(coro)\n",
    "            tasks.append(task)\n",
    "            \n",
    "        await asyncio.gather(*tasks)\n",
    "        \n",
    "# 이 코드에도 한가지 문제가 있다. 출력 파일 핸들에 대한 open, close, write 호출이 주 이벤트 루프에서 이뤄져야 한다는 것이다.\n",
    "# 이런 연산은 모두 프로그램을 실행하는 운영체제의 시스템 콜을 사용하기 때문에 이벤트 루프를 상당히 오랫동안 블록할 수 있으므로 다른 코루틴이 진행하지 못하게 된다.\n",
    "\n",
    "# debug=True 파라미터를 asyncio.run 함수에 넘기면 된다\n",
    "'''\n",
    "\n",
    "import time\n",
    "import asyncio\n",
    "\n",
    "async def slow_corutine():\n",
    "    time.sleep(0.5) # 느린 I/O 시뮬레이션\n",
    "    \n",
    "#asyncio.run(slow_corutine(), debug=True)\n",
    "await slow_corutine() # use jupyter\n",
    "    \n",
    "\n",
    "\n",
    "\n",
    "        \n",
    "\n",
    "\n"
   ]
  },
  {
   "cell_type": "code",
   "execution_count": null,
   "metadata": {},
   "outputs": [],
   "source": [
    "from threading import Thread\n",
    "\n",
    "class WriteThread(Thread):\n",
    "    def __init__(self, output_path):\n",
    "        super().__init__()\n",
    "        self.output_path = output_path\n",
    "        self.output = None\n",
    "        self.loop = asyncio.new_event_loop()\n",
    "    \n",
    "    def run(self):\n",
    "        asyncio.set_event_loop(self.loop)\n",
    "        with open(self.output_path, 'wb') as self.output:\n",
    "            self.loop.run_forever()\n",
    "            \n",
    "        # 맨 마지막에 한 번 더 이벤트 루프를 실행해서\n",
    "        # 다른 이벤트 루프가 stop()에 await하는 경우를 해결한다\n",
    "        self.loop.run_until_complete(asyncio.sleep(0))\n",
    "        \n",
    "        \n",
    "    async def real_write(self, data):\n",
    "        self.output.write(data)\n",
    "        \n",
    "    async def write(self, data):\n",
    "        coro = self.real_write(data) # 실제 I/O를 실행하는 메서드를 스레드 안전하게 감싸준다\n",
    "        future = asyncio.run_coroutine_threadsafe(\n",
    "            coro, self.loop\n",
    "        )\n",
    "        await asyncio.wrap_future(future)\n",
    "        \n",
    "    async def real_stop(self):\n",
    "        self.loop.stop()\n",
    "        \n",
    "    async def stop(self):\n",
    "        coro = self.real_stop()\n",
    "        future = asyncio.run_coroutine_threadsafe(\n",
    "            coro, self.loop\n",
    "        )\n",
    "        await asyncio.wrap_future(future)\n",
    "        \n",
    "    async def __aenter__(self):\n",
    "        loop = asyncio.get_event_loop()\n",
    "        await loop.run_in_executor(None, self.start)\n",
    "        return self\n",
    "\n",
    "    async def __aexit__(self, *_):\n",
    "        await self.stop()"
   ]
  }
 ],
 "metadata": {
  "kernelspec": {
   "display_name": "as",
   "language": "python",
   "name": "python3"
  },
  "language_info": {
   "codemirror_mode": {
    "name": "ipython",
    "version": 3
   },
   "file_extension": ".py",
   "mimetype": "text/x-python",
   "name": "python",
   "nbconvert_exporter": "python",
   "pygments_lexer": "ipython3",
   "version": "3.10.13"
  }
 },
 "nbformat": 4,
 "nbformat_minor": 2
}
