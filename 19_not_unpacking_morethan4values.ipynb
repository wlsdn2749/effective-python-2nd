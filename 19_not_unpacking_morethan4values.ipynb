{
 "cells": [
  {
   "cell_type": "code",
   "execution_count": 1,
   "metadata": {},
   "outputs": [
    {
     "name": "stdout",
     "output_type": "stream",
     "text": [
      "최소: 57, 최대: 73\n"
     ]
    }
   ],
   "source": [
    "def get_stats(numbers):\n",
    "    minimum = min(numbers)\n",
    "    maximum = max(numbers)\n",
    "    \n",
    "    return minimum, maximum\n",
    "\n",
    "lengths = [63, 73, 72, 60, 57]\n",
    "\n",
    "minimum, maximum = get_stats(lengths)\n",
    "\n",
    "print(f'최소: {minimum}, 최대: {maximum}')"
   ]
  },
  {
   "cell_type": "code",
   "execution_count": 3,
   "metadata": {},
   "outputs": [
    {
     "name": "stdout",
     "output_type": "stream",
     "text": [
      "최대 길이: 112%\n",
      "최소 길이:  88%\n"
     ]
    }
   ],
   "source": [
    "def get_avg_ratio(numbers):\n",
    "    average = sum(numbers) / len(numbers)\n",
    "    scaled = [x / average for x in numbers]\n",
    "    scaled.sort(reverse=True)\n",
    "    return scaled\n",
    "\n",
    "longest, *middle, shortest = get_avg_ratio(lengths)\n",
    "print(f'최대 길이: {longest:>4.0%}')\n",
    "print(f'최소 길이: {shortest:>4.0%}')"
   ]
  },
  {
   "cell_type": "code",
   "execution_count": 4,
   "metadata": {},
   "outputs": [
    {
     "name": "stdout",
     "output_type": "stream",
     "text": [
      "최소 길이: 57, 최대 길이: 73\n",
      "평균: 65.0, 중앙값: 63, 개수: 5\n"
     ]
    }
   ],
   "source": [
    "def get_stats(numbers):\n",
    "    minimum = min(numbers)\n",
    "    maximum = max(numbers)\n",
    "    count = len(numbers)\n",
    "    average = sum(numbers) / count\n",
    "    sorted_numbers = sorted(numbers)\n",
    "    middle = count // 2\n",
    "    if count % 2 == 0:\n",
    "        lower = sorted_numbers[middle - 1]\n",
    "        upper = sorted_numbers[middle]\n",
    "        median = (lower + upper) / 2\n",
    "    else:\n",
    "        median = sorted_numbers[middle]\n",
    "\n",
    "    return minimum, maximum, average, median, count\n",
    "\n",
    "minimum, maximum, average, median, count = get_stats(lengths) # 순서를 혼동하기 쉽다.\n",
    "\n",
    "# 3가지 이상의 반환값을 가지게 하려면 경량 클래스나 named tuple을 사용하자\n",
    "print(f'최소 길이: {minimum}, 최대 길이: {maximum}')\n",
    "print(f'평균: {average}, 중앙값: {median}, 개수: {count}') "
   ]
  }
 ],
 "metadata": {
  "kernelspec": {
   "display_name": "DL",
   "language": "python",
   "name": "python3"
  },
  "language_info": {
   "codemirror_mode": {
    "name": "ipython",
    "version": 3
   },
   "file_extension": ".py",
   "mimetype": "text/x-python",
   "name": "python",
   "nbconvert_exporter": "python",
   "pygments_lexer": "ipython3",
   "version": "3.9.16"
  }
 },
 "nbformat": 4,
 "nbformat_minor": 2
}
