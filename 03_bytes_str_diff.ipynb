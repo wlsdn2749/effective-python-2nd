{
 "cells": [
  {
   "cell_type": "code",
   "execution_count": 1,
   "metadata": {},
   "outputs": [
    {
     "name": "stdout",
     "output_type": "stream",
     "text": [
      "[104, 101, 108, 108, 111]\n",
      "b'hello'\n"
     ]
    }
   ],
   "source": [
    "# bytes 타입의 인스턴스에는 부호가 없는 8바이트 데이터가 그대로 들어간다\n",
    "a = b'h\\x65llo'\n",
    "print(list(a))\n",
    "print(a)"
   ]
  },
  {
   "cell_type": "code",
   "execution_count": 2,
   "metadata": {},
   "outputs": [
    {
     "name": "stdout",
     "output_type": "stream",
     "text": [
      "['a', '̀', ' ', 'p', 'r', 'o', 'p', 'o', 's']\n",
      "à propos\n"
     ]
    }
   ],
   "source": [
    "# str 인스턴스에는 사람이 사용하은 언어의 문자를 표현하는 유니코드 코드 포인트가 들어있다.\n",
    "\n",
    "a = 'a\\u0300 propos'\n",
    "print(list(a))\n",
    "print(a)"
   ]
  },
  {
   "cell_type": "code",
   "execution_count": null,
   "metadata": {},
   "outputs": [],
   "source": [
    "# str 인스턴스에는 직접 대응하는 이진 인코딩이 없고\n",
    "# bytes 인스턴스에는 직접 대응하는 텍스트 인코딩이 없다는 점이다.\n",
    "\n",
    "# 유니코드 데이터를 이진 데이터로 변환하려면 str의 encode 메서드를 호출\n",
    "# 이진 데이터를 유니코드 데이터로 변환하려면 bytes의 decode 메서드를 호출\n",
    "\n",
    "# 파이썬 프로그램을 작성할때 유니코드 데이터를 인코딩하거나 디코딩하는 부분을 인터페이스의 가장 먼 경계지점에 위치시켜\n",
    "# 이러한 방식을 유니코드 샌드위치라고 부름!\n"
   ]
  },
  {
   "cell_type": "code",
   "execution_count": 2,
   "metadata": {},
   "outputs": [
    {
     "name": "stdout",
     "output_type": "stream",
     "text": [
      "'foo'\n",
      "'bar'\n",
      "'한'\n"
     ]
    }
   ],
   "source": [
    "# 1.  bytes나 str 인스턴스를 받아서 항상 str를 반환\n",
    "\n",
    "def to_str(bytes_or_str):\n",
    "    if isinstance(bytes_or_str, bytes):\n",
    "        value = bytes_or_str.decode('utf-8')\n",
    "    else:\n",
    "        value = bytes_or_str\n",
    "        \n",
    "    return value # str instance\n",
    "\n",
    "\n",
    "print(repr(to_str(b'foo')))\n",
    "print(repr(to_str('bar')))\n",
    "print(repr(to_str(b'\\xed\\x95\\x9c'))) # utf-8에서 한글은 3byte"
   ]
  },
  {
   "cell_type": "code",
   "execution_count": 3,
   "metadata": {},
   "outputs": [
    {
     "name": "stdout",
     "output_type": "stream",
     "text": [
      "b'foo'\n",
      "b'bar'\n",
      "b'\\xed\\x95\\x9c\\xea\\xb8\\x80'\n"
     ]
    }
   ],
   "source": [
    "# 2. bytes나 str 인스턴스를 받아서 항상 bytes를 반환\n",
    "\n",
    "def to_bytes(bytes_or_str):\n",
    "    if isinstance(bytes_or_str, str):\n",
    "        value = bytes_or_str.encode('utf-8')\n",
    "    else:\n",
    "        value = bytes_or_str\n",
    "        \n",
    "    return value\n",
    "\n",
    "print(repr(to_bytes(b'foo')))\n",
    "print(repr(to_bytes('bar')))\n",
    "print(repr(to_bytes('한글')))\n"
   ]
  },
  {
   "cell_type": "code",
   "execution_count": 5,
   "metadata": {},
   "outputs": [],
   "source": [
    "#이진 8비트 값과 유니코드 문자열 파이썬에서 다룰떄 주의해야할 2가지\n",
    "\n",
    "# 1. bytes와 str이 똑같이 작동하는 것 처럼 보이지만 각각의 인스턴스는 서로호환되지 않기 때문에\n",
    "#    전달 중인 문자 시퀀스가 어떤 타입인지를 항상 잘 알고 있어야 한다.\n",
    "\n",
    "# 2. open()이 기본적으로 유니코드 핸들을 요구하므로 잘 생각해야한다\n",
    "\n",
    "# with open('data.bin', 'wb') as f:\n",
    "#     f.write(b'\\xf1\\xf2\\xf3\\xf4\\xf5') # error 'w' -> 'wb'로 바꿔주어야한다."
   ]
  }
 ],
 "metadata": {
  "kernelspec": {
   "display_name": "DL",
   "language": "python",
   "name": "python3"
  },
  "language_info": {
   "codemirror_mode": {
    "name": "ipython",
    "version": 3
   },
   "file_extension": ".py",
   "mimetype": "text/x-python",
   "name": "python",
   "nbconvert_exporter": "python",
   "pygments_lexer": "ipython3",
   "version": "3.9.16"
  },
  "orig_nbformat": 4
 },
 "nbformat": 4,
 "nbformat_minor": 2
}
