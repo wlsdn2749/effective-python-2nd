{
 "cells": [
  {
   "cell_type": "code",
   "execution_count": 1,
   "metadata": {},
   "outputs": [
    {
     "name": "stdout",
     "output_type": "stream",
     "text": [
      "이진수: 187, 십육진수: 3167\n"
     ]
    }
   ],
   "source": [
    "# 형식 문자열 ( 미리 정의된 템플릿 )\n",
    "\n",
    "a = 0b10111011\n",
    "b = 0xc5f\n",
    "print('이진수: %d, 십육진수: %d' % (a, b))\n",
    "\n",
    "\n",
    "# 형식 문자열 문제점 4가지\n",
    "\n",
    "# 1. 오른쪽에 있는 tuple의 데이터 값의 순서를 바꾸거나 값의 타입을 바꾸면 타입 변환이 불가능 하므로 오류가 발생\n",
    "\n"
   ]
  },
  {
   "cell_type": "code",
   "execution_count": 3,
   "metadata": {},
   "outputs": [
    {
     "name": "stdout",
     "output_type": "stream",
     "text": [
      "#1: 아보카도       = 1\n",
      "#2: 바나나        = 2\n",
      "#3: 체리         = 15\n"
     ]
    }
   ],
   "source": [
    "# 2. 형식화를 하기 전에 값을 살짝 변경해야 한다면 식을 읽기가 매우 어려워진다. \n",
    "\n",
    "pantry = [\n",
    "    ('아보카도', 1.25),\n",
    "    ('바나나', 2.5),\n",
    "    ('체리', 15)\n",
    "]\n",
    "\n",
    "for i, (item, count) in enumerate(pantry):\n",
    "    # print(\"#%d: %-10s = %.2f\" % (i, item, count))\n",
    "    print('#%d: %-10s = %d' % (\n",
    "        i + 1,\n",
    "        item.title(),\n",
    "        round(count)\n",
    "    )) # -> 훨씬 더 가독성 구림 \n",
    "    "
   ]
  },
  {
   "cell_type": "code",
   "execution_count": 4,
   "metadata": {},
   "outputs": [
    {
     "name": "stdout",
     "output_type": "stream",
     "text": [
      "철수는 음식을 좋아해. 철수가 요리하는 모습을 봐요\n"
     ]
    }
   ],
   "source": [
    "# 세 번째 문제점은 형식화 문자열에서 같은 값을 여러 번 사용하려면 튜플에서 같은 값을 여러 번 반복해야 한다는 점.\n",
    "\n",
    "template = '%s는 음식을 좋아해. %s가 요리하는 모습을 봐요'\n",
    "name = '철수'\n",
    "formatted = template % (name, name)\n",
    "print(formatted) "
   ]
  },
  {
   "cell_type": "code",
   "execution_count": 6,
   "metadata": {},
   "outputs": [],
   "source": [
    "# 형식화 식에 딕셔너리 사용할 수 있다. 하지만 사용할 경우 문자 번잡해짐\n",
    "\n",
    "for i, (item, count) in enumerate(pantry):\n",
    "    before = '#%d: %-10s = %d' % (\n",
    "        i + 1,\n",
    "        item.title(),\n",
    "        round(count)\n",
    "    )\n",
    "    \n",
    "    after = '#%(loop)d: %(item)-10s = %(count)d' % {\n",
    "        'loop': i + 1,\n",
    "        'item': item.title(),\n",
    "        'count': round(count)\n",
    "    }\n",
    "    \n",
    "    assert before == after"
   ]
  },
  {
   "cell_type": "code",
   "execution_count": 7,
   "metadata": {},
   "outputs": [
    {
     "name": "stdout",
     "output_type": "stream",
     "text": [
      "1,234.57\n",
      "*        my 문자열        *\n"
     ]
    }
   ],
   "source": [
    "# 내장 함수 format과 str.format\n",
    "a = 1234.5678\n",
    "formatted = format(a, ',.2f') # 천 단위 숫자를 표기하는 ,\n",
    "print(formatted)\n",
    "\n",
    "b = 'my 문자열'\n",
    "formatted = format(b, '^20s') # 중앙에 값을 표시하는 ^\n",
    "print('*', formatted, '*')"
   ]
  },
  {
   "cell_type": "code",
   "execution_count": 9,
   "metadata": {},
   "outputs": [
    {
     "name": "stdout",
     "output_type": "stream",
     "text": [
      "my_var = 1.234\n",
      "my_var     = 1.23\n"
     ]
    }
   ],
   "source": [
    "key = 'my_var'\n",
    "value = 1.234\n",
    "\n",
    "formatted = '{} = {}'.format(key, value) # {}안에 형식자를 지정할 수 잇고 순서는 튜플의 순서와 같다\n",
    "print(formatted)\n",
    "\n",
    "formatted = '{:<10} = {:.2f}'.format(key, value) \n",
    "print(formatted)\n"
   ]
  },
  {
   "cell_type": "code",
   "execution_count": 2,
   "metadata": {},
   "outputs": [
    {
     "name": "stdout",
     "output_type": "stream",
     "text": [
      "my_var = 1.234\n",
      "'my_var'   = 1.23\n"
     ]
    }
   ],
   "source": [
    "# f-string \n",
    "\n",
    "key = 'my_var'\n",
    "value = 1.234\n",
    "\n",
    "formatted = f'{key} = {value}'\n",
    "print(formatted)\n",
    "\n",
    "formatted = f'{key!r:<10} = {value:.2f}'\n",
    "print(formatted)"
   ]
  }
 ],
 "metadata": {
  "kernelspec": {
   "display_name": "DL",
   "language": "python",
   "name": "python3"
  },
  "language_info": {
   "codemirror_mode": {
    "name": "ipython",
    "version": 3
   },
   "file_extension": ".py",
   "mimetype": "text/x-python",
   "name": "python",
   "nbconvert_exporter": "python",
   "pygments_lexer": "ipython3",
   "version": "3.9.16"
  },
  "orig_nbformat": 4
 },
 "nbformat": 4,
 "nbformat_minor": 2
}
