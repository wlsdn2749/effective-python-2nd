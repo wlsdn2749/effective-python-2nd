{
 "cells": [
  {
   "cell_type": "markdown",
   "metadata": {},
   "source": [
    "원소를 받은 순서가 아니라 원소간의 상대적인 중요도에 따라 원소를 정렬해야 할 때\n",
    "\n",
    "우선순위 큐(priority queue)가 적합하다\n",
    "\n",
    "도서관에서 대출한 책을 관리하는 프로그램을 작성한다고 하면,\n",
    "\n",
    "회원중에는 계속 신간만 대출하는 사람이 있고, 대출한 책을 제시간에 반납하는 사람이 있고, 연체된 책이 있음을 통지하는 사람이 있다.\n",
    "\n",
    "대출한 책을 표현하는 클래스이다.\n",
    "\n"
   ]
  },
  {
   "cell_type": "code",
   "execution_count": 1,
   "metadata": {},
   "outputs": [],
   "source": [
    "# 만기일을 넘긴 경우에는 연체 사실을 통지하는 메시지를 보내는 시스템이 필요하다.\n",
    "\n",
    "class Book:\n",
    "    def __init__(self, title, due_date):\n",
    "        self.title = title\n",
    "        self.due_date = due_date\n",
    "        \n",
    "def add_book(queue, book):\n",
    "    queue.append(book)\n",
    "    queue.sort(key=lambda x: x.due_date, reverse=True) # 날짜 순으로 내림차순 정렬\n",
    "    \n",
    "queue = []\n",
    "add_book(queue, Book('돈키호테', '2020-06-07'))\n",
    "add_book(queue, Book('프랑켄슈타인', '2020-06-05'))\n",
    "add_book(queue, Book('레미제라블', '2020-06-08'))\n",
    "add_book(queue, Book('전쟁과 평화', '2020-06-03'))"
   ]
  },
  {
   "cell_type": "code",
   "execution_count": 2,
   "metadata": {},
   "outputs": [],
   "source": [
    "class NoOverdueBooks(Exception):\n",
    "    pass\n",
    "\n",
    "def next_overdue_book(queue, now) -> Book:\n",
    "    if queue:\n",
    "        book = queue[-1]\n",
    "        if book.due_date < now:\n",
    "            queue.pop()\n",
    "            return book\n",
    "        \n",
    "    raise NoOverdueBooks"
   ]
  },
  {
   "cell_type": "code",
   "execution_count": 4,
   "metadata": {},
   "outputs": [
    {
     "name": "stdout",
     "output_type": "stream",
     "text": [
      "돈키호테\n",
      "레미제라블\n"
     ]
    }
   ],
   "source": [
    "now = '2020-06-10'\n",
    "\n",
    "found = next_overdue_book(queue, now)\n",
    "print(found.title)\n",
    "\n",
    "found = next_overdue_book(queue, now)\n",
    "print(found.title)"
   ]
  },
  {
   "cell_type": "code",
   "execution_count": 5,
   "metadata": {},
   "outputs": [
    {
     "name": "stdout",
     "output_type": "stream",
     "text": [
      "반납 전: ['보물섬']\n",
      "반납 후:  []\n"
     ]
    }
   ],
   "source": [
    "def return_book(queue, book):\n",
    "    queue.remove(book)\n",
    "    \n",
    "queue = []\n",
    "book = Book('보물섬', '2020-06-04')\n",
    " \n",
    "add_book(queue, book)\n",
    "print('반납 전:', [x.title for x in queue])\n",
    "\n",
    "return_book(queue, book)\n",
    "print('반납 후: ', [x.title for x in queue])"
   ]
  },
  {
   "cell_type": "markdown",
   "metadata": {},
   "source": [
    "그리고 모든 책이 반납 됬는지 확인 되면 return_book 함수는 정해진 예외를 발생 시킨다. \n",
    "\n",
    "None을 반환하기 보다는 예외를 발생시켜라. ^^"
   ]
  },
  {
   "cell_type": "code",
   "execution_count": null,
   "metadata": {},
   "outputs": [],
   "source": [
    "try:\n",
    "    next_overdue_book(queue, now)\n",
    "except NoOverdueBooks:\n",
    "    pass # 이문장이 실행될 것으로 예상됨\n",
    "else:\n",
    "    assert False # 이 문장은 결코 실행되지 않음"
   ]
  },
  {
   "cell_type": "markdown",
   "metadata": {},
   "source": [
    "하지만 이 해결방법의 계산복잡도는 이상적이지 않다\n",
    "\n",
    "연체된 책을 검사 혹은 제거 하는 비용은 상수 이지만, 책을 추가 할 때마다 전체 리스트를 다시 정렬해야 하는 추가 비용이 들어간다.\n",
    "\n",
    "추가할 책이 len(queue) 만큼 있다면 이를 정렬하는데 드는 비용은 nlogn이므로\n",
    "\n",
    "총 비용은 $n^2logn$이다"
   ]
  },
  {
   "cell_type": "code",
   "execution_count": 6,
   "metadata": {},
   "outputs": [
    {
     "name": "stdout",
     "output_type": "stream",
     "text": [
      "\n",
      "원소 수:   500 걸린시간: 0.003440초\n",
      "\n",
      "원소 수: 1,000 걸린시간: 0.012054초\n",
      "데이터 크기  2.0배, 걸린 시간  3.5배\n",
      "\n",
      "원소 수: 1,500 걸린시간: 0.025646초\n",
      "데이터 크기  3.0배, 걸린 시간  7.5배\n",
      "\n",
      "원소 수: 2,000 걸린시간: 0.044412초\n",
      "데이터 크기  4.0배, 걸린 시간 12.9배\n"
     ]
    }
   ],
   "source": [
    "import random\n",
    "import timeit\n",
    "\n",
    "def print_results(count, tests):\n",
    "    avg_iteration = sum(tests) / len(tests)\n",
    "    print(f'\\n원소 수: {count:>5,} 걸린시간: {avg_iteration:.6f}초')\n",
    "    return count, avg_iteration\n",
    "\n",
    "\n",
    "def list_overdue_benchmark(count):\n",
    "    def prepare():\n",
    "        to_add = list(range(count))\n",
    "        random.shuffle(to_add)\n",
    "        return [], to_add\n",
    "\n",
    "    def run(queue, to_add):\n",
    "        for i in to_add:\n",
    "            queue.append(i)\n",
    "            queue.sort(reverse=True)\n",
    "\n",
    "        while queue:\n",
    "            queue.pop()\n",
    "\n",
    "    tests = timeit.repeat(\n",
    "        setup='queue, to_add = prepare()',\n",
    "        stmt=f'run(queue, to_add)',\n",
    "        globals=locals(),\n",
    "        repeat=100,\n",
    "        number=1)\n",
    "\n",
    "    return print_results(count, tests)\n",
    "\n",
    "def print_delta(before, after):\n",
    "    before_count, before_time = before\n",
    "    after_count, after_time = after\n",
    "    growth = 1 + (after_count - before_count) / before_count\n",
    "    slowdown = 1 + (after_time - before_time) / before_time\n",
    "    print(f'데이터 크기 {growth:>4.1f}배, 걸린 시간 {slowdown:>4.1f}배')\n",
    "\n",
    "baseline = list_overdue_benchmark(500)\n",
    "for count in (1_000, 1_500, 2_000):\n",
    "    comparison = list_overdue_benchmark(count)\n",
    "    print_delta(baseline, comparison)"
   ]
  },
  {
   "cell_type": "code",
   "execution_count": 7,
   "metadata": {},
   "outputs": [
    {
     "name": "stdout",
     "output_type": "stream",
     "text": [
      "\n",
      "원소 수:   500 걸린시간: 0.002257초\n",
      "\n",
      "원소 수: 1,000 걸린시간: 0.008641초\n",
      "데이터 크기  2.0배, 걸린 시간  3.8배\n",
      "\n",
      "원소 수: 1,500 걸린시간: 0.019097초\n",
      "데이터 크기  3.0배, 걸린 시간  8.5배\n",
      "\n",
      "원소 수: 2,000 걸린시간: 0.033810초\n",
      "데이터 크기  4.0배, 걸린 시간 15.0배\n"
     ]
    }
   ],
   "source": [
    "\n",
    "def list_return_benchmark(count):\n",
    "    def prepare():\n",
    "        queue = list(range(count))\n",
    "        random.shuffle(queue)\n",
    "        to_return = list(range(count))\n",
    "        random.shuffle(to_return)\n",
    "        return queue, to_return\n",
    "\n",
    "    def run(queue, to_return):\n",
    "        for i in to_return:\n",
    "            queue.remove(i)\n",
    "\n",
    "    tests = timeit.repeat(\n",
    "        setup='queue, to_return = prepare()',\n",
    "        stmt=f'run(queue, to_return)',\n",
    "        globals=locals(),\n",
    "        repeat=100,\n",
    "        number=1)\n",
    "\n",
    "    return print_results(count, tests)\n",
    "\n",
    "baseline = list_return_benchmark(500)\n",
    "for count in (1_000, 1_500, 2_000):\n",
    "    comparison = list_return_benchmark(count)\n",
    "    print_delta(baseline, comparison)"
   ]
  },
  {
   "cell_type": "markdown",
   "metadata": {},
   "source": [
    "도서관 장서 수가 적은 경우라면 가능한데, 아주 큰 규모의 도서관 같은 경우에는 리스트에 정의된 메서드가 효과적이지 않다.\n",
    "\n",
    "이러한 문제는 우선순위 큐를 사용해서 해결 가능하다.\n",
    "\n",
    "heapq에서 힙은 여러 아이템을 유지하되 새로운 원소를 추가하거나, 가장 작은 원소를 제거할 때 로그 복잡도가 드는 데이터 구조이다.\n",
    "\n",
    "heapq 모듈의 좋은 점은 제대로 작동하는 힙을 어떻게 구현하는지 전혀 신경쓸 필요가 없다는 것이다.\n"
   ]
  },
  {
   "cell_type": "code",
   "execution_count": 8,
   "metadata": {},
   "outputs": [
    {
     "ename": "TypeError",
     "evalue": "'<' not supported between instances of 'Book' and 'Book'",
     "output_type": "error",
     "traceback": [
      "\u001b[0;31m---------------------------------------------------------------------------\u001b[0m",
      "\u001b[0;31mTypeError\u001b[0m                                 Traceback (most recent call last)",
      "\u001b[1;32m/workspace/effective_python_2nd/08_Robustness_Performance/73_use_heapq_as_priority_queue.ipynb 셀 12\u001b[0m line \u001b[0;36m9\n\u001b[1;32m      <a href='vscode-notebook-cell://ssh-remote%2Bmain/workspace/effective_python_2nd/08_Robustness_Performance/73_use_heapq_as_priority_queue.ipynb#X21sdnNjb2RlLXJlbW90ZQ%3D%3D?line=6'>7</a>\u001b[0m queue \u001b[39m=\u001b[39m []\n\u001b[1;32m      <a href='vscode-notebook-cell://ssh-remote%2Bmain/workspace/effective_python_2nd/08_Robustness_Performance/73_use_heapq_as_priority_queue.ipynb#X21sdnNjb2RlLXJlbW90ZQ%3D%3D?line=7'>8</a>\u001b[0m add_book(queue, Book(\u001b[39m'\u001b[39m\u001b[39m작은 아씨들\u001b[39m\u001b[39m'\u001b[39m, \u001b[39m'\u001b[39m\u001b[39m2020-06-05\u001b[39m\u001b[39m'\u001b[39m))\n\u001b[0;32m----> <a href='vscode-notebook-cell://ssh-remote%2Bmain/workspace/effective_python_2nd/08_Robustness_Performance/73_use_heapq_as_priority_queue.ipynb#X21sdnNjb2RlLXJlbW90ZQ%3D%3D?line=8'>9</a>\u001b[0m add_book(queue, Book(\u001b[39m'\u001b[39;49m\u001b[39m타임 머신\u001b[39;49m\u001b[39m'\u001b[39;49m, \u001b[39m'\u001b[39;49m\u001b[39m2020-05-30\u001b[39;49m\u001b[39m'\u001b[39;49m)) \u001b[39m#  이경우에 에러가 뜬다 why? Book은 Class 객체이므로 무엇을 기준으로 정렬해야할지 모름..\u001b[39;00m\n\u001b[1;32m     <a href='vscode-notebook-cell://ssh-remote%2Bmain/workspace/effective_python_2nd/08_Robustness_Performance/73_use_heapq_as_priority_queue.ipynb#X21sdnNjb2RlLXJlbW90ZQ%3D%3D?line=10'>11</a>\u001b[0m \u001b[39m# 이런 경우 어떻게 해야하는가?\u001b[39;00m\n\u001b[1;32m     <a href='vscode-notebook-cell://ssh-remote%2Bmain/workspace/effective_python_2nd/08_Robustness_Performance/73_use_heapq_as_priority_queue.ipynb#X21sdnNjb2RlLXJlbW90ZQ%3D%3D?line=11'>12</a>\u001b[0m \u001b[39m# 복잡한 기준을 사용할떄는 key 파라미터를 사용해라\u001b[39;00m\n\u001b[1;32m     <a href='vscode-notebook-cell://ssh-remote%2Bmain/workspace/effective_python_2nd/08_Robustness_Performance/73_use_heapq_as_priority_queue.ipynb#X21sdnNjb2RlLXJlbW90ZQ%3D%3D?line=12'>13</a>\u001b[0m \n\u001b[1;32m     <a href='vscode-notebook-cell://ssh-remote%2Bmain/workspace/effective_python_2nd/08_Robustness_Performance/73_use_heapq_as_priority_queue.ipynb#X21sdnNjb2RlLXJlbW90ZQ%3D%3D?line=13'>14</a>\u001b[0m \u001b[39m# total_ordering 클래스 데코레이터를 사용하고  __lt__ 특별 메서드를 구현하면ㄷ 된다\u001b[39;00m\n",
      "\u001b[1;32m/workspace/effective_python_2nd/08_Robustness_Performance/73_use_heapq_as_priority_queue.ipynb 셀 12\u001b[0m line \u001b[0;36m4\n\u001b[1;32m      <a href='vscode-notebook-cell://ssh-remote%2Bmain/workspace/effective_python_2nd/08_Robustness_Performance/73_use_heapq_as_priority_queue.ipynb#X21sdnNjb2RlLXJlbW90ZQ%3D%3D?line=2'>3</a>\u001b[0m \u001b[39mdef\u001b[39;00m \u001b[39madd_book\u001b[39m(queue, book):\n\u001b[0;32m----> <a href='vscode-notebook-cell://ssh-remote%2Bmain/workspace/effective_python_2nd/08_Robustness_Performance/73_use_heapq_as_priority_queue.ipynb#X21sdnNjb2RlLXJlbW90ZQ%3D%3D?line=3'>4</a>\u001b[0m     heappush(queue, book)\n",
      "\u001b[0;31mTypeError\u001b[0m: '<' not supported between instances of 'Book' and 'Book'"
     ]
    }
   ],
   "source": [
    "from heapq import heappush\n",
    "\n",
    "def add_book(queue, book):\n",
    "    heappush(queue, book)\n",
    "    \n",
    "\n",
    "queue = []\n",
    "add_book(queue, Book('작은 아씨들', '2020-06-05'))\n",
    "add_book(queue, Book('타임 머신', '2020-05-30')) #  이경우에 에러가 뜬다 why? Book은 Class 객체이므로 무엇을 기준으로 정렬해야할지 모름..\n",
    "\n",
    "# 이런 경우 어떻게 해야하는가?\n",
    "# 복잡한 기준을 사용할떄는 key 파라미터를 사용해라\n",
    "\n",
    "# total_ordering 클래스 데코레이터를 사용하고  __lt__ 특별 메서드를 구현하면ㄷ 된다다"
   ]
  },
  {
   "cell_type": "code",
   "execution_count": 9,
   "metadata": {},
   "outputs": [],
   "source": [
    "import functools\n",
    "\n",
    "@functools.total_ordering\n",
    "class Book:\n",
    "    def __init__(self, title, due_date):\n",
    "        self.title = title\n",
    "        self.due_date = due_date\n",
    "        \n",
    "    def __lt__(self, other):\n",
    "        return self.due_date < other.due_date\n",
    "    \n",
    "queue = []\n",
    "add_book(queue, Book('오만과 편견', '2020-06-01'))\n",
    "add_book(queue, Book('타임 머신', '2020-05-30'))\n",
    "add_book(queue, Book('죄와 벌', '2020-06-06'))\n",
    "add_book(queue, Book('폭풍의 언덕', '2020-06-12'))\n"
   ]
  },
  {
   "cell_type": "code",
   "execution_count": 10,
   "metadata": {},
   "outputs": [],
   "source": [
    "# 혹은 모든 책이 들어있는 리스트를 만들고 sort 메서드를 사용해 힙을 만들 수도 있다\n",
    "\n",
    "queue = [\n",
    "    Book('오만과 편견', '2020-06-01'),\n",
    "    Book('타임 머신', '2020-05-30'),\n",
    "    Book('죄와 벌', '2020-06-06'),\n",
    "    Book('폭풍의 언덕', '2020-06-12'),\n",
    "]\n",
    "queue.sort()"
   ]
  },
  {
   "cell_type": "code",
   "execution_count": 11,
   "metadata": {},
   "outputs": [],
   "source": [
    "#  혹은 heap.heapify 함수를 사용하면 선형 시간에 힙을 만들 수 있다.\n",
    "from heapq import heapify\n",
    "\n",
    "queue = [\n",
    "    Book('오만과 편견', '2020-06-01'),\n",
    "    Book('타임 머신', '2020-05-30'),\n",
    "    Book('죄와 벌', '2020-06-06'),\n",
    "    Book('폭풍의 언덕', '2020-06-12'),\n",
    "]\n",
    "heapify(queue)"
   ]
  },
  {
   "cell_type": "code",
   "execution_count": 12,
   "metadata": {},
   "outputs": [
    {
     "name": "stdout",
     "output_type": "stream",
     "text": [
      "타임 머신\n",
      "오만과 편견\n"
     ]
    }
   ],
   "source": [
    "from heapq import heappop\n",
    "\n",
    "def next_overdue_book(queue, now):\n",
    "    if queue:\n",
    "        book = queue[0]\n",
    "        if book.due_date < now: # 만기가 가장 이른 책이 맨 앞에 있다\n",
    "            heappop(queue) # 연체된 책을 제거\n",
    "            return book\n",
    "    raise NoOverdueBooks\n",
    "            \n",
    "            \n",
    "now = '2020-06-02'\n",
    "\n",
    "book = next_overdue_book(queue, now)\n",
    "print(book.title)\n",
    "\n",
    "book = next_overdue_book(queue, now)\n",
    "print(book.title)\n",
    "\n",
    "try:\n",
    "    next_overdue_book(queue, now)\n",
    "except NoOverdueBooks:\n",
    "    pass              # 이 문장이 실행되리라 예상함\n",
    "else:\n",
    "    assert False      # 이 문장은 결코 실행되지 않음"
   ]
  },
  {
   "cell_type": "code",
   "execution_count": 13,
   "metadata": {},
   "outputs": [
    {
     "name": "stdout",
     "output_type": "stream",
     "text": [
      "\n",
      "원소 수:   500 걸린시간: 0.000560초\n",
      "\n",
      "원소 수: 1,000 걸린시간: 0.001127초\n",
      "데이터 크기  2.0배, 걸린 시간  2.0배\n",
      "\n",
      "원소 수: 1,500 걸린시간: 0.001739초\n",
      "데이터 크기  3.0배, 걸린 시간  3.1배\n",
      "\n",
      "원소 수: 2,000 걸린시간: 0.002372초\n",
      "데이터 크기  4.0배, 걸린 시간  4.2배\n"
     ]
    }
   ],
   "source": [
    "# heapq 모듈의 벤치마크 성능\n",
    "\n",
    "def heap_overdue_benchmark(count):\n",
    "    def prepare():\n",
    "        to_add = list(range(count))\n",
    "        random.shuffle(to_add)\n",
    "        return [], to_add\n",
    "\n",
    "    def run(queue, to_add):\n",
    "        for i in to_add:\n",
    "            heappush(queue, i)\n",
    "        while queue:\n",
    "            heappop(queue)\n",
    "\n",
    "    tests = timeit.repeat(\n",
    "        setup='queue, to_add = prepare()',\n",
    "        stmt=f'run(queue, to_add)',\n",
    "        globals=locals(),\n",
    "        repeat=100,\n",
    "        number=1)\n",
    "\n",
    "    return print_results(count, tests)\n",
    "\n",
    "baseline = heap_overdue_benchmark(500)\n",
    "for count in (1_000, 1_500, 2_000):\n",
    "    comparison = heap_overdue_benchmark(count)\n",
    "    print_delta(baseline, comparison)\n",
    "    \n",
    "# 결과 선형으로 증가한다, 원소수에 비례하여"
   ]
  },
  {
   "cell_type": "code",
   "execution_count": null,
   "metadata": {},
   "outputs": [],
   "source": [
    "# heapq 구현에 있어서 제시간에 반납된 책은 어떻게 처리해야할까?\n",
    "\n",
    "# 해결 방법은 만기일 까지 우선순위 큐에서 책을 절대 제거 하지 않는 것이다.\n",
    "# 만기일이 되면 정상 반납된 책이 우선순위 큐의 맨 앞에 있으므로 큐에서 연체된 책을 처리할 때 이미 반환된 책은 그냥 무시하면 된다.\n",
    "\n",
    "@functools.total_ordering\n",
    "class Book:\n",
    "    def __init__(self, title, due_date):\n",
    "        self.title = title\n",
    "        self.due_date = due_date\n",
    "        self.returned = False       # 새로운 필드\n",
    "\n",
    "    def __lt__(self, other):\n",
    "        return self.due_date < other.due_date\n",
    "\n",
    "def next_overdue_book(queue, now):\n",
    "    while queue:\n",
    "        book = queue[0]\n",
    "        if book.returned: # 이미 반환되었다면\n",
    "            heappop(queue) # 큐에서 제거하고\n",
    "            continue # 다시 우선순위큐 제거 과정 시작\n",
    "\n",
    "        if book.due_date < now:\n",
    "            heappop(queue)\n",
    "            return book \n",
    "\n",
    "        break # 반납도 안되고, 연체된 책이 없는경우 종료\n",
    "\n",
    "    raise NoOverdueBooks\n",
    "    \n",
    "def return_book(queue, book):\n",
    "    book.returned = True\n",
    "    \n"
   ]
  },
  {
   "cell_type": "markdown",
   "metadata": {},
   "source": [
    "이 해법의 다넞ㅁ은 모든 책이 대출된 후 만기 이전에 반환된 경우\n",
    "\n",
    "가장 빠른 만기일이 될 때까지는 힙의 크기가 최대 크기에서 줄어들지 않는다는 것이다.\n",
    "\n",
    "heapq는 연산은 빨라지지만, 저장소 부가비용으로 메모리 사용량이 크게 늘어날 수 있다.\n",
    "\n",
    "이런 단점에도 불구하고 튼튼한 시스템을 구축하려고 한다면 (최악의 경우 가정하고 계획을 세워야함)\n",
    "\n",
    "1. 자연재해로 인해 도서관으로 가는 길이 막힌다던지\n",
    "2. 대출된 모든 책이 연체될 수도 있다던지\n",
    "...\n",
    "\n",
    "이런 메모리 비용은 대출을 할 때 제약을 추가하여 해결 할 수도 있다."
   ]
  }
 ],
 "metadata": {
  "kernelspec": {
   "display_name": "as",
   "language": "python",
   "name": "python3"
  },
  "language_info": {
   "codemirror_mode": {
    "name": "ipython",
    "version": 3
   },
   "file_extension": ".py",
   "mimetype": "text/x-python",
   "name": "python",
   "nbconvert_exporter": "python",
   "pygments_lexer": "ipython3",
   "version": "3.10.13"
  }
 },
 "nbformat": 4,
 "nbformat_minor": 2
}
