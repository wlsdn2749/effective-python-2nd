{
 "cells": [
  {
   "cell_type": "code",
   "execution_count": null,
   "metadata": {},
   "outputs": [],
   "source": [
    "class Email:\n",
    "    def __init__(self, sender, receiver, message):\n",
    "        self.sender = sender\n",
    "        self.receiver = receiver\n",
    "        self.message = message\n",
    "    \n",
    "class NoEmailError(Exception):\n",
    "    pass\n",
    "\n",
    "def try_receive_email():\n",
    "    # Email 인ㅅ턴스를 하나 반환하거나, NoEmailError를 발생시킨다.\n",
    "    ...\n",
    "    \n",
    "def produce_emails(queue):\n",
    "    while True:\n",
    "        try:\n",
    "            email = try_receive_email()\n",
    "        except NoEmailError:\n",
    "            return\n",
    "        else:\n",
    "            queue.append(email)\n",
    "            \n",
    "def consume_one_email(queue):\n",
    "    if not queue:\n",
    "        return\n",
    "    \n",
    "    email = queue.pop(0) # 소비자\n",
    "    \n",
    "    # 장기보관을 위해 메시지 인덱싱\n",
    "    ...\n",
    "    \n",
    "\n",
    "def loop(queue, keep_running):\n",
    "    while keep_running():\n",
    "        produce_emails(queue)\n",
    "        consume_one_email(queue)\n",
    "        \n",
    "def my_end_func():\n",
    "    ...\n",
    "    \n",
    "loop([], my_end_func)"
   ]
  },
  {
   "cell_type": "markdown",
   "metadata": {},
   "source": [
    "`produce_emails` 안에서 `try_receive_email`로 부터 전자우편을 받는데\n",
    "\n",
    "Email을 `produce_emails` 안에서 처리하지 않는이유\n",
    "\n",
    "종단 지연시간을 희생함으로써 안정적인 성능 프로파일과, 일관성있는 스루풋을 달성 가능하다."
   ]
  },
  {
   "cell_type": "markdown",
   "metadata": {},
   "source": [
    "이와 같은 생산자-소비자 큐로 리스트를 사용해도 어느정도 코드가 잘 동작한다.\n",
    "\n",
    "하지만 크기가 늘어나면 리스트 타입의 성능은 선형보다 더 나빠진다.\n",
    "\n",
    "다음은 List를 FIFO 큐로 사용할때 성능이 어떤지 timeit 내장 모듈을 통해 벤치마크를 수행한 결과이다."
   ]
  },
  {
   "cell_type": "code",
   "execution_count": 5,
   "metadata": {},
   "outputs": [],
   "source": [
    "import timeit\n",
    "\n",
    "def print_results(count, tests):\n",
    "    avg_iteration = sum(tests) / len(tests)\n",
    "    print(f'\\n 원소 수: {count:>5}, 걸린 시간: {avg_iteration:.6f}초')\n",
    "    return count, avg_iteration\n",
    "\n",
    "def list_append_benchmark(count):\n",
    "    def run(queue):\n",
    "        for i in range(count):\n",
    "            queue.append(i)\n",
    "            \n",
    "            \n",
    "    tests = timeit.repeat(\n",
    "        setup='queue = []',\n",
    "        stmt = 'run(queue)',\n",
    "        globals = locals(),\n",
    "        repeat = 1000,\n",
    "        number = 1\n",
    "    )\n",
    "    \n",
    "    return print_results(count, tests)\n",
    "\n",
    "\n",
    "def print_delta(before, after):\n",
    "    before_count, before_time = before\n",
    "    after_count, after_time = after\n",
    "    growth = 1 + (after_count - before_count) / before_count\n",
    "    slowdown = 1 + (after_time - before_time) / before_time\n",
    "    print(f'데이터 크기 {growth:>4.1f}배, 걸린 시간 {slowdown:>4.1f}배')"
   ]
  },
  {
   "cell_type": "code",
   "execution_count": 6,
   "metadata": {},
   "outputs": [
    {
     "name": "stdout",
     "output_type": "stream",
     "text": [
      "\n",
      " 원소 수:   500, 걸린 시간: 0.000126초\n",
      "\n",
      " 원소 수:  1000, 걸린 시간: 0.000226초\n",
      "데이터 크기  2.0배, 걸린 시간  1.8배\n",
      "\n",
      " 원소 수:  2000, 걸린 시간: 0.000450초\n",
      "데이터 크기  4.0배, 걸린 시간  3.6배\n",
      "\n",
      " 원소 수:  3000, 걸린 시간: 0.000673초\n",
      "데이터 크기  6.0배, 걸린 시간  5.3배\n",
      "\n",
      " 원소 수:  4000, 걸린 시간: 0.000891초\n",
      "데이터 크기  8.0배, 걸린 시간  7.0배\n",
      "\n",
      " 원소 수:  5000, 걸린 시간: 0.001114초\n",
      "데이터 크기 10.0배, 걸린 시간  8.8배\n"
     ]
    }
   ],
   "source": [
    "baseline = list_append_benchmark(500)\n",
    "for count in (1000, 2000, 3000, 4000, 5000):\n",
    "    comparison = list_append_benchmark(count)\n",
    "    print_delta(baseline, comparison)"
   ]
  },
  {
   "cell_type": "markdown",
   "metadata": {},
   "source": [
    "이 결과는 리스트 타입에 있는 append 메서드가 거의 상수 시간이 걸린다는 것을 보여준다.\n",
    "\n",
    "데이터 크기가 커짐에 따라 큐에 데이터를 넣는데 걸리는 시간이 선형적으로 늘어난다.\n",
    "\n",
    "다음 코드는 큐의 맨 앞에서 원소를 제거하는 pop(0) 호출 (소비자 함수의 리스트 사용법과 같다)를 벤치마크한다\n"
   ]
  },
  {
   "cell_type": "code",
   "execution_count": 7,
   "metadata": {},
   "outputs": [],
   "source": [
    "def list_pop_benchmark(count):\n",
    "    def prepare():\n",
    "        return list(range(count))\n",
    "    \n",
    "    def run(queue):\n",
    "        while queue:\n",
    "            queue.pop(0)\n",
    "            \n",
    "    tests = timeit.repeat(\n",
    "        setup = 'queue = prepare()',\n",
    "        stmt = 'run(queue)',\n",
    "        globals = locals(),\n",
    "        repeat=1000,\n",
    "        number=1\n",
    "    )\n",
    "    \n",
    "    return print_results(count, tests)"
   ]
  },
  {
   "cell_type": "code",
   "execution_count": 9,
   "metadata": {},
   "outputs": [
    {
     "name": "stdout",
     "output_type": "stream",
     "text": [
      "\n",
      " 원소 수:   500, 걸린 시간: 0.000167초\n",
      "\n",
      " 원소 수:  1000, 걸린 시간: 0.000335초\n",
      "데이터 크기  2.0배, 걸린 시간  2.0배\n",
      "\n",
      " 원소 수:  2000, 걸린 시간: 0.000740초\n",
      "데이터 크기  4.0배, 걸린 시간  4.4배\n",
      "\n",
      " 원소 수:  3000, 걸린 시간: 0.001224초\n",
      "데이터 크기  6.0배, 걸린 시간  7.3배\n",
      "\n",
      " 원소 수:  4000, 걸린 시간: 0.001900초\n",
      "데이터 크기  8.0배, 걸린 시간 11.4배\n",
      "\n",
      " 원소 수:  5000, 걸린 시간: 0.003002초\n",
      "데이터 크기 10.0배, 걸린 시간 17.9배\n",
      "\n",
      " 원소 수:  6000, 걸린 시간: 0.004329초\n",
      "데이터 크기 12.0배, 걸린 시간 25.9배\n"
     ]
    }
   ],
   "source": [
    "baseline = list_pop_benchmark(500)\n",
    "\n",
    "for count in (1000, 2000, 3000, 4000, 5000,6000):\n",
    "    comparison = list_pop_benchmark(count)\n",
    "    print_delta(baseline, comparison)\n",
    "    \n",
    "    "
   ]
  },
  {
   "cell_type": "markdown",
   "metadata": {},
   "source": [
    "큐 길이가 늘어남에 따라 큐 길이의 제곱에 비례해 늘어난다\n",
    "\n",
    "pop(0)을 하면 리스트의 남은 모든 원소를 제 위치로 옮겨야 해서 \n",
    "\n",
    "결과적으로 전체 리스트 내용을 다시 재대입 하기 때문이다. \n",
    "\n",
    "리스트의 모든 원소에 대해 pop(0)을 호출하므로 len(queue) * len(queue)의 연산을 수행해야 모든 대기열 원소를 소비 할 수 있다."
   ]
  },
  {
   "cell_type": "markdown",
   "metadata": {},
   "source": [
    "파이썬 collections 내장 모듈에는 deque 클래스가 들어있다\n",
    "\n",
    "deque는 양방향 큐 구현이며, 데크 라고 읽는다. \n",
    "\n",
    "데크의 시작과 끝 지점에 원소를 넣거나 빼는데는 상수 시간이 걸린다. 따라서 데크는 FIFO queue를 구현할 떄 이상적이다."
   ]
  },
  {
   "cell_type": "markdown",
   "metadata": {},
   "source": [
    "deque를 사용하더라도 produce_emails 함수에 있는 append는 리스트를 사용할 때와 같은 형태로 그대로 둬도 된다.\n",
    "\n",
    "하지만 consume_one_email에 있는 list.pop 메서드는 deque.popleft 메서드를 아무 인자도 없이 호출하게 바꿔야한다\n",
    "\n",
    "loop 메서드 호출할때 list instance 대신 deque 인스턴스를 전달해야한다"
   ]
  }
 ],
 "metadata": {
  "kernelspec": {
   "display_name": "as",
   "language": "python",
   "name": "python3"
  },
  "language_info": {
   "codemirror_mode": {
    "name": "ipython",
    "version": 3
   },
   "file_extension": ".py",
   "mimetype": "text/x-python",
   "name": "python",
   "nbconvert_exporter": "python",
   "pygments_lexer": "ipython3",
   "version": "3.10.13"
  }
 },
 "nbformat": 4,
 "nbformat_minor": 2
}
