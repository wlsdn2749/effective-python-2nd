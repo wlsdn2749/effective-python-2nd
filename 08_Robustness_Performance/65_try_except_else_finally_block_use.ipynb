{
 "cells": [
  {
   "cell_type": "code",
   "execution_count": 1,
   "metadata": {},
   "outputs": [],
   "source": [
    "# 예외가 발생하더라도 정리 코드를 실행해야하는 경우\n",
    "\n",
    "def try_finally_example(filename):\n",
    "    print('* 파일 열기')\n",
    "    handle = open(filename, encoding='utf-8') # OSError가 발생할 수 있음\n",
    "    try:\n",
    "        print('* 데이터 읽기')\n",
    "        return handle.read() # UnicodeDecodeError가 발생 할 수 있음\n",
    "    \n",
    "    finally:\n",
    "        print('* close() 호출')\n",
    "        handle.close() # try 블록이 실행된 다음에는 항상 이 블록이 실행됨"
   ]
  },
  {
   "cell_type": "code",
   "execution_count": 2,
   "metadata": {},
   "outputs": [
    {
     "name": "stdout",
     "output_type": "stream",
     "text": [
      "* 파일 열기\n",
      "* 데이터 읽기\n",
      "* close() 호출\n"
     ]
    },
    {
     "ename": "UnicodeDecodeError",
     "evalue": "'utf-8' codec can't decode byte 0xf1 in position 0: invalid continuation byte",
     "output_type": "error",
     "traceback": [
      "\u001b[0;31m---------------------------------------------------------------------------\u001b[0m",
      "\u001b[0;31mUnicodeDecodeError\u001b[0m                        Traceback (most recent call last)",
      "\u001b[1;32m/workspace/effective_python_2nd/08_Robustness_Performance/65_try_except_else_finally_block_use.ipynb 셀 2\u001b[0m line \u001b[0;36m6\n\u001b[1;32m      <a href='vscode-notebook-cell://ssh-remote%2Bmain/workspace/effective_python_2nd/08_Robustness_Performance/65_try_except_else_finally_block_use.ipynb#W1sdnNjb2RlLXJlbW90ZQ%3D%3D?line=2'>3</a>\u001b[0m \u001b[39mwith\u001b[39;00m \u001b[39mopen\u001b[39m(file_name, \u001b[39m'\u001b[39m\u001b[39mwb\u001b[39m\u001b[39m'\u001b[39m) \u001b[39mas\u001b[39;00m f:\n\u001b[1;32m      <a href='vscode-notebook-cell://ssh-remote%2Bmain/workspace/effective_python_2nd/08_Robustness_Performance/65_try_except_else_finally_block_use.ipynb#W1sdnNjb2RlLXJlbW90ZQ%3D%3D?line=3'>4</a>\u001b[0m     f\u001b[39m.\u001b[39mwrite(\u001b[39mb\u001b[39m\u001b[39m'\u001b[39m\u001b[39m\\xf1\u001b[39;00m\u001b[39m\\xf2\u001b[39;00m\u001b[39m\\xf3\u001b[39;00m\u001b[39m\\xf4\u001b[39;00m\u001b[39m\\xf5\u001b[39;00m\u001b[39m'\u001b[39m) \u001b[39m# 잘못된 utf-8 이진 문자열\u001b[39;00m\n\u001b[0;32m----> <a href='vscode-notebook-cell://ssh-remote%2Bmain/workspace/effective_python_2nd/08_Robustness_Performance/65_try_except_else_finally_block_use.ipynb#W1sdnNjb2RlLXJlbW90ZQ%3D%3D?line=5'>6</a>\u001b[0m data \u001b[39m=\u001b[39m try_finally_example(file_name)\n",
      "\u001b[1;32m/workspace/effective_python_2nd/08_Robustness_Performance/65_try_except_else_finally_block_use.ipynb 셀 2\u001b[0m line \u001b[0;36m8\n\u001b[1;32m      <a href='vscode-notebook-cell://ssh-remote%2Bmain/workspace/effective_python_2nd/08_Robustness_Performance/65_try_except_else_finally_block_use.ipynb#W1sdnNjb2RlLXJlbW90ZQ%3D%3D?line=5'>6</a>\u001b[0m \u001b[39mtry\u001b[39;00m:\n\u001b[1;32m      <a href='vscode-notebook-cell://ssh-remote%2Bmain/workspace/effective_python_2nd/08_Robustness_Performance/65_try_except_else_finally_block_use.ipynb#W1sdnNjb2RlLXJlbW90ZQ%3D%3D?line=6'>7</a>\u001b[0m     \u001b[39mprint\u001b[39m(\u001b[39m'\u001b[39m\u001b[39m* 데이터 읽기\u001b[39m\u001b[39m'\u001b[39m)\n\u001b[0;32m----> <a href='vscode-notebook-cell://ssh-remote%2Bmain/workspace/effective_python_2nd/08_Robustness_Performance/65_try_except_else_finally_block_use.ipynb#W1sdnNjb2RlLXJlbW90ZQ%3D%3D?line=7'>8</a>\u001b[0m     \u001b[39mreturn\u001b[39;00m handle\u001b[39m.\u001b[39;49mread() \u001b[39m# UnicodeDecodeError가 발생 할 수 있음\u001b[39;00m\n\u001b[1;32m     <a href='vscode-notebook-cell://ssh-remote%2Bmain/workspace/effective_python_2nd/08_Robustness_Performance/65_try_except_else_finally_block_use.ipynb#W1sdnNjb2RlLXJlbW90ZQ%3D%3D?line=9'>10</a>\u001b[0m \u001b[39mfinally\u001b[39;00m:\n\u001b[1;32m     <a href='vscode-notebook-cell://ssh-remote%2Bmain/workspace/effective_python_2nd/08_Robustness_Performance/65_try_except_else_finally_block_use.ipynb#W1sdnNjb2RlLXJlbW90ZQ%3D%3D?line=10'>11</a>\u001b[0m     \u001b[39mprint\u001b[39m(\u001b[39m'\u001b[39m\u001b[39m* close() 호출\u001b[39m\u001b[39m'\u001b[39m)\n",
      "File \u001b[0;32m~/anaconda3/envs/as/lib/python3.10/codecs.py:322\u001b[0m, in \u001b[0;36mBufferedIncrementalDecoder.decode\u001b[0;34m(self, input, final)\u001b[0m\n\u001b[1;32m    319\u001b[0m \u001b[39mdef\u001b[39;00m \u001b[39mdecode\u001b[39m(\u001b[39mself\u001b[39m, \u001b[39minput\u001b[39m, final\u001b[39m=\u001b[39m\u001b[39mFalse\u001b[39;00m):\n\u001b[1;32m    320\u001b[0m     \u001b[39m# decode input (taking the buffer into account)\u001b[39;00m\n\u001b[1;32m    321\u001b[0m     data \u001b[39m=\u001b[39m \u001b[39mself\u001b[39m\u001b[39m.\u001b[39mbuffer \u001b[39m+\u001b[39m \u001b[39minput\u001b[39m\n\u001b[0;32m--> 322\u001b[0m     (result, consumed) \u001b[39m=\u001b[39m \u001b[39mself\u001b[39;49m\u001b[39m.\u001b[39;49m_buffer_decode(data, \u001b[39mself\u001b[39;49m\u001b[39m.\u001b[39;49merrors, final)\n\u001b[1;32m    323\u001b[0m     \u001b[39m# keep undecoded input until the next call\u001b[39;00m\n\u001b[1;32m    324\u001b[0m     \u001b[39mself\u001b[39m\u001b[39m.\u001b[39mbuffer \u001b[39m=\u001b[39m data[consumed:]\n",
      "\u001b[0;31mUnicodeDecodeError\u001b[0m: 'utf-8' codec can't decode byte 0xf1 in position 0: invalid continuation byte"
     ]
    }
   ],
   "source": [
    "file_name = 'random_data.txt'\n",
    "\n",
    "with open(file_name, 'wb') as f:\n",
    "    f.write(b'\\xf1\\xf2\\xf3\\xf4\\xf5') # 잘못된 utf-8 이진 문자열\n",
    "    \n",
    "data = try_finally_example(file_name)\n"
   ]
  },
  {
   "cell_type": "code",
   "execution_count": 3,
   "metadata": {},
   "outputs": [
    {
     "name": "stdout",
     "output_type": "stream",
     "text": [
      "* 파일 열기\n"
     ]
    },
    {
     "ename": "FileNotFoundError",
     "evalue": "[Errno 2] No such file or directory: 'does_not_exist.txt'",
     "output_type": "error",
     "traceback": [
      "\u001b[0;31m---------------------------------------------------------------------------\u001b[0m",
      "\u001b[0;31mFileNotFoundError\u001b[0m                         Traceback (most recent call last)",
      "\u001b[1;32m/workspace/effective_python_2nd/08_Robustness_Performance/65_try_except_else_finally_block_use.ipynb 셀 3\u001b[0m line \u001b[0;36m1\n\u001b[0;32m----> <a href='vscode-notebook-cell://ssh-remote%2Bmain/workspace/effective_python_2nd/08_Robustness_Performance/65_try_except_else_finally_block_use.ipynb#W2sdnNjb2RlLXJlbW90ZQ%3D%3D?line=0'>1</a>\u001b[0m try_finally_example(\u001b[39m'\u001b[39;49m\u001b[39mdoes_not_exist.txt\u001b[39;49m\u001b[39m'\u001b[39;49m)\n",
      "\u001b[1;32m/workspace/effective_python_2nd/08_Robustness_Performance/65_try_except_else_finally_block_use.ipynb 셀 3\u001b[0m line \u001b[0;36m5\n\u001b[1;32m      <a href='vscode-notebook-cell://ssh-remote%2Bmain/workspace/effective_python_2nd/08_Robustness_Performance/65_try_except_else_finally_block_use.ipynb#W2sdnNjb2RlLXJlbW90ZQ%3D%3D?line=2'>3</a>\u001b[0m \u001b[39mdef\u001b[39;00m \u001b[39mtry_finally_example\u001b[39m(filename):\n\u001b[1;32m      <a href='vscode-notebook-cell://ssh-remote%2Bmain/workspace/effective_python_2nd/08_Robustness_Performance/65_try_except_else_finally_block_use.ipynb#W2sdnNjb2RlLXJlbW90ZQ%3D%3D?line=3'>4</a>\u001b[0m     \u001b[39mprint\u001b[39m(\u001b[39m'\u001b[39m\u001b[39m* 파일 열기\u001b[39m\u001b[39m'\u001b[39m)\n\u001b[0;32m----> <a href='vscode-notebook-cell://ssh-remote%2Bmain/workspace/effective_python_2nd/08_Robustness_Performance/65_try_except_else_finally_block_use.ipynb#W2sdnNjb2RlLXJlbW90ZQ%3D%3D?line=4'>5</a>\u001b[0m     handle \u001b[39m=\u001b[39m \u001b[39mopen\u001b[39;49m(filename, encoding\u001b[39m=\u001b[39;49m\u001b[39m'\u001b[39;49m\u001b[39mutf-8\u001b[39;49m\u001b[39m'\u001b[39;49m) \u001b[39m# OSError가 발생할 수 있음\u001b[39;00m\n\u001b[1;32m      <a href='vscode-notebook-cell://ssh-remote%2Bmain/workspace/effective_python_2nd/08_Robustness_Performance/65_try_except_else_finally_block_use.ipynb#W2sdnNjb2RlLXJlbW90ZQ%3D%3D?line=5'>6</a>\u001b[0m     \u001b[39mtry\u001b[39;00m:\n\u001b[1;32m      <a href='vscode-notebook-cell://ssh-remote%2Bmain/workspace/effective_python_2nd/08_Robustness_Performance/65_try_except_else_finally_block_use.ipynb#W2sdnNjb2RlLXJlbW90ZQ%3D%3D?line=6'>7</a>\u001b[0m         \u001b[39mprint\u001b[39m(\u001b[39m'\u001b[39m\u001b[39m* 데이터 읽기\u001b[39m\u001b[39m'\u001b[39m)\n",
      "File \u001b[0;32m~/anaconda3/envs/as/lib/python3.10/site-packages/IPython/core/interactiveshell.py:286\u001b[0m, in \u001b[0;36m_modified_open\u001b[0;34m(file, *args, **kwargs)\u001b[0m\n\u001b[1;32m    279\u001b[0m \u001b[39mif\u001b[39;00m file \u001b[39min\u001b[39;00m {\u001b[39m0\u001b[39m, \u001b[39m1\u001b[39m, \u001b[39m2\u001b[39m}:\n\u001b[1;32m    280\u001b[0m     \u001b[39mraise\u001b[39;00m \u001b[39mValueError\u001b[39;00m(\n\u001b[1;32m    281\u001b[0m         \u001b[39mf\u001b[39m\u001b[39m\"\u001b[39m\u001b[39mIPython won\u001b[39m\u001b[39m'\u001b[39m\u001b[39mt let you open fd=\u001b[39m\u001b[39m{\u001b[39;00mfile\u001b[39m}\u001b[39;00m\u001b[39m by default \u001b[39m\u001b[39m\"\u001b[39m\n\u001b[1;32m    282\u001b[0m         \u001b[39m\"\u001b[39m\u001b[39mas it is likely to crash IPython. If you know what you are doing, \u001b[39m\u001b[39m\"\u001b[39m\n\u001b[1;32m    283\u001b[0m         \u001b[39m\"\u001b[39m\u001b[39myou can use builtins\u001b[39m\u001b[39m'\u001b[39m\u001b[39m open.\u001b[39m\u001b[39m\"\u001b[39m\n\u001b[1;32m    284\u001b[0m     )\n\u001b[0;32m--> 286\u001b[0m \u001b[39mreturn\u001b[39;00m io_open(file, \u001b[39m*\u001b[39;49margs, \u001b[39m*\u001b[39;49m\u001b[39m*\u001b[39;49mkwargs)\n",
      "\u001b[0;31mFileNotFoundError\u001b[0m: [Errno 2] No such file or directory: 'does_not_exist.txt'"
     ]
    }
   ],
   "source": [
    "try_finally_example('does_not_exist.txt') # try이전에 호출해서 finally가 동작하지 않도록 구현"
   ]
  },
  {
   "cell_type": "markdown",
   "metadata": {},
   "source": [
    "문자열에서 Json 딕셔너리 데이터를 읽어온 후 어떤 키에 해당하는 값을 반환하고 싶다"
   ]
  },
  {
   "cell_type": "code",
   "execution_count": 6,
   "metadata": {},
   "outputs": [],
   "source": [
    "import json\n",
    "\n",
    "def load_json_key(data, key):\n",
    "    try:\n",
    "        print('* Json 데이터 읽기')\n",
    "        result_dict = json.loads(data) # ValueError가 발생할 수 있음 \n",
    "        \n",
    "    except ValueError as e:\n",
    "        print(\"* ValueError 처리\")\n",
    "        raise KeyError(key) from e\n",
    "    \n",
    "    else:\n",
    "        print(\"* 키 검색\")\n",
    "        return result_dict[key] # KeyError가 발생 할 수 있음 \n"
   ]
  },
  {
   "cell_type": "code",
   "execution_count": 8,
   "metadata": {},
   "outputs": [
    {
     "name": "stdout",
     "output_type": "stream",
     "text": [
      "* Json 데이터 읽기\n",
      "* 키 검색\n"
     ]
    }
   ],
   "source": [
    "assert load_json_key('{\"foo\": \"bar\"}', 'foo') == 'bar' # except가 안되기 때문에 else구문 실행"
   ]
  },
  {
   "cell_type": "code",
   "execution_count": 11,
   "metadata": {},
   "outputs": [
    {
     "name": "stdout",
     "output_type": "stream",
     "text": [
      "* Json 데이터 읽기\n",
      "* ValueError 처리\n"
     ]
    },
    {
     "ename": "KeyError",
     "evalue": "'foo'",
     "output_type": "error",
     "traceback": [
      "\u001b[0;31m---------------------------------------------------------------------------\u001b[0m",
      "\u001b[0;31mJSONDecodeError\u001b[0m                           Traceback (most recent call last)",
      "\u001b[1;32m/workspace/effective_python_2nd/08_Robustness_Performance/65_try_except_else_finally_block_use.ipynb 셀 7\u001b[0m line \u001b[0;36m6\n\u001b[1;32m      <a href='vscode-notebook-cell://ssh-remote%2Bmain/workspace/effective_python_2nd/08_Robustness_Performance/65_try_except_else_finally_block_use.ipynb#X10sdnNjb2RlLXJlbW90ZQ%3D%3D?line=4'>5</a>\u001b[0m     \u001b[39mprint\u001b[39m(\u001b[39m'\u001b[39m\u001b[39m* Json 데이터 읽기\u001b[39m\u001b[39m'\u001b[39m)\n\u001b[0;32m----> <a href='vscode-notebook-cell://ssh-remote%2Bmain/workspace/effective_python_2nd/08_Robustness_Performance/65_try_except_else_finally_block_use.ipynb#X10sdnNjb2RlLXJlbW90ZQ%3D%3D?line=5'>6</a>\u001b[0m     result_dict \u001b[39m=\u001b[39m json\u001b[39m.\u001b[39;49mloads(data) \u001b[39m# ValueError가 발생할 수 있음 \u001b[39;00m\n\u001b[1;32m      <a href='vscode-notebook-cell://ssh-remote%2Bmain/workspace/effective_python_2nd/08_Robustness_Performance/65_try_except_else_finally_block_use.ipynb#X10sdnNjb2RlLXJlbW90ZQ%3D%3D?line=7'>8</a>\u001b[0m \u001b[39mexcept\u001b[39;00m \u001b[39mValueError\u001b[39;00m \u001b[39mas\u001b[39;00m e:\n",
      "File \u001b[0;32m~/anaconda3/envs/as/lib/python3.10/json/__init__.py:346\u001b[0m, in \u001b[0;36mloads\u001b[0;34m(s, cls, object_hook, parse_float, parse_int, parse_constant, object_pairs_hook, **kw)\u001b[0m\n\u001b[1;32m    343\u001b[0m \u001b[39mif\u001b[39;00m (\u001b[39mcls\u001b[39m \u001b[39mis\u001b[39;00m \u001b[39mNone\u001b[39;00m \u001b[39mand\u001b[39;00m object_hook \u001b[39mis\u001b[39;00m \u001b[39mNone\u001b[39;00m \u001b[39mand\u001b[39;00m\n\u001b[1;32m    344\u001b[0m         parse_int \u001b[39mis\u001b[39;00m \u001b[39mNone\u001b[39;00m \u001b[39mand\u001b[39;00m parse_float \u001b[39mis\u001b[39;00m \u001b[39mNone\u001b[39;00m \u001b[39mand\u001b[39;00m\n\u001b[1;32m    345\u001b[0m         parse_constant \u001b[39mis\u001b[39;00m \u001b[39mNone\u001b[39;00m \u001b[39mand\u001b[39;00m object_pairs_hook \u001b[39mis\u001b[39;00m \u001b[39mNone\u001b[39;00m \u001b[39mand\u001b[39;00m \u001b[39mnot\u001b[39;00m kw):\n\u001b[0;32m--> 346\u001b[0m     \u001b[39mreturn\u001b[39;00m _default_decoder\u001b[39m.\u001b[39;49mdecode(s)\n\u001b[1;32m    347\u001b[0m \u001b[39mif\u001b[39;00m \u001b[39mcls\u001b[39m \u001b[39mis\u001b[39;00m \u001b[39mNone\u001b[39;00m:\n",
      "File \u001b[0;32m~/anaconda3/envs/as/lib/python3.10/json/decoder.py:337\u001b[0m, in \u001b[0;36mJSONDecoder.decode\u001b[0;34m(self, s, _w)\u001b[0m\n\u001b[1;32m    333\u001b[0m \u001b[39m\u001b[39m\u001b[39m\"\"\"Return the Python representation of ``s`` (a ``str`` instance\u001b[39;00m\n\u001b[1;32m    334\u001b[0m \u001b[39mcontaining a JSON document).\u001b[39;00m\n\u001b[1;32m    335\u001b[0m \n\u001b[1;32m    336\u001b[0m \u001b[39m\"\"\"\u001b[39;00m\n\u001b[0;32m--> 337\u001b[0m obj, end \u001b[39m=\u001b[39m \u001b[39mself\u001b[39;49m\u001b[39m.\u001b[39;49mraw_decode(s, idx\u001b[39m=\u001b[39;49m_w(s, \u001b[39m0\u001b[39;49m)\u001b[39m.\u001b[39;49mend())\n\u001b[1;32m    338\u001b[0m end \u001b[39m=\u001b[39m _w(s, end)\u001b[39m.\u001b[39mend()\n",
      "File \u001b[0;32m~/anaconda3/envs/as/lib/python3.10/json/decoder.py:355\u001b[0m, in \u001b[0;36mJSONDecoder.raw_decode\u001b[0;34m(self, s, idx)\u001b[0m\n\u001b[1;32m    354\u001b[0m \u001b[39mexcept\u001b[39;00m \u001b[39mStopIteration\u001b[39;00m \u001b[39mas\u001b[39;00m err:\n\u001b[0;32m--> 355\u001b[0m     \u001b[39mraise\u001b[39;00m JSONDecodeError(\u001b[39m\"\u001b[39m\u001b[39mExpecting value\u001b[39m\u001b[39m\"\u001b[39m, s, err\u001b[39m.\u001b[39mvalue) \u001b[39mfrom\u001b[39;00m \u001b[39mNone\u001b[39;00m\n\u001b[1;32m    356\u001b[0m \u001b[39mreturn\u001b[39;00m obj, end\n",
      "\u001b[0;31mJSONDecodeError\u001b[0m: Expecting value: line 1 column 9 (char 8)",
      "\nThe above exception was the direct cause of the following exception:\n",
      "\u001b[0;31mKeyError\u001b[0m                                  Traceback (most recent call last)",
      "\u001b[1;32m/workspace/effective_python_2nd/08_Robustness_Performance/65_try_except_else_finally_block_use.ipynb 셀 7\u001b[0m line \u001b[0;36m1\n\u001b[0;32m----> <a href='vscode-notebook-cell://ssh-remote%2Bmain/workspace/effective_python_2nd/08_Robustness_Performance/65_try_except_else_finally_block_use.ipynb#X10sdnNjb2RlLXJlbW90ZQ%3D%3D?line=0'>1</a>\u001b[0m load_json_key(\u001b[39m'\u001b[39;49m\u001b[39m{\u001b[39;49m\u001b[39m\"\u001b[39;49m\u001b[39mfoo\u001b[39;49m\u001b[39m\"\u001b[39;49m\u001b[39m: bad payload}\u001b[39;49m\u001b[39m'\u001b[39;49m, \u001b[39m'\u001b[39;49m\u001b[39mfoo\u001b[39;49m\u001b[39m'\u001b[39;49m) \u001b[39m# 올바른 Json이 아님 \u001b[39;00m\n",
      "\u001b[1;32m/workspace/effective_python_2nd/08_Robustness_Performance/65_try_except_else_finally_block_use.ipynb 셀 7\u001b[0m line \u001b[0;36m1\n\u001b[1;32m      <a href='vscode-notebook-cell://ssh-remote%2Bmain/workspace/effective_python_2nd/08_Robustness_Performance/65_try_except_else_finally_block_use.ipynb#X10sdnNjb2RlLXJlbW90ZQ%3D%3D?line=7'>8</a>\u001b[0m \u001b[39mexcept\u001b[39;00m \u001b[39mValueError\u001b[39;00m \u001b[39mas\u001b[39;00m e:\n\u001b[1;32m      <a href='vscode-notebook-cell://ssh-remote%2Bmain/workspace/effective_python_2nd/08_Robustness_Performance/65_try_except_else_finally_block_use.ipynb#X10sdnNjb2RlLXJlbW90ZQ%3D%3D?line=8'>9</a>\u001b[0m     \u001b[39mprint\u001b[39m(\u001b[39m\"\u001b[39m\u001b[39m* ValueError 처리\u001b[39m\u001b[39m\"\u001b[39m)\n\u001b[0;32m---> <a href='vscode-notebook-cell://ssh-remote%2Bmain/workspace/effective_python_2nd/08_Robustness_Performance/65_try_except_else_finally_block_use.ipynb#X10sdnNjb2RlLXJlbW90ZQ%3D%3D?line=9'>10</a>\u001b[0m     \u001b[39mraise\u001b[39;00m \u001b[39mKeyError\u001b[39;00m(key) \u001b[39mfrom\u001b[39;00m \u001b[39me\u001b[39;00m\n\u001b[1;32m     <a href='vscode-notebook-cell://ssh-remote%2Bmain/workspace/effective_python_2nd/08_Robustness_Performance/65_try_except_else_finally_block_use.ipynb#X10sdnNjb2RlLXJlbW90ZQ%3D%3D?line=11'>12</a>\u001b[0m \u001b[39melse\u001b[39;00m:\n\u001b[1;32m     <a href='vscode-notebook-cell://ssh-remote%2Bmain/workspace/effective_python_2nd/08_Robustness_Performance/65_try_except_else_finally_block_use.ipynb#X10sdnNjb2RlLXJlbW90ZQ%3D%3D?line=12'>13</a>\u001b[0m     \u001b[39mprint\u001b[39m(\u001b[39m\"\u001b[39m\u001b[39m* 키 검색\u001b[39m\u001b[39m\"\u001b[39m)\n",
      "\u001b[0;31mKeyError\u001b[0m: 'foo'"
     ]
    }
   ],
   "source": [
    "load_json_key('{\"foo\": bad payload}', 'foo') # 올바른 Json이 아님 \n",
    "\n",
    "# json.loads가 디코딩하는 중간에 ValueError를 발생시킨다\n",
    "# except 블럭에 의해 처리된다."
   ]
  },
  {
   "cell_type": "code",
   "execution_count": 12,
   "metadata": {},
   "outputs": [
    {
     "name": "stdout",
     "output_type": "stream",
     "text": [
      "* Json 데이터 읽기\n",
      "* 키 검색\n"
     ]
    },
    {
     "ename": "KeyError",
     "evalue": "'존재하지 않음'",
     "output_type": "error",
     "traceback": [
      "\u001b[0;31m---------------------------------------------------------------------------\u001b[0m",
      "\u001b[0;31mKeyError\u001b[0m                                  Traceback (most recent call last)",
      "\u001b[1;32m/workspace/effective_python_2nd/08_Robustness_Performance/65_try_except_else_finally_block_use.ipynb 셀 8\u001b[0m line \u001b[0;36m1\n\u001b[0;32m----> <a href='vscode-notebook-cell://ssh-remote%2Bmain/workspace/effective_python_2nd/08_Robustness_Performance/65_try_except_else_finally_block_use.ipynb#X12sdnNjb2RlLXJlbW90ZQ%3D%3D?line=0'>1</a>\u001b[0m load_json_key(\u001b[39m'\u001b[39;49m\u001b[39m{\u001b[39;49m\u001b[39m\"\u001b[39;49m\u001b[39mfoo\u001b[39;49m\u001b[39m\"\u001b[39;49m\u001b[39m: \u001b[39;49m\u001b[39m\"\u001b[39;49m\u001b[39mbar\u001b[39;49m\u001b[39m\"\u001b[39;49m\u001b[39m}\u001b[39;49m\u001b[39m'\u001b[39;49m, \u001b[39m'\u001b[39;49m\u001b[39m존재하지 않음\u001b[39;49m\u001b[39m'\u001b[39;49m)\n",
      "\u001b[1;32m/workspace/effective_python_2nd/08_Robustness_Performance/65_try_except_else_finally_block_use.ipynb 셀 8\u001b[0m line \u001b[0;36m1\n\u001b[1;32m     <a href='vscode-notebook-cell://ssh-remote%2Bmain/workspace/effective_python_2nd/08_Robustness_Performance/65_try_except_else_finally_block_use.ipynb#X12sdnNjb2RlLXJlbW90ZQ%3D%3D?line=11'>12</a>\u001b[0m \u001b[39melse\u001b[39;00m:\n\u001b[1;32m     <a href='vscode-notebook-cell://ssh-remote%2Bmain/workspace/effective_python_2nd/08_Robustness_Performance/65_try_except_else_finally_block_use.ipynb#X12sdnNjb2RlLXJlbW90ZQ%3D%3D?line=12'>13</a>\u001b[0m     \u001b[39mprint\u001b[39m(\u001b[39m\"\u001b[39m\u001b[39m* 키 검색\u001b[39m\u001b[39m\"\u001b[39m)\n\u001b[0;32m---> <a href='vscode-notebook-cell://ssh-remote%2Bmain/workspace/effective_python_2nd/08_Robustness_Performance/65_try_except_else_finally_block_use.ipynb#X12sdnNjb2RlLXJlbW90ZQ%3D%3D?line=13'>14</a>\u001b[0m     \u001b[39mreturn\u001b[39;00m result_dict[key]\n",
      "\u001b[0;31mKeyError\u001b[0m: '존재하지 않음'"
     ]
    }
   ],
   "source": [
    "load_json_key('{\"foo\": \"bar\"}', '존재하지 않음')\n",
    "\n",
    "# return result_dict[key]에서 예외가 발생해서 \n",
    "# '존재하지 않음'이라는 key는 없다고 볼 수 있다"
   ]
  },
  {
   "cell_type": "markdown",
   "metadata": {},
   "source": [
    "try except else finally문을 모두 사용하면 복잡적인 문장 모두 처리 가능하다"
   ]
  },
  {
   "cell_type": "code",
   "execution_count": 19,
   "metadata": {},
   "outputs": [],
   "source": [
    "# 정상 실행되는 경우 try - else - finally 블록이 실행된다. \n",
    "\n",
    "UNDEFINED = object()\n",
    "\n",
    "def divide_json(path):\n",
    "    print('* 파일 열기')\n",
    "    handle = open(path, 'r+') # OSError가 발생 할 수 있음\n",
    "    \n",
    "    try:\n",
    "        print(\"* 데이터 읽기\")\n",
    "        data = handle.read()\n",
    "        print(\"* JSON 데이터 읽기\")\n",
    "        op = json.loads(data)\n",
    "        print('* 계산 수행')\n",
    "        value = (\n",
    "            op['numerator'] /\n",
    "            op['denominator']) # op['denominator']가 0이면 ZeroDivisionError\n",
    "        print(value)\n",
    "        \n",
    "    except ZeroDivisionError as e:\n",
    "        print('* ZeroDivisionError 처리')\n",
    "        return UNDEFINED\n",
    "    else:\n",
    "        print('* 계산 결과 쓰기')\n",
    "        op['result'] = value\n",
    "        result = json.dumps(op)\n",
    "        handle.seek(0) # OSError 발생 가능\n",
    "        handle.write(result) # OSError 발생 가능\n",
    "        return value\n",
    "    finally:\n",
    "        print(\"* close() 호출\")\n",
    "        handle.close()"
   ]
  },
  {
   "cell_type": "code",
   "execution_count": 20,
   "metadata": {},
   "outputs": [
    {
     "name": "stdout",
     "output_type": "stream",
     "text": [
      "* 파일 열기\n",
      "* 데이터 읽기\n",
      "* JSON 데이터 읽기\n",
      "* 계산 수행\n",
      "0.1\n",
      "* 계산 결과 쓰기\n",
      "* close() 호출\n"
     ]
    }
   ],
   "source": [
    "temp_path = 'random_data.json'\n",
    "\n",
    "with open(temp_path, 'w') as f:\n",
    "    f.write('{\"numerator\" : 1, \"denominator\": 10}')\n",
    "    \n",
    "assert divide_json(temp_path) == 0.1"
   ]
  },
  {
   "cell_type": "code",
   "execution_count": 21,
   "metadata": {},
   "outputs": [
    {
     "name": "stdout",
     "output_type": "stream",
     "text": [
      "* 파일 열기\n",
      "* 데이터 읽기\n",
      "* JSON 데이터 읽기\n",
      "* 계산 수행\n",
      "* ZeroDivisionError 처리\n",
      "* close() 호출\n"
     ]
    }
   ],
   "source": [
    "with open(temp_path, 'w') as f:\n",
    "    f.write('{\"numerator\": 1, \"denominator\": 0}') # ZeroDivisionError\n",
    "    \n",
    "assert divide_json(temp_path) is UNDEFINED"
   ]
  },
  {
   "cell_type": "code",
   "execution_count": 22,
   "metadata": {},
   "outputs": [
    {
     "name": "stdout",
     "output_type": "stream",
     "text": [
      "* 파일 열기\n",
      "* 데이터 읽기\n",
      "* JSON 데이터 읽기\n",
      "* close() 호출\n"
     ]
    },
    {
     "ename": "JSONDecodeError",
     "evalue": "Expecting ',' delimiter: line 1 column 17 (char 16)",
     "output_type": "error",
     "traceback": [
      "\u001b[0;31m---------------------------------------------------------------------------\u001b[0m",
      "\u001b[0;31mJSONDecodeError\u001b[0m                           Traceback (most recent call last)",
      "\u001b[1;32m/workspace/effective_python_2nd/08_Robustness_Performance/65_try_except_else_finally_block_use.ipynb 셀 13\u001b[0m line \u001b[0;36m4\n\u001b[1;32m      <a href='vscode-notebook-cell://ssh-remote%2Bmain/workspace/effective_python_2nd/08_Robustness_Performance/65_try_except_else_finally_block_use.ipynb#X20sdnNjb2RlLXJlbW90ZQ%3D%3D?line=0'>1</a>\u001b[0m \u001b[39mwith\u001b[39;00m \u001b[39mopen\u001b[39m(temp_path, \u001b[39m'\u001b[39m\u001b[39mw\u001b[39m\u001b[39m'\u001b[39m) \u001b[39mas\u001b[39;00m f:\n\u001b[1;32m      <a href='vscode-notebook-cell://ssh-remote%2Bmain/workspace/effective_python_2nd/08_Robustness_Performance/65_try_except_else_finally_block_use.ipynb#X20sdnNjb2RlLXJlbW90ZQ%3D%3D?line=1'>2</a>\u001b[0m     f\u001b[39m.\u001b[39mwrite(\u001b[39m'\u001b[39m\u001b[39m{\u001b[39m\u001b[39m\"\u001b[39m\u001b[39mnumerator\u001b[39m\u001b[39m\"\u001b[39m\u001b[39m: 1 bad data\u001b[39m\u001b[39m'\u001b[39m) \u001b[39m# json 형식이 아님\u001b[39;00m\n\u001b[0;32m----> <a href='vscode-notebook-cell://ssh-remote%2Bmain/workspace/effective_python_2nd/08_Robustness_Performance/65_try_except_else_finally_block_use.ipynb#X20sdnNjb2RlLXJlbW90ZQ%3D%3D?line=3'>4</a>\u001b[0m divide_json(temp_path)\n",
      "\u001b[1;32m/workspace/effective_python_2nd/08_Robustness_Performance/65_try_except_else_finally_block_use.ipynb 셀 13\u001b[0m line \u001b[0;36m1\n\u001b[1;32m     <a href='vscode-notebook-cell://ssh-remote%2Bmain/workspace/effective_python_2nd/08_Robustness_Performance/65_try_except_else_finally_block_use.ipynb#X20sdnNjb2RlLXJlbW90ZQ%3D%3D?line=10'>11</a>\u001b[0m data \u001b[39m=\u001b[39m handle\u001b[39m.\u001b[39mread()\n\u001b[1;32m     <a href='vscode-notebook-cell://ssh-remote%2Bmain/workspace/effective_python_2nd/08_Robustness_Performance/65_try_except_else_finally_block_use.ipynb#X20sdnNjb2RlLXJlbW90ZQ%3D%3D?line=11'>12</a>\u001b[0m \u001b[39mprint\u001b[39m(\u001b[39m\"\u001b[39m\u001b[39m* JSON 데이터 읽기\u001b[39m\u001b[39m\"\u001b[39m)\n\u001b[0;32m---> <a href='vscode-notebook-cell://ssh-remote%2Bmain/workspace/effective_python_2nd/08_Robustness_Performance/65_try_except_else_finally_block_use.ipynb#X20sdnNjb2RlLXJlbW90ZQ%3D%3D?line=12'>13</a>\u001b[0m op \u001b[39m=\u001b[39m json\u001b[39m.\u001b[39;49mloads(data)\n\u001b[1;32m     <a href='vscode-notebook-cell://ssh-remote%2Bmain/workspace/effective_python_2nd/08_Robustness_Performance/65_try_except_else_finally_block_use.ipynb#X20sdnNjb2RlLXJlbW90ZQ%3D%3D?line=13'>14</a>\u001b[0m \u001b[39mprint\u001b[39m(\u001b[39m'\u001b[39m\u001b[39m* 계산 수행\u001b[39m\u001b[39m'\u001b[39m)\n\u001b[1;32m     <a href='vscode-notebook-cell://ssh-remote%2Bmain/workspace/effective_python_2nd/08_Robustness_Performance/65_try_except_else_finally_block_use.ipynb#X20sdnNjb2RlLXJlbW90ZQ%3D%3D?line=14'>15</a>\u001b[0m value \u001b[39m=\u001b[39m (\n\u001b[1;32m     <a href='vscode-notebook-cell://ssh-remote%2Bmain/workspace/effective_python_2nd/08_Robustness_Performance/65_try_except_else_finally_block_use.ipynb#X20sdnNjb2RlLXJlbW90ZQ%3D%3D?line=15'>16</a>\u001b[0m     op[\u001b[39m'\u001b[39m\u001b[39mnumerator\u001b[39m\u001b[39m'\u001b[39m] \u001b[39m/\u001b[39m\n\u001b[1;32m     <a href='vscode-notebook-cell://ssh-remote%2Bmain/workspace/effective_python_2nd/08_Robustness_Performance/65_try_except_else_finally_block_use.ipynb#X20sdnNjb2RlLXJlbW90ZQ%3D%3D?line=16'>17</a>\u001b[0m     op[\u001b[39m'\u001b[39m\u001b[39mdenominator\u001b[39m\u001b[39m'\u001b[39m]) \u001b[39m# op['denominator']가 0이면 ZeroDivisionError\u001b[39;00m\n",
      "File \u001b[0;32m~/anaconda3/envs/as/lib/python3.10/json/__init__.py:346\u001b[0m, in \u001b[0;36mloads\u001b[0;34m(s, cls, object_hook, parse_float, parse_int, parse_constant, object_pairs_hook, **kw)\u001b[0m\n\u001b[1;32m    341\u001b[0m     s \u001b[39m=\u001b[39m s\u001b[39m.\u001b[39mdecode(detect_encoding(s), \u001b[39m'\u001b[39m\u001b[39msurrogatepass\u001b[39m\u001b[39m'\u001b[39m)\n\u001b[1;32m    343\u001b[0m \u001b[39mif\u001b[39;00m (\u001b[39mcls\u001b[39m \u001b[39mis\u001b[39;00m \u001b[39mNone\u001b[39;00m \u001b[39mand\u001b[39;00m object_hook \u001b[39mis\u001b[39;00m \u001b[39mNone\u001b[39;00m \u001b[39mand\u001b[39;00m\n\u001b[1;32m    344\u001b[0m         parse_int \u001b[39mis\u001b[39;00m \u001b[39mNone\u001b[39;00m \u001b[39mand\u001b[39;00m parse_float \u001b[39mis\u001b[39;00m \u001b[39mNone\u001b[39;00m \u001b[39mand\u001b[39;00m\n\u001b[1;32m    345\u001b[0m         parse_constant \u001b[39mis\u001b[39;00m \u001b[39mNone\u001b[39;00m \u001b[39mand\u001b[39;00m object_pairs_hook \u001b[39mis\u001b[39;00m \u001b[39mNone\u001b[39;00m \u001b[39mand\u001b[39;00m \u001b[39mnot\u001b[39;00m kw):\n\u001b[0;32m--> 346\u001b[0m     \u001b[39mreturn\u001b[39;00m _default_decoder\u001b[39m.\u001b[39;49mdecode(s)\n\u001b[1;32m    347\u001b[0m \u001b[39mif\u001b[39;00m \u001b[39mcls\u001b[39m \u001b[39mis\u001b[39;00m \u001b[39mNone\u001b[39;00m:\n\u001b[1;32m    348\u001b[0m     \u001b[39mcls\u001b[39m \u001b[39m=\u001b[39m JSONDecoder\n",
      "File \u001b[0;32m~/anaconda3/envs/as/lib/python3.10/json/decoder.py:337\u001b[0m, in \u001b[0;36mJSONDecoder.decode\u001b[0;34m(self, s, _w)\u001b[0m\n\u001b[1;32m    332\u001b[0m \u001b[39mdef\u001b[39;00m \u001b[39mdecode\u001b[39m(\u001b[39mself\u001b[39m, s, _w\u001b[39m=\u001b[39mWHITESPACE\u001b[39m.\u001b[39mmatch):\n\u001b[1;32m    333\u001b[0m \u001b[39m    \u001b[39m\u001b[39m\"\"\"Return the Python representation of ``s`` (a ``str`` instance\u001b[39;00m\n\u001b[1;32m    334\u001b[0m \u001b[39m    containing a JSON document).\u001b[39;00m\n\u001b[1;32m    335\u001b[0m \n\u001b[1;32m    336\u001b[0m \u001b[39m    \"\"\"\u001b[39;00m\n\u001b[0;32m--> 337\u001b[0m     obj, end \u001b[39m=\u001b[39m \u001b[39mself\u001b[39;49m\u001b[39m.\u001b[39;49mraw_decode(s, idx\u001b[39m=\u001b[39;49m_w(s, \u001b[39m0\u001b[39;49m)\u001b[39m.\u001b[39;49mend())\n\u001b[1;32m    338\u001b[0m     end \u001b[39m=\u001b[39m _w(s, end)\u001b[39m.\u001b[39mend()\n\u001b[1;32m    339\u001b[0m     \u001b[39mif\u001b[39;00m end \u001b[39m!=\u001b[39m \u001b[39mlen\u001b[39m(s):\n",
      "File \u001b[0;32m~/anaconda3/envs/as/lib/python3.10/json/decoder.py:353\u001b[0m, in \u001b[0;36mJSONDecoder.raw_decode\u001b[0;34m(self, s, idx)\u001b[0m\n\u001b[1;32m    344\u001b[0m \u001b[39m\u001b[39m\u001b[39m\"\"\"Decode a JSON document from ``s`` (a ``str`` beginning with\u001b[39;00m\n\u001b[1;32m    345\u001b[0m \u001b[39ma JSON document) and return a 2-tuple of the Python\u001b[39;00m\n\u001b[1;32m    346\u001b[0m \u001b[39mrepresentation and the index in ``s`` where the document ended.\u001b[39;00m\n\u001b[0;32m   (...)\u001b[0m\n\u001b[1;32m    350\u001b[0m \n\u001b[1;32m    351\u001b[0m \u001b[39m\"\"\"\u001b[39;00m\n\u001b[1;32m    352\u001b[0m \u001b[39mtry\u001b[39;00m:\n\u001b[0;32m--> 353\u001b[0m     obj, end \u001b[39m=\u001b[39m \u001b[39mself\u001b[39;49m\u001b[39m.\u001b[39;49mscan_once(s, idx)\n\u001b[1;32m    354\u001b[0m \u001b[39mexcept\u001b[39;00m \u001b[39mStopIteration\u001b[39;00m \u001b[39mas\u001b[39;00m err:\n\u001b[1;32m    355\u001b[0m     \u001b[39mraise\u001b[39;00m JSONDecodeError(\u001b[39m\"\u001b[39m\u001b[39mExpecting value\u001b[39m\u001b[39m\"\u001b[39m, s, err\u001b[39m.\u001b[39mvalue) \u001b[39mfrom\u001b[39;00m \u001b[39mNone\u001b[39;00m\n",
      "\u001b[0;31mJSONDecodeError\u001b[0m: Expecting ',' delimiter: line 1 column 17 (char 16)"
     ]
    }
   ],
   "source": [
    "with open(temp_path, 'w') as f:\n",
    "    f.write('{\"numerator\": 1 bad data') # json 형식이 아님\n",
    "    \n",
    "divide_json(temp_path) # finally 까지 호출"
   ]
  },
  {
   "cell_type": "code",
   "execution_count": null,
   "metadata": {},
   "outputs": [],
   "source": [
    "from threading import Lock\n",
    "\n",
    "lock = Lock()\n",
    "\n",
    "with lock:\n",
    "    # 어떤 불변 조건을 유지하면서 작업 수행\n",
    "    ...\n",
    "    \n"
   ]
  },
  {
   "cell_type": "markdown",
   "metadata": {},
   "source": [
    "Lock 클래서가 with문을 적절히 활성화 해주므로 위 예제는 다음 try/finally 구조와 동등하다\n"
   ]
  },
  {
   "cell_type": "code",
   "execution_count": null,
   "metadata": {},
   "outputs": [],
   "source": [
    "lock.acquire()\n",
    "\n",
    "try:\n",
    "    # 어떤 불변 조건을 유지하면서 작업을 수행한다\n",
    "    ...\n",
    "finally:\n",
    "    lock.release()"
   ]
  },
  {
   "cell_type": "markdown",
   "metadata": {},
   "source": [
    "이 경우에는 with 문쪽이 더 낫다 try/finally 구조의 반복사용을 피하고 acquire에 대응하는 release 실수로 빠뜨리는 경우를 방지 할 수 있다"
   ]
  },
  {
   "cell_type": "markdown",
   "metadata": {},
   "source": [
    "contextlib 내장 모듈을 사용하면 객체나 함수를 with 문에서 쉽게 쓸 수 있다\n",
    "\n",
    "예를 들어 어떤 코드 영역에서 디버깅 관련 로그를 더 많이 남기고 싶다면\n",
    "다음 코드는 두 단계의 심각성 수준에서 디버깅 로그를 남기는 함수를 정의한다"
   ]
  },
  {
   "cell_type": "code",
   "execution_count": 23,
   "metadata": {},
   "outputs": [
    {
     "name": "stderr",
     "output_type": "stream",
     "text": [
      "ERROR:root:이 부분은 오류 로그\n"
     ]
    }
   ],
   "source": [
    "import logging\n",
    "def my_function():\n",
    "    logging.debug('디버깅 데이터')\n",
    "    logging.error('이 부분은 오류 로그')\n",
    "    logging.debug('추가 디버깅 데이터 ')\n",
    "    \n",
    "my_function() # 프로그램의 디폴드 로그 수준은 Warning이라 이 함수를 실행하면 오류 메시지만 화면에 출력된다"
   ]
  },
  {
   "cell_type": "markdown",
   "metadata": {},
   "source": [
    " 컨텍스트 매니저를 정의하면 이 함수의 로그수준을 일시적으로 높일 수 있다\n",
    "\n",
    " with 블록을 실행하기전에 로그 심각성 수준을 높이고 블록 실행 직후에 이전 수준으로 회복"
   ]
  },
  {
   "cell_type": "code",
   "execution_count": 25,
   "metadata": {},
   "outputs": [],
   "source": [
    "from contextlib import contextmanager\n",
    "\n",
    "@contextmanager\n",
    "def debug_logging(level):\n",
    "    logger = logging.getLogger()\n",
    "    \n",
    "    old_level = logger.getEffectiveLevel()\n",
    "    logger.setLevel(level)\n",
    "    try:\n",
    "        yield # with 블록의 내용이 실행되는 부분을 저장한다 \n",
    "    finally:\n",
    "        logger.setLevel(old_level)\n",
    "        "
   ]
  },
  {
   "cell_type": "code",
   "execution_count": 32,
   "metadata": {},
   "outputs": [
    {
     "name": "stderr",
     "output_type": "stream",
     "text": [
      "DEBUG:root:디버깅 데이터\n",
      "ERROR:root:이 부분은 오류 로그\n",
      "DEBUG:root:추가 디버깅 데이터 \n",
      "ERROR:root:이 부분은 오류 로그\n"
     ]
    },
    {
     "name": "stdout",
     "output_type": "stream",
     "text": [
      "* 내부: \n",
      "* 외부:\n"
     ]
    }
   ],
   "source": [
    "with debug_logging(logging.DEBUG):\n",
    "    print('* 내부: ')\n",
    "    my_function()\n",
    "    \n",
    "print('* 외부:')\n",
    "my_function()"
   ]
  },
  {
   "cell_type": "code",
   "execution_count": null,
   "metadata": {},
   "outputs": [],
   "source": []
  }
 ],
 "metadata": {
  "kernelspec": {
   "display_name": "as",
   "language": "python",
   "name": "python3"
  },
  "language_info": {
   "codemirror_mode": {
    "name": "ipython",
    "version": 3
   },
   "file_extension": ".py",
   "mimetype": "text/x-python",
   "name": "python",
   "nbconvert_exporter": "python",
   "pygments_lexer": "ipython3",
   "version": "3.10.13"
  }
 },
 "nbformat": 4,
 "nbformat_minor": 2
}
