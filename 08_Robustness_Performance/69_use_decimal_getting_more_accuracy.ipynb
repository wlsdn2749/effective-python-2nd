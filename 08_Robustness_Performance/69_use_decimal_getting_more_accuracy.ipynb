{
 "cells": [
  {
   "cell_type": "code",
   "execution_count": null,
   "metadata": {},
   "outputs": [],
   "source": [
    "# 파이선 정수 타입은 실용적으로 어떤 크기의 정수든 표현 할 수 있다.\n",
    "\n",
    "# 2배 정밀도 부동소수점 타입은 IEEE 754 표준 * float32보다 2배 정밀도가 높음 "
   ]
  },
  {
   "cell_type": "code",
   "execution_count": 2,
   "metadata": {},
   "outputs": [
    {
     "name": "stdout",
     "output_type": "stream",
     "text": [
      "5.364999999999999\n",
      "5.36\n"
     ]
    }
   ],
   "source": [
    "# 미국과 남극 사이의 도수(분) 당 통화료가 1.45$/분 이라고 하면, 3분 42초 동안 통화하는 비용은?\n",
    "\n",
    "rate = 1.45\n",
    "seconds = 3*60 + 42\n",
    "cost = rate * seconds / 60\n",
    "\n",
    "print(cost) # 올바른값 5.365보다 1e^-14정도 더 작다\n",
    "\n",
    "# 이 값을 0.01달러 단위로 반올림하면 최종 요금이 늘어나지 않고 줄어들게 된다\n",
    "\n",
    "print(round(cost, 2)) # 0.05만큼 감소 .. "
   ]
  },
  {
   "cell_type": "code",
   "execution_count": 3,
   "metadata": {},
   "outputs": [
    {
     "name": "stdout",
     "output_type": "stream",
     "text": [
      "5.365\n"
     ]
    }
   ],
   "source": [
    "# decimal 내장 모듈에 들어있는 Decimal 클래스를 사용하면 ?\n",
    "# Decimal 클래스는 디폴트로 소수점 이하 28번째 자리까지고정 소수점 수 연산을 제공한다.\n",
    "\n",
    "# 심지어 자리수를 더 늘릴 수 도있다\n",
    "\n",
    "# Decimal을 사용하면 반올림 처리도 원하는 대로 더 정확히 할 수 있다.\n",
    "\n",
    "from decimal import Decimal\n",
    "rate = Decimal('1.45')\n",
    "seconds = Decimal(3*60 + 42)\n",
    "cost = rate * seconds / Decimal(60)\n",
    "print(cost) # 정확하다"
   ]
  },
  {
   "cell_type": "markdown",
   "metadata": {},
   "source": [
    "Decimal instance에 값을 저장하는 방법 2가지\n",
    "\n",
    "1. 숫자가들어있는 str을 Decimal 생성자에 저장 \n",
    "    - 부동소수점 연산 특성으로 인한 정밀도 손실을 막을 수 있다\n",
    "2. int나 float 인스턴스를 생성자에 저장 "
   ]
  },
  {
   "cell_type": "code",
   "execution_count": 5,
   "metadata": {},
   "outputs": [
    {
     "name": "stdout",
     "output_type": "stream",
     "text": [
      "1.45\n",
      "1.4499999999999999555910790149937383830547332763671875\n",
      "456\n",
      "456\n"
     ]
    }
   ],
   "source": [
    "print(Decimal('1.45'))\n",
    "print(Decimal(1.45)) \n",
    "# 서로 결과가 다르다\n",
    "\n",
    "print('456') \n",
    "print(456) # 정수는 괜찮다\n"
   ]
  },
  {
   "cell_type": "code",
   "execution_count": 35,
   "metadata": {},
   "outputs": [
    {
     "name": "stdout",
     "output_type": "stream",
     "text": [
      "1.62999999999999989341858963598497211933135986328125\n",
      "1.63\n"
     ]
    }
   ],
   "source": [
    "a = 1.63\n",
    "print(Decimal(a))\n",
    "print(Decimal(str(a))) # 이게 정확하다"
   ]
  },
  {
   "cell_type": "code",
   "execution_count": 37,
   "metadata": {},
   "outputs": [
    {
     "name": "stdout",
     "output_type": "stream",
     "text": [
      "0.004166666666666666666666666667\n",
      "0.00\n"
     ]
    }
   ],
   "source": [
    "# 연결 비용이 훨씬 저렴한 곳의 비용 계산을 원함\n",
    "\n",
    "rate = Decimal('0.05')\n",
    "seconds = Decimal('5')\n",
    "small_cost = rate * seconds / Decimal(60)\n",
    "print(small_cost) # 계산값이 너무 작아다\n",
    "\n",
    "print(round(small_cost, 2)) # 반올림하면 0"
   ]
  },
  {
   "cell_type": "markdown",
   "metadata": {},
   "source": [
    "원하는 소수점 이하 자리까지 원하는 방식으로 근삿값을 계산하는 내장함수가 들어있다!\n",
    "\n"
   ]
  },
  {
   "cell_type": "code",
   "execution_count": 39,
   "metadata": {},
   "outputs": [
    {
     "name": "stdout",
     "output_type": "stream",
     "text": [
      "반올림 전: 5.365 반올림 후: 5.37\n",
      "반올림 전: 0.004166666666666666666666666667 반올림 후 : 0.01\n"
     ]
    }
   ],
   "source": [
    "from decimal import ROUND_UP\n",
    "\n",
    "rounded = cost.quantize(Decimal('0.01'), rounding=ROUND_UP) # 소수점 둘째 자리까지 반올림 하려고함\n",
    "print(f'반올림 전: {cost} 반올림 후: {rounded}')\n",
    "\n",
    "rounded = small_cost.quantize(Decimal('0.01'), rounding=ROUND_UP)\n",
    "print(f'반올림 전: {small_cost} 반올림 후 : {rounded}')"
   ]
  },
  {
   "cell_type": "code",
   "execution_count": null,
   "metadata": {},
   "outputs": [],
   "source": []
  }
 ],
 "metadata": {
  "kernelspec": {
   "display_name": "as",
   "language": "python",
   "name": "python3"
  },
  "language_info": {
   "codemirror_mode": {
    "name": "ipython",
    "version": 3
   },
   "file_extension": ".py",
   "mimetype": "text/x-python",
   "name": "python",
   "nbconvert_exporter": "python",
   "pygments_lexer": "ipython3",
   "version": "3.10.13"
  }
 },
 "nbformat": 4,
 "nbformat_minor": 2
}
