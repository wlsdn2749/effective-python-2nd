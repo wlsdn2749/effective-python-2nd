{
 "cells": [
  {
   "cell_type": "code",
   "execution_count": 1,
   "metadata": {},
   "outputs": [
    {
     "name": "stdout",
     "output_type": "stream",
     "text": [
      "2020-08-27 19:13:04\n"
     ]
    }
   ],
   "source": [
    "import time\n",
    "\n",
    "now = 1598523184\n",
    "local_tuple = time.localtime(now) # 컴퓨터의 시간대에 맞는 지역시간으로 변환 (한국 : KST = Asia/Seoul)\n",
    "time_format = '%Y-%m-%d %H:%M:%S'\n",
    "time_str = time.strftime(time_format, local_tuple)\n",
    "print(time_str)"
   ]
  },
  {
   "cell_type": "code",
   "execution_count": 3,
   "metadata": {},
   "outputs": [
    {
     "name": "stdout",
     "output_type": "stream",
     "text": [
      "1598523184.0\n"
     ]
    }
   ],
   "source": [
    "# 반대로 변환\n",
    "time_tuple = time.strptime(time_str, time_format)\n",
    "utc_now = time.mktime(time_tuple)\n",
    "print(utc_now)"
   ]
  },
  {
   "cell_type": "markdown",
   "metadata": {},
   "source": [
    "어떤 지역 시간대에 속한 시간을 어떻게 다른 지역 시간대로 변환할까?\n",
    "\n",
    "time, localtime, strptime 함수가 반환하는 값을 직접 조적해 시간대를 변경하면\n",
    "\n",
    "각 지역의 법에 따라 조작되므로 좋은 생각은 아니다..\n",
    "\n",
    "세계 모든 주오ㅛ 도시의 출발/도축 시간을 변환하는건 복잡\n",
    "\n"
   ]
  },
  {
   "cell_type": "code",
   "execution_count": 5,
   "metadata": {},
   "outputs": [
    {
     "name": "stdout",
     "output_type": "stream",
     "text": [
      "2020-08-27 19:13:04\n"
     ]
    }
   ],
   "source": [
    "# 시간대 변경을 자동으로 처리해주는 설정 파일을 여러 운영체제가 제공해준다\n",
    "# 윈도우같은 플랫폼은 time이 제공하는 시간대 관련 기능 중 몇가지를 사용 할 수 없다\n",
    "\n",
    "import os\n",
    "if os.name == 'nt':\n",
    "    print('이 예제는 윈도우에서 작동하지 않습니다')\n",
    "    \n",
    "else:\n",
    "    parse_format = \"%Y-%m-%d %H:%M:%S %Z\" # %Z는 시간대를 뜻함\n",
    "    depart_icn = '2020-08-27 19:13:04 KST'\n",
    "    time_tuple = time.strptime(depart_icn, parse_format)\n",
    "    time_str = time.strftime(time_format , time_tuple)\n",
    "    print(time_str)"
   ]
  },
  {
   "cell_type": "markdown",
   "metadata": {},
   "source": [
    "사용자 컴퓨터의 운영체제나 언어 등의 locale 설정에따라 KST도 동작하지 않을 수 있다.\n",
    "\n",
    "또한 strptime에 PDT인 미국 태평양 시간대를 사용하면 안됀다"
   ]
  },
  {
   "cell_type": "code",
   "execution_count": 6,
   "metadata": {},
   "outputs": [
    {
     "ename": "ValueError",
     "evalue": "unconverted data remains:  PDT",
     "output_type": "error",
     "traceback": [
      "\u001b[0;31m---------------------------------------------------------------------------\u001b[0m",
      "\u001b[0;31mValueError\u001b[0m                                Traceback (most recent call last)",
      "\u001b[1;32m/workspace/effective_python_2nd/08_Robustness_Performance/67_use_datetime_in_localtime.ipynb 셀 6\u001b[0m line \u001b[0;36m2\n\u001b[1;32m      <a href='vscode-notebook-cell://ssh-remote%2Bmain/workspace/effective_python_2nd/08_Robustness_Performance/67_use_datetime_in_localtime.ipynb#X11sdnNjb2RlLXJlbW90ZQ%3D%3D?line=0'>1</a>\u001b[0m arrival_sfo \u001b[39m=\u001b[39m \u001b[39m'\u001b[39m\u001b[39m2020-08-28 04:13:04 PDT\u001b[39m\u001b[39m'\u001b[39m\n\u001b[0;32m----> <a href='vscode-notebook-cell://ssh-remote%2Bmain/workspace/effective_python_2nd/08_Robustness_Performance/67_use_datetime_in_localtime.ipynb#X11sdnNjb2RlLXJlbW90ZQ%3D%3D?line=1'>2</a>\u001b[0m time_tuple \u001b[39m=\u001b[39m time\u001b[39m.\u001b[39;49mstrptime(arrival_sfo, time_format)\n",
      "File \u001b[0;32m~/anaconda3/envs/as/lib/python3.10/_strptime.py:562\u001b[0m, in \u001b[0;36m_strptime_time\u001b[0;34m(data_string, format)\u001b[0m\n\u001b[1;32m    559\u001b[0m \u001b[39mdef\u001b[39;00m \u001b[39m_strptime_time\u001b[39m(data_string, \u001b[39mformat\u001b[39m\u001b[39m=\u001b[39m\u001b[39m\"\u001b[39m\u001b[39m%a\u001b[39;00m\u001b[39m \u001b[39m\u001b[39m%\u001b[39m\u001b[39mb \u001b[39m\u001b[39m%d\u001b[39;00m\u001b[39m \u001b[39m\u001b[39m%\u001b[39m\u001b[39mH:\u001b[39m\u001b[39m%\u001b[39m\u001b[39mM:\u001b[39m\u001b[39m%\u001b[39m\u001b[39mS \u001b[39m\u001b[39m%\u001b[39m\u001b[39mY\u001b[39m\u001b[39m\"\u001b[39m):\n\u001b[1;32m    560\u001b[0m \u001b[39m    \u001b[39m\u001b[39m\"\"\"Return a time struct based on the input string and the\u001b[39;00m\n\u001b[1;32m    561\u001b[0m \u001b[39m    format string.\"\"\"\u001b[39;00m\n\u001b[0;32m--> 562\u001b[0m     tt \u001b[39m=\u001b[39m _strptime(data_string, \u001b[39mformat\u001b[39;49m)[\u001b[39m0\u001b[39m]\n\u001b[1;32m    563\u001b[0m     \u001b[39mreturn\u001b[39;00m time\u001b[39m.\u001b[39mstruct_time(tt[:time\u001b[39m.\u001b[39m_STRUCT_TM_ITEMS])\n",
      "File \u001b[0;32m~/anaconda3/envs/as/lib/python3.10/_strptime.py:352\u001b[0m, in \u001b[0;36m_strptime\u001b[0;34m(data_string, format)\u001b[0m\n\u001b[1;32m    349\u001b[0m     \u001b[39mraise\u001b[39;00m \u001b[39mValueError\u001b[39;00m(\u001b[39m\"\u001b[39m\u001b[39mtime data \u001b[39m\u001b[39m%r\u001b[39;00m\u001b[39m does not match format \u001b[39m\u001b[39m%r\u001b[39;00m\u001b[39m\"\u001b[39m \u001b[39m%\u001b[39m\n\u001b[1;32m    350\u001b[0m                      (data_string, \u001b[39mformat\u001b[39m))\n\u001b[1;32m    351\u001b[0m \u001b[39mif\u001b[39;00m \u001b[39mlen\u001b[39m(data_string) \u001b[39m!=\u001b[39m found\u001b[39m.\u001b[39mend():\n\u001b[0;32m--> 352\u001b[0m     \u001b[39mraise\u001b[39;00m \u001b[39mValueError\u001b[39;00m(\u001b[39m\"\u001b[39m\u001b[39munconverted data remains: \u001b[39m\u001b[39m%s\u001b[39;00m\u001b[39m\"\u001b[39m \u001b[39m%\u001b[39m\n\u001b[1;32m    353\u001b[0m                       data_string[found\u001b[39m.\u001b[39mend():])\n\u001b[1;32m    355\u001b[0m iso_year \u001b[39m=\u001b[39m year \u001b[39m=\u001b[39m \u001b[39mNone\u001b[39;00m\n\u001b[1;32m    356\u001b[0m month \u001b[39m=\u001b[39m day \u001b[39m=\u001b[39m \u001b[39m1\u001b[39m\n",
      "\u001b[0;31mValueError\u001b[0m: unconverted data remains:  PDT"
     ]
    }
   ],
   "source": [
    "arrival_sfo = '2020-08-28 04:13:04 PDT'\n",
    "time_tuple = time.strptime(arrival_sfo, time_format)\n",
    "\n",
    "# 플랫폼애 따라 다르게 작동한다. 그래서 python의 time 모듈은 신뢰할 수 없다."
   ]
  },
  {
   "cell_type": "code",
   "execution_count": 7,
   "metadata": {},
   "outputs": [
    {
     "name": "stdout",
     "output_type": "stream",
     "text": [
      "2020-08-27 19:13:04+09:00\n"
     ]
    }
   ],
   "source": [
    "from datetime import datetime, timezone\n",
    "\n",
    "now = datetime(2020, 8, 27, 10, 13, 4) # 시간대 설정이 안된 시간을 만듦\n",
    "now_utc = now.replace(tzinfo=timezone.utc) # 시간대를 UTC로 강제지정 \n",
    "now_local = now_utc.astimezone() # UTC 시간대를 디폴트 시간대로 변환\n",
    "print(now_local)\n"
   ]
  },
  {
   "cell_type": "code",
   "execution_count": 8,
   "metadata": {},
   "outputs": [
    {
     "name": "stdout",
     "output_type": "stream",
     "text": [
      "1598523184.0\n"
     ]
    }
   ],
   "source": [
    "time_str = '2020-08-27 19:13:04' # 지역 시간\n",
    "now = datetime.strptime(time_str, time_format) # 시간대 설정이 안된 시간\n",
    "\n",
    "time_tuple = now.timetuple() # 유닉스 시간 구조체로 변환\n",
    "utc_now = time.mktime(time_tuple) # 구조체로 부터 유닉스 타임스탬프 생성\n",
    "print(utc_now)"
   ]
  },
  {
   "cell_type": "markdown",
   "metadata": {},
   "source": [
    "datetime은 한 지역의 시간을 다른 지역 시간으로 바꾸는 신뢰할 수 있는 기능을 제공한다\n",
    "\n",
    "하지만 datetime은 자신의 tzinfo 클래스와 이 클래스 안에 들어있는 메서드에 대해서만 시간대 관련 기능을 제공한다\n",
    "\n",
    "파이썬 기본 설치에는 utc를 제외한 시간대 정의가 들어있지 않다\n",
    "\n",
    "pytz 모듈은 모든 시간대의 완전한 데이터베이스가 들어있다"
   ]
  },
  {
   "cell_type": "code",
   "execution_count": 17,
   "metadata": {},
   "outputs": [
    {
     "name": "stdout",
     "output_type": "stream",
     "text": [
      "2023-12-21 08:15:14+00:00\n"
     ]
    }
   ],
   "source": [
    "# 지역시간을 UTC로 먼저 바꿔야 한다\n",
    "# datetime연산 offset 연산등 .. 마지막으로 UTC를 지역시간으로 바꿔라\n",
    "\n",
    "# 샌프란시슼의 비행기 도착시간을 UTC datetime으로 변환\n",
    "\n",
    "import pytz\n",
    "\n",
    "arrival_sfo = '2023-12-21 17:15:14' # current local time\n",
    "sfo_dt_naive = datetime.strptime(arrival_sfo, time_format) # 시간대가 설정되지 않은 시간\n",
    "korea = pytz.timezone('Asia/Seoul') # 한국의 시간대\n",
    "sfo_dt = korea.localize(sfo_dt_naive) # 시간대를 한국 시간대로 변경\n",
    "utc_dt = pytz.utc.normalize(sfo_dt.astimezone(pytz.utc)) #UTC로 변경\n",
    "print(utc_dt) # utc로 변경"
   ]
  },
  {
   "cell_type": "code",
   "execution_count": 18,
   "metadata": {},
   "outputs": [
    {
     "name": "stdout",
     "output_type": "stream",
     "text": [
      "2023-12-21 17:15:14+09:00\n"
     ]
    }
   ],
   "source": [
    "korea = pytz.timezone('Asia/Seoul')\n",
    "korea_dt = korea.normalize(utc_dt.astimezone(korea)) # UTC datetime을 Korea로 변경\n",
    "print(korea_dt)"
   ]
  },
  {
   "cell_type": "code",
   "execution_count": 20,
   "metadata": {},
   "outputs": [
    {
     "name": "stdout",
     "output_type": "stream",
     "text": [
      "2023-12-21 14:00:14+05:45\n"
     ]
    }
   ],
   "source": [
    "nepal = pytz.timezone('Asia/Katmandu')\n",
    "nepal_dt = nepal.normalize(utc_dt.astimezone(nepal))\n",
    "print(nepal_dt)"
   ]
  },
  {
   "cell_type": "code",
   "execution_count": 23,
   "metadata": {},
   "outputs": [
    {
     "name": "stdout",
     "output_type": "stream",
     "text": [
      "2023-12-21 00:15:14-08:00\n"
     ]
    }
   ],
   "source": [
    "sp = pytz.timezone('US/Pacific')\n",
    "sp_dt = sp.normalize(utc_dt.astimezone(sp))\n",
    "print(sp_dt)"
   ]
  },
  {
   "cell_type": "code",
   "execution_count": null,
   "metadata": {},
   "outputs": [],
   "source": []
  },
  {
   "cell_type": "code",
   "execution_count": null,
   "metadata": {},
   "outputs": [],
   "source": []
  }
 ],
 "metadata": {
  "kernelspec": {
   "display_name": "as",
   "language": "python",
   "name": "python3"
  },
  "language_info": {
   "codemirror_mode": {
    "name": "ipython",
    "version": 3
   },
   "file_extension": ".py",
   "mimetype": "text/x-python",
   "name": "python",
   "nbconvert_exporter": "python",
   "pygments_lexer": "ipython3",
   "version": "3.10.13"
  }
 },
 "nbformat": 4,
 "nbformat_minor": 2
}
