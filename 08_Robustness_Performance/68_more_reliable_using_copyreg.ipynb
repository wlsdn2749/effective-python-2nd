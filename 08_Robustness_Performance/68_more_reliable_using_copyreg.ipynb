{
 "cells": [
  {
   "cell_type": "markdown",
   "metadata": {},
   "source": [
    "pickle의 모듈의 직렬화 방식은 안전하지 않다\n",
    "\n",
    "pickle의 데이터가 자신을 역직렬화 하는 파이썬 프로ㅡ램의 일부를 취약하게 만들 수도 있다.\n",
    "\n",
    "반대로 json 모듈은 설계상 안전하다. 직렬화한 Json 데이터에는 객체 계층 구조를 간단하게 묘사한 값이 들어있다.\n",
    "\n",
    "JSON 데이터를 역직렬화해도 파이썬 프로그램이 추가적인 위험에 노출되는 일은 없다.\n",
    "서로를 신뢰할 수 없는 프로그램이 통신해야 할 경우에는 JSON 같은 형식을 사용해야한다.\n",
    "\n"
   ]
  },
  {
   "cell_type": "markdown",
   "metadata": {},
   "source": []
  },
  {
   "cell_type": "markdown",
   "metadata": {},
   "source": [
    "class GameState:"
   ]
  },
  {
   "cell_type": "code",
   "execution_count": null,
   "metadata": {
    "vscode": {
     "languageId": "plaintext"
    }
   },
   "outputs": [],
   "source": []
  },
  {
   "cell_type": "code",
   "execution_count": null,
   "metadata": {
    "vscode": {
     "languageId": "plaintext"
    }
   },
   "outputs": [],
   "source": []
  }
 ],
 "metadata": {
  "language_info": {
   "name": "python"
  }
 },
 "nbformat": 4,
 "nbformat_minor": 2
}
