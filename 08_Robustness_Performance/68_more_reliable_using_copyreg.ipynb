{
 "cells": [
  {
   "cell_type": "markdown",
   "metadata": {},
   "source": [
    "pickle의 모듈의 직렬화 방식은 안전하지 않다\n",
    "\n",
    "pickle의 데이터가 자신을 역직렬화 하는 파이썬 프로ㅡ램의 일부를 취약하게 만들 수도 있다.\n",
    "\n",
    "반대로 json 모듈은 설계상 안전하다. 직렬화한 Json 데이터에는 객체 계층 구조를 간단하게 묘사한 값이 들어있다.\n",
    "\n",
    "JSON 데이터를 역직렬화해도 파이썬 프로그램이 추가적인 위험에 노출되는 일은 없다.\n",
    "서로를 신뢰할 수 없는 프로그램이 통신해야 할 경우에는 JSON 같은 형식을 사용해야한다.\n",
    "\n"
   ]
  },
  {
   "cell_type": "markdown",
   "metadata": {},
   "source": []
  },
  {
   "cell_type": "code",
   "execution_count": 1,
   "metadata": {},
   "outputs": [
    {
     "name": "stdout",
     "output_type": "stream",
     "text": [
      "{'level': 1, 'lives': 3}\n"
     ]
    }
   ],
   "source": [
    "class GameState:\n",
    "    def __init__(self):\n",
    "        self.level = 0\n",
    "        self.lives = 4\n",
    "        \n",
    "state = GameState()\n",
    "state.level += 1 # 레벨을 깼다\n",
    "state.lives -= 1 # 한 번 재시도 해야함\n",
    "\n",
    "print(state.__dict__)"
   ]
  },
  {
   "cell_type": "code",
   "execution_count": 2,
   "metadata": {},
   "outputs": [],
   "source": [
    "# 사용자가 게임을 그만두면 나중에 이어서 저장할 수 있도록 프로그램이 게임 상태를 파일에 저장하며\n",
    "\n",
    "# pickle 모듈을 사용하면 사앹를 수비게 저장할 수 있다\n",
    "\n",
    "import pickle\n",
    "\n",
    "state_path = 'game_state.bin'\n",
    "with open(state_path, 'wb') as f:\n",
    "    pickle.dump(state, f)\n",
    "\n"
   ]
  },
  {
   "cell_type": "code",
   "execution_count": 3,
   "metadata": {},
   "outputs": [
    {
     "name": "stdout",
     "output_type": "stream",
     "text": [
      "{'level': 1, 'lives': 3}\n"
     ]
    }
   ],
   "source": [
    "# 나중에 이 파일에 대해 load 함수를 호출하면 직렬화 한 적이 전혀 없었던 것 처럼 다시 GameState 객체를 돌려 받을 수 있다.\n",
    "\n",
    "with open(state_path, 'rb') as f:\n",
    "    state_after = pickle.load(f)\n",
    "    \n",
    "print(state_after.__dict__) # 원본 dict 그대로"
   ]
  },
  {
   "cell_type": "markdown",
   "metadata": {},
   "source": [
    "이런 접근 방법을 사용하면 시간이 지나면서 게임 기능이 확장 될 때 문제가 발생한다.\n",
    "\n",
    "플레이어가 최고점을 목표로 점수를 얻을 수 있게 게임을 변경하면\n",
    "\n"
   ]
  },
  {
   "cell_type": "code",
   "execution_count": 4,
   "metadata": {},
   "outputs": [],
   "source": [
    "class GameState:\n",
    "    def __init__(self):\n",
    "        self.level = 0\n",
    "        self.lives = 4\n",
    "        self.points = 0 # 새로운 필드\n",
    "        "
   ]
  },
  {
   "cell_type": "code",
   "execution_count": 5,
   "metadata": {},
   "outputs": [
    {
     "name": "stdout",
     "output_type": "stream",
     "text": [
      "{'level': 0, 'lives': 4, 'points': 0}\n"
     ]
    }
   ],
   "source": [
    "state = GameState()\n",
    "serialized = pickle.dumps(state)\n",
    "state_after = pickle.loads(serialized)\n",
    "print(state_after.__dict__)\n",
    "\n"
   ]
  },
  {
   "cell_type": "code",
   "execution_count": 7,
   "metadata": {},
   "outputs": [
    {
     "name": "stdout",
     "output_type": "stream",
     "text": [
      "{'level': 1, 'lives': 3}\n",
      "<class '__main__.GameState'>\n"
     ]
    }
   ],
   "source": [
    "with open(state_path, 'rb') as f:\n",
    "    state_after = pickle.load(f)\n",
    "    \n",
    "print(state_after.__dict__) # points필드가 사라졌다\n",
    "print(type(state_after)) # GameState의 Instance임에도 불구하고!\n",
    "assert isinstance(state_after, GameState)"
   ]
  },
  {
   "cell_type": "markdown",
   "metadata": {},
   "source": [
    "디폴트 애트리뷰트 값 가장 간단한 경우, 디폴트 인자를 생성자로 사용하면 GameState객체를 언피클 했을때도 항상 필요한 모든 인자를 포함시킬 수 이다\n",
    "\n"
   ]
  },
  {
   "cell_type": "code",
   "execution_count": 15,
   "metadata": {},
   "outputs": [],
   "source": [
    "import copyreg\n",
    "\n",
    "class GameState:\n",
    "    def __init__(self, level= 0, lives = 4, points = 0):\n",
    "        self.level = level\n",
    "        self.lives = lives\n",
    "        self.points = points\n",
    "        \n",
    "def unpickle_game_state(kwargs):\n",
    "    return GameState(**kwargs)\n",
    "\n",
    "def pickle_game_state(game_state):\n",
    "    kwargs = game_state.__dict__\n",
    "    return unpickle_game_state, (kwargs, )\n",
    "\n",
    "copyreg.pickle(GameState, pickle_game_state)"
   ]
  },
  {
   "cell_type": "code",
   "execution_count": 16,
   "metadata": {},
   "outputs": [
    {
     "name": "stdout",
     "output_type": "stream",
     "text": [
      "{'level': 0, 'lives': 4, 'points': 100}\n"
     ]
    }
   ],
   "source": [
    "state = GameState()\n",
    "state.points += 100\n",
    "serialized = pickle.dumps(state)\n",
    "state_after = pickle.loads(serialized)\n",
    "print(state_after.__dict__)"
   ]
  },
  {
   "cell_type": "code",
   "execution_count": 11,
   "metadata": {},
   "outputs": [],
   "source": [
    "class GameState:\n",
    "    def __init__(self, level= 0, lives = 4, points = 0, magic=5):\n",
    "        self.level = level\n",
    "        self.lives = lives\n",
    "        self.points = points\n",
    "        self.magic = magic # 추가한 필드"
   ]
  },
  {
   "cell_type": "code",
   "execution_count": 12,
   "metadata": {},
   "outputs": [
    {
     "name": "stdout",
     "output_type": "stream",
     "text": [
      "이전 {'level': 0, 'lives': 4, 'points': 100}\n",
      "이후: {'level': 0, 'lives': 4, 'points': 100, 'magic': 5}\n"
     ]
    }
   ],
   "source": [
    "print('이전', state.__dict__)\n",
    "state_after = pickle.loads(serialized)\n",
    "print('이후:', state_after.__dict__)"
   ]
  },
  {
   "cell_type": "markdown",
   "metadata": {},
   "source": [
    "파이썬 객체의 필드를 제거해 예전 버전 객체와의 하위호환성이 없어지는 경우도 발생한다..\n",
    "\n",
    "이런 식의 변경이 일어나면 디폴트 인자를 사용하는 접근 방법을 사용할 수 없다."
   ]
  },
  {
   "cell_type": "code",
   "execution_count": 25,
   "metadata": {},
   "outputs": [
    {
     "data": {
      "text/plain": [
       "<__main__.GameState at 0x7fc7602e9cc0>"
      ]
     },
     "execution_count": 25,
     "metadata": {},
     "output_type": "execute_result"
    }
   ],
   "source": [
    "class GameState:\n",
    "    def __init__(self, level=0, points=0, magic=5):\n",
    "        self.level = level\n",
    "        self.points = points\n",
    "        self.magic = magic\n",
    "\n",
    "pickle.loads(serialized) # 이전 데이터의 모든 필드가 GameState 생성자에게 전잘되므로 클래스에서 제거된 필드도 생성자에게 전달된다"
   ]
  },
  {
   "cell_type": "code",
   "execution_count": null,
   "metadata": {},
   "outputs": [],
   "source": []
  },
  {
   "cell_type": "code",
   "execution_count": 26,
   "metadata": {},
   "outputs": [],
   "source": [
    "def pickle_game_state(game_state):\n",
    "    kwargs = game_state.__dict__\n",
    "    kwargs['version'] = 2 # 버전 추가추가\n",
    "    return unpickle_game_state, (kwargs, ) \n",
    "\n",
    "# 이전 버전 데이터에는 version 인자가 들어 있지 않다. \n",
    "\n",
    "\n",
    "def unpickle_game_state(kwargs):\n",
    "    version = kwargs.pop('version', 1) # 'version'이 있으면 value return 없으면 1 리턴\n",
    "    if version == 1:\n",
    "        del kwargs['lives']\n",
    "        \n",
    "    return GameState(**kwargs)\n",
    "\n",
    "    "
   ]
  },
  {
   "cell_type": "code",
   "execution_count": 27,
   "metadata": {},
   "outputs": [
    {
     "name": "stdout",
     "output_type": "stream",
     "text": [
      "이전:  {'level': 0, 'lives': 4, 'points': 100}\n",
      "이후: {'level': 0, 'points': 100, 'magic': 5}\n"
     ]
    }
   ],
   "source": [
    "copyreg.pickle(GameState, pickle_game_state)\n",
    "print('이전: ', state.__dict__)\n",
    "state_after = pickle.loads(serialized)\n",
    "print('이후:', state_after.__dict__)"
   ]
  },
  {
   "cell_type": "markdown",
   "metadata": {},
   "source": [
    "pickle을 할 때 마주칠 수 있는 다른 문제점으로 클래스 이름이 바뀌어 코드가 깨지는 경우가 생긴다\n",
    "\n",
    "클래스 이름을 바꿀경우 무슨 일이 일어나는가?\n"
   ]
  },
  {
   "cell_type": "code",
   "execution_count": 29,
   "metadata": {},
   "outputs": [],
   "source": [
    "del GameState # 기존 GameState 객체 완전 제거"
   ]
  },
  {
   "cell_type": "code",
   "execution_count": 30,
   "metadata": {},
   "outputs": [
    {
     "ename": "NameError",
     "evalue": "name 'GameState' is not defined",
     "output_type": "error",
     "traceback": [
      "\u001b[0;31m---------------------------------------------------------------------------\u001b[0m",
      "\u001b[0;31mNameError\u001b[0m                                 Traceback (most recent call last)",
      "\u001b[1;32m/workspace/effective_python_2nd/08_Robustness_Performance/68_more_reliable_using_copyreg.ipynb 셀 22\u001b[0m line \u001b[0;36m7\n\u001b[1;32m      <a href='vscode-notebook-cell://ssh-remote%2Bmain/workspace/effective_python_2nd/08_Robustness_Performance/68_more_reliable_using_copyreg.ipynb#X45sdnNjb2RlLXJlbW90ZQ%3D%3D?line=3'>4</a>\u001b[0m         \u001b[39mself\u001b[39m\u001b[39m.\u001b[39mpoints \u001b[39m=\u001b[39m points\n\u001b[1;32m      <a href='vscode-notebook-cell://ssh-remote%2Bmain/workspace/effective_python_2nd/08_Robustness_Performance/68_more_reliable_using_copyreg.ipynb#X45sdnNjb2RlLXJlbW90ZQ%3D%3D?line=4'>5</a>\u001b[0m         \u001b[39mself\u001b[39m\u001b[39m.\u001b[39mmagic \u001b[39m=\u001b[39m magic\n\u001b[0;32m----> <a href='vscode-notebook-cell://ssh-remote%2Bmain/workspace/effective_python_2nd/08_Robustness_Performance/68_more_reliable_using_copyreg.ipynb#X45sdnNjb2RlLXJlbW90ZQ%3D%3D?line=6'>7</a>\u001b[0m pickle\u001b[39m.\u001b[39;49mloads(serialized)\n",
      "\u001b[1;32m/workspace/effective_python_2nd/08_Robustness_Performance/68_more_reliable_using_copyreg.ipynb 셀 22\u001b[0m line \u001b[0;36m1\n\u001b[1;32m     <a href='vscode-notebook-cell://ssh-remote%2Bmain/workspace/effective_python_2nd/08_Robustness_Performance/68_more_reliable_using_copyreg.ipynb#X45sdnNjb2RlLXJlbW90ZQ%3D%3D?line=10'>11</a>\u001b[0m \u001b[39mif\u001b[39;00m version \u001b[39m==\u001b[39m \u001b[39m1\u001b[39m:\n\u001b[1;32m     <a href='vscode-notebook-cell://ssh-remote%2Bmain/workspace/effective_python_2nd/08_Robustness_Performance/68_more_reliable_using_copyreg.ipynb#X45sdnNjb2RlLXJlbW90ZQ%3D%3D?line=11'>12</a>\u001b[0m     \u001b[39mdel\u001b[39;00m kwargs[\u001b[39m'\u001b[39m\u001b[39mlives\u001b[39m\u001b[39m'\u001b[39m]\n\u001b[0;32m---> <a href='vscode-notebook-cell://ssh-remote%2Bmain/workspace/effective_python_2nd/08_Robustness_Performance/68_more_reliable_using_copyreg.ipynb#X45sdnNjb2RlLXJlbW90ZQ%3D%3D?line=13'>14</a>\u001b[0m \u001b[39mreturn\u001b[39;00m GameState(\u001b[39m*\u001b[39m\u001b[39m*\u001b[39mkwargs)\n",
      "\u001b[0;31mNameError\u001b[0m: name 'GameState' is not defined"
     ]
    }
   ],
   "source": [
    "class BetterGameState:\n",
    "    def __init__(self, level=0, points=0, magic=5):\n",
    "        self.level = level\n",
    "        self.points = points\n",
    "        self.magic = magic\n",
    "        \n",
    "pickle.loads(serialized)"
   ]
  },
  {
   "cell_type": "code",
   "execution_count": 31,
   "metadata": {},
   "outputs": [
    {
     "name": "stdout",
     "output_type": "stream",
     "text": [
      "b'\\x80\\x04\\x95K\\x00\\x00\\x00\\x00\\x00\\x00\\x00\\x8c\\x08__main__\\x94\\x8c\\x13unpickle_game_state\\x94\\x93\\x94}\\x94(\\x8c\\x05level\\x94K\\x00\\x8c\\x05lives\\x94K\\x04\\x8c\\x06points\\x94Kdu\\x85\\x94R\\x94.'\n"
     ]
    }
   ],
   "source": [
    "print(serialized)\n",
    "# 피클된 데이터 안에 클래스 임포트 경로가 들어있다\n",
    "\n",
    "# 이 경우에도 copyreg이 해결방법이 될 수 있다."
   ]
  },
  {
   "cell_type": "code",
   "execution_count": 32,
   "metadata": {},
   "outputs": [
    {
     "name": "stdout",
     "output_type": "stream",
     "text": [
      "b'\\x80\\x04\\x95W\\x00\\x00\\x00\\x00\\x00\\x00\\x00\\x8c\\x08__main__\\x94\\x8c\\x13unpickle_game_state\\x94\\x93\\x94}\\x94(\\x8c\\x05level\\x94K\\x00\\x8c\\x06points\\x94K\\x00\\x8c\\x05magic\\x94K\\x05\\x8c\\x07version\\x94K\\x02u\\x85\\x94R\\x94.'\n"
     ]
    }
   ],
   "source": [
    "copyreg.pickle(BetterGameState, pickle_game_state)\n",
    "\n",
    "state = BetterGameState()\n",
    "serialized = pickle.dumps(state)\n",
    "print(serialized)"
   ]
  },
  {
   "cell_type": "code",
   "execution_count": null,
   "metadata": {},
   "outputs": [],
   "source": []
  }
 ],
 "metadata": {
  "kernelspec": {
   "display_name": "as",
   "language": "python",
   "name": "python3"
  },
  "language_info": {
   "codemirror_mode": {
    "name": "ipython",
    "version": 3
   },
   "file_extension": ".py",
   "mimetype": "text/x-python",
   "name": "python",
   "nbconvert_exporter": "python",
   "pygments_lexer": "ipython3",
   "version": "3.10.13"
  }
 },
 "nbformat": 4,
 "nbformat_minor": 2
}
