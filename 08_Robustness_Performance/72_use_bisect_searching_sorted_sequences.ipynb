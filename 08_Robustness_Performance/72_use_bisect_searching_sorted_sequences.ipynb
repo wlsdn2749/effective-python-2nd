{
 "cells": [
  {
   "cell_type": "markdown",
   "metadata": {},
   "source": [
    "프로그램이 구체적으로 처리해야 하는 정보의 유형이 무엇이든, 리스트에서 index 함수를 사용해 특정 값을 찾아내려면 리스트 길이에 선형으로 비례하는 시간이 필요하다"
   ]
  },
  {
   "cell_type": "code",
   "execution_count": 1,
   "metadata": {},
   "outputs": [],
   "source": [
    "data = list(range(10**5))\n",
    "index = data.index(91234)\n",
    "assert index == 91234"
   ]
  },
  {
   "cell_type": "code",
   "execution_count": 2,
   "metadata": {},
   "outputs": [],
   "source": [
    "def find_closest(sequence, goal):\n",
    "    for index, value in enumerate(sequence):\n",
    "        if goal < value:\n",
    "            return index\n",
    "    \n",
    "    raise ValueError(f'범위를 벗어남: {goal}')\n",
    "\n",
    "index = find_closest(data, 91234.56)\n",
    "assert index == 91235"
   ]
  },
  {
   "cell_type": "markdown",
   "metadata": {},
   "source": [
    "파이썬 내장 bisect 모듈은 순서가 정해져 있는 리스트에 대해 이런 유형의 검사를 더 효과적으로 수행한다.\n",
    "\n",
    "bisect_left 함수를 사용하면 정렬된 원소로 이루어진 시퀸스에 대해 이진 검색을 효율적으로 수행 할 수 있다.\n",
    "\n",
    "bisect_left가 반환하는 인덱스는 리스트에 찾는 값의 원소가 존재하지 않는 경우 이 원소의 인덱스 이며\n",
    "\n",
    "리스ㅡㅌ에 찾는 값의 원소가 존재하지 않을 경우 정렬 순서상 해당 값을 삽입해야할 자리의 인덱스다"
   ]
  },
  {
   "cell_type": "code",
   "execution_count": 3,
   "metadata": {},
   "outputs": [],
   "source": [
    "from bisect import bisect_left\n",
    "\n",
    "index = bisect_left(data, 91234) # 정확히 일치\n",
    "assert index == 91234\n",
    "\n",
    "index = bisect_left(data, 91234.56) # 근접한 값과 일치\n",
    "assert index == 91235\n",
    "\n",
    "index = bisect_left(data, 91234.33) # 근접한 값과 일치 ( 찾는 값 이상의 값 중에서 근접한 값을 찾음 )\n",
    "assert index == 91235\n"
   ]
  },
  {
   "cell_type": "markdown",
   "metadata": {},
   "source": [
    "timeit을 사용해 마이크로 벤치마크를 수행해서 bisect를 사용하면 실제 성능이 향상되는지 검증 할 수 있다."
   ]
  },
  {
   "cell_type": "code",
   "execution_count": 4,
   "metadata": {},
   "outputs": [
    {
     "name": "stdout",
     "output_type": "stream",
     "text": [
      "선형 검색: 15.796686 초\n",
      "이진 검색:  0.017057 초\n",
      "선형 검색이 926.1배 더걸림\n"
     ]
    }
   ],
   "source": [
    "import random\n",
    "import timeit\n",
    "\n",
    "size = 10 ** 5\n",
    "iterations = 1000\n",
    "\n",
    "data = list(range(size))\n",
    "to_lookup = [random.randint(0, size) for _ in range(iterations)]\n",
    "\n",
    "def run_linear(data, to_lookup):\n",
    "    for index in to_lookup:\n",
    "        data.index(index)\n",
    "        \n",
    "def run_bisect(data, to_lookup):\n",
    "    for index in to_lookup:\n",
    "        bisect_left(data, index)\n",
    "        \n",
    "        \n",
    "baseline = timeit.timeit(\n",
    "    stmt= 'run_linear(data, to_lookup)',\n",
    "    globals = globals(),\n",
    "    number = 10\n",
    ")\n",
    "print(f'선형 검색: {baseline :.6f} 초')\n",
    "\n",
    "comparison = timeit.timeit(\n",
    "    stmt = 'run_bisect(data, to_lookup)',\n",
    "    globals=globals(),\n",
    "    number=10\n",
    ")\n",
    "print(f'이진 검색: {comparison: .6f} 초')\n",
    "\n",
    "\n",
    "slowdown = 1 + ((baseline -comparison) / comparison)\n",
    "\n",
    "print(f'선형 검색이 {slowdown:.1f}배 더걸림')"
   ]
  },
  {
   "cell_type": "markdown",
   "metadata": {},
   "source": [
    "bisect에서 가장 좋은 점은 리스트 타입 뿐만 아니라 시퀀스 처럼 작동\n",
    "\n",
    "모든 파이썬 객체에 대해 bisect 모듈의 기능을 사용할 수 있다는 점이다."
   ]
  }
 ],
 "metadata": {
  "kernelspec": {
   "display_name": "as",
   "language": "python",
   "name": "python3"
  },
  "language_info": {
   "codemirror_mode": {
    "name": "ipython",
    "version": 3
   },
   "file_extension": ".py",
   "mimetype": "text/x-python",
   "name": "python",
   "nbconvert_exporter": "python",
   "pygments_lexer": "ipython3",
   "version": "3.10.13"
  }
 },
 "nbformat": 4,
 "nbformat_minor": 2
}
